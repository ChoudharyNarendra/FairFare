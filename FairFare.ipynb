{
 "cells": [
  {
   "cell_type": "code",
   "execution_count": 0,
   "metadata": {
    "application/vnd.databricks.v1+cell": {
     "cellMetadata": {
      "byteLimit": 2048000,
      "rowLimit": 10000
     },
     "inputWidgets": {},
     "nuid": "de619d62-f1b9-4d82-ad9a-c181b9076ddd",
     "showTitle": false,
     "tableResultSettingsMap": {},
     "title": ""
    }
   },
   "outputs": [],
   "source": [
    "import pandas as pd\n",
    "import numpy as np\n",
    "import seaborn as sns\n",
    "sns.set()"
   ]
  },
  {
   "cell_type": "code",
   "execution_count": 0,
   "metadata": {
    "application/vnd.databricks.v1+cell": {
     "cellMetadata": {
      "byteLimit": 2048000,
      "rowLimit": 10000
     },
     "inputWidgets": {},
     "nuid": "2e3f1f61-1bb5-4643-8ebe-d0c0bfb14b33",
     "showTitle": false,
     "tableResultSettingsMap": {},
     "title": ""
    }
   },
   "outputs": [
    {
     "output_type": "stream",
     "name": "stdout",
     "output_type": "stream",
     "text": [
      "Python interpreter will be restarted.\nRequirement already satisfied: openpyxl in /local_disk0/.ephemeral_nfs/envs/pythonEnv-76fee71b-33ec-4ebc-acf3-c3194aa82c39/lib/python3.9/site-packages (3.1.5)\nRequirement already satisfied: et-xmlfile in /local_disk0/.ephemeral_nfs/envs/pythonEnv-76fee71b-33ec-4ebc-acf3-c3194aa82c39/lib/python3.9/site-packages (from openpyxl) (2.0.0)\nPython interpreter will be restarted.\n"
     ]
    }
   ],
   "source": [
    "%pip install openpyxl"
   ]
  },
  {
   "cell_type": "code",
   "execution_count": 0,
   "metadata": {
    "application/vnd.databricks.v1+cell": {
     "cellMetadata": {
      "byteLimit": 2048000,
      "rowLimit": 10000
     },
     "inputWidgets": {},
     "nuid": "d608a837-3a0e-4eda-85ee-5d87951153a6",
     "showTitle": false,
     "tableResultSettingsMap": {},
     "title": ""
    }
   },
   "outputs": [
    {
     "output_type": "stream",
     "name": "stdout",
     "output_type": "stream",
     "text": [
      "Out[1]: [FileInfo(path='dbfs:/FileStore/shared_uploads/choudharynarendra1361s@gmail.com/a1_FlightFare_Dataset.xlsx', name='a1_FlightFare_Dataset.xlsx', size=498199, modificationTime=1732870469000),\n FileInfo(path='dbfs:/FileStore/shared_uploads/choudharynarendra1361s@gmail.com/a2_Unseen_Dataset-1.xlsx', name='a2_Unseen_Dataset-1.xlsx', size=42448, modificationTime=1732898260000),\n FileInfo(path='dbfs:/FileStore/shared_uploads/choudharynarendra1361s@gmail.com/a2_Unseen_Dataset-2.xlsx', name='a2_Unseen_Dataset-2.xlsx', size=42448, modificationTime=1732898684000),\n FileInfo(path='dbfs:/FileStore/shared_uploads/choudharynarendra1361s@gmail.com/a2_Unseen_Dataset.xlsx', name='a2_Unseen_Dataset.xlsx', size=42448, modificationTime=1732870823000),\n FileInfo(path='dbfs:/FileStore/shared_uploads/choudharynarendra1361s@gmail.com/airport.csv', name='airport.csv', size=84548, modificationTime=1732602974000),\n FileInfo(path='dbfs:/FileStore/shared_uploads/choudharynarendra1361s@gmail.com/book-1.txt', name='book-1.txt', size=303927, modificationTime=1717923495000),\n FileInfo(path='dbfs:/FileStore/shared_uploads/choudharynarendra1361s@gmail.com/book.txt', name='book.txt', size=303927, modificationTime=1717920814000),\n FileInfo(path='dbfs:/FileStore/shared_uploads/choudharynarendra1361s@gmail.com/flights_small.csv', name='flights_small.csv', size=614174, modificationTime=1732603182000),\n FileInfo(path='dbfs:/FileStore/shared_uploads/choudharynarendra1361s@gmail.com/planes.csv', name='planes.csv', size=219326, modificationTime=1732603182000),\n FileInfo(path='dbfs:/FileStore/shared_uploads/choudharynarendra1361s@gmail.com/runs.csv', name='runs.csv', size=24434, modificationTime=1717998918000)]"
     ]
    }
   ],
   "source": [
    "dbutils.fs.ls('/FileStore/shared_uploads/choudharynarendra1361s@gmail.com/')"
   ]
  },
  {
   "cell_type": "code",
   "execution_count": 0,
   "metadata": {
    "application/vnd.databricks.v1+cell": {
     "cellMetadata": {
      "byteLimit": 2048000,
      "rowLimit": 10000
     },
     "inputWidgets": {},
     "nuid": "baa3620f-bab8-4a09-8817-34d8f7481634",
     "showTitle": false,
     "tableResultSettingsMap": {},
     "title": ""
    }
   },
   "outputs": [
    {
     "output_type": "stream",
     "name": "stdout",
     "output_type": "stream",
     "text": [
      "Out[2]: True"
     ]
    }
   ],
   "source": [
    "# Copy the file to a local path for Pandas\n",
    "dbutils.fs.cp(\n",
    "    \"dbfs:/FileStore/shared_uploads/choudharynarendra1361s@gmail.com/a1_FlightFare_Dataset.xlsx\",\n",
    "    \"file:/tmp/a1_FlightFare_Dataset.xlsx\"\n",
    ")\n"
   ]
  },
  {
   "cell_type": "code",
   "execution_count": 0,
   "metadata": {
    "application/vnd.databricks.v1+cell": {
     "cellMetadata": {
      "byteLimit": 2048000,
      "rowLimit": 10000
     },
     "inputWidgets": {},
     "nuid": "99a3a90f-4ffe-437c-80f1-3127a50013e2",
     "showTitle": false,
     "tableResultSettingsMap": {},
     "title": ""
    }
   },
   "outputs": [
    {
     "output_type": "stream",
     "name": "stdout",
     "output_type": "stream",
     "text": [
      "+--------------------+-------------------+------+--------------------+\n|                path|   modificationTime|length|             content|\n+--------------------+-------------------+------+--------------------+\n|dbfs:/FileStore/s...|2024-11-29 08:54:29|498199|[50 4B 03 04 14 0...|\n+--------------------+-------------------+------+--------------------+\n\n"
     ]
    }
   ],
   "source": [
    "# Read the file using Spark to verify it exists\n",
    "spark.read.format(\"binaryFile\").load(\"dbfs:/FileStore/shared_uploads/choudharynarendra1361s@gmail.com/a1_FlightFare_Dataset.xlsx\").show()\n"
   ]
  },
  {
   "cell_type": "code",
   "execution_count": 0,
   "metadata": {
    "application/vnd.databricks.v1+cell": {
     "cellMetadata": {
      "byteLimit": 2048000,
      "rowLimit": 10000
     },
     "inputWidgets": {},
     "nuid": "eb41f47c-c873-404e-ad37-0737626d6fab",
     "showTitle": false,
     "tableResultSettingsMap": {},
     "title": ""
    }
   },
   "outputs": [
    {
     "output_type": "display_data",
     "data": {
      "application/vnd.databricks.v1+bamboolib_hint": "{\"pd.DataFrames\": [], \"version\": \"0.0.1\"}",
      "text/plain": []
     },
     "metadata": {},
     "output_type": "display_data"
    },
    {
     "output_type": "display_data",
     "data": {
      "text/html": [
       "<div>\n",
       "<style scoped>\n",
       "    .dataframe tbody tr th:only-of-type {\n",
       "        vertical-align: middle;\n",
       "    }\n",
       "\n",
       "    .dataframe tbody tr th {\n",
       "        vertical-align: top;\n",
       "    }\n",
       "\n",
       "    .dataframe thead th {\n",
       "        text-align: right;\n",
       "    }\n",
       "</style>\n",
       "<table border=\"1\" class=\"dataframe\">\n",
       "  <thead>\n",
       "    <tr style=\"text-align: right;\">\n",
       "      <th></th>\n",
       "      <th>Airline</th>\n",
       "      <th>Date_of_Journey</th>\n",
       "      <th>Source</th>\n",
       "      <th>Destination</th>\n",
       "      <th>Route</th>\n",
       "      <th>Dep_Time</th>\n",
       "      <th>Arrival_Time</th>\n",
       "      <th>Duration</th>\n",
       "      <th>Total_Stops</th>\n",
       "      <th>Additional_Info</th>\n",
       "      <th>Price</th>\n",
       "    </tr>\n",
       "  </thead>\n",
       "  <tbody>\n",
       "    <tr>\n",
       "      <th>0</th>\n",
       "      <td>IndiGo</td>\n",
       "      <td>24/03/2019</td>\n",
       "      <td>Banglore</td>\n",
       "      <td>New Delhi</td>\n",
       "      <td>BLR → DEL</td>\n",
       "      <td>22:20</td>\n",
       "      <td>01:10 22 Mar</td>\n",
       "      <td>2h 50m</td>\n",
       "      <td>non-stop</td>\n",
       "      <td>No info</td>\n",
       "      <td>3897.0</td>\n",
       "    </tr>\n",
       "    <tr>\n",
       "      <th>1</th>\n",
       "      <td>Air India</td>\n",
       "      <td>1/05/2019</td>\n",
       "      <td>Kolkata</td>\n",
       "      <td>Banglore</td>\n",
       "      <td>CCU → IXR → BBI → BLR</td>\n",
       "      <td>05:50</td>\n",
       "      <td>13:15</td>\n",
       "      <td>7h 25m</td>\n",
       "      <td>2 stops</td>\n",
       "      <td>No info</td>\n",
       "      <td>7662.0</td>\n",
       "    </tr>\n",
       "    <tr>\n",
       "      <th>2</th>\n",
       "      <td>Jet Airways</td>\n",
       "      <td>9/06/2019</td>\n",
       "      <td>Delhi</td>\n",
       "      <td>Cochin</td>\n",
       "      <td>DEL → LKO → BOM → COK</td>\n",
       "      <td>09:25</td>\n",
       "      <td>04:25 10 Jun</td>\n",
       "      <td>19h</td>\n",
       "      <td>2 stops</td>\n",
       "      <td>No info</td>\n",
       "      <td>13882.0</td>\n",
       "    </tr>\n",
       "    <tr>\n",
       "      <th>3</th>\n",
       "      <td>IndiGo</td>\n",
       "      <td>12/05/2019</td>\n",
       "      <td>Kolkata</td>\n",
       "      <td>Banglore</td>\n",
       "      <td>CCU → NAG → BLR</td>\n",
       "      <td>18:05</td>\n",
       "      <td>23:30</td>\n",
       "      <td>5h 25m</td>\n",
       "      <td>1 stop</td>\n",
       "      <td>No info</td>\n",
       "      <td>6218.0</td>\n",
       "    </tr>\n",
       "    <tr>\n",
       "      <th>4</th>\n",
       "      <td>IndiGo</td>\n",
       "      <td>01/03/2019</td>\n",
       "      <td>Banglore</td>\n",
       "      <td>New Delhi</td>\n",
       "      <td>BLR → NAG → DEL</td>\n",
       "      <td>16:50</td>\n",
       "      <td>21:35</td>\n",
       "      <td>4h 45m</td>\n",
       "      <td>1 stop</td>\n",
       "      <td>No info</td>\n",
       "      <td>13302.0</td>\n",
       "    </tr>\n",
       "  </tbody>\n",
       "</table>\n",
       "</div>"
      ]
     },
     "metadata": {
      "application/vnd.databricks.v1+output": {
       "addedWidgets": {},
       "arguments": {},
       "data": "<div>\n<style scoped>\n    .dataframe tbody tr th:only-of-type {\n        vertical-align: middle;\n    }\n\n    .dataframe tbody tr th {\n        vertical-align: top;\n    }\n\n    .dataframe thead th {\n        text-align: right;\n    }\n</style>\n<table border=\"1\" class=\"dataframe\">\n  <thead>\n    <tr style=\"text-align: right;\">\n      <th></th>\n      <th>Airline</th>\n      <th>Date_of_Journey</th>\n      <th>Source</th>\n      <th>Destination</th>\n      <th>Route</th>\n      <th>Dep_Time</th>\n      <th>Arrival_Time</th>\n      <th>Duration</th>\n      <th>Total_Stops</th>\n      <th>Additional_Info</th>\n      <th>Price</th>\n    </tr>\n  </thead>\n  <tbody>\n    <tr>\n      <th>0</th>\n      <td>IndiGo</td>\n      <td>24/03/2019</td>\n      <td>Banglore</td>\n      <td>New Delhi</td>\n      <td>BLR → DEL</td>\n      <td>22:20</td>\n      <td>01:10 22 Mar</td>\n      <td>2h 50m</td>\n      <td>non-stop</td>\n      <td>No info</td>\n      <td>3897.0</td>\n    </tr>\n    <tr>\n      <th>1</th>\n      <td>Air India</td>\n      <td>1/05/2019</td>\n      <td>Kolkata</td>\n      <td>Banglore</td>\n      <td>CCU → IXR → BBI → BLR</td>\n      <td>05:50</td>\n      <td>13:15</td>\n      <td>7h 25m</td>\n      <td>2 stops</td>\n      <td>No info</td>\n      <td>7662.0</td>\n    </tr>\n    <tr>\n      <th>2</th>\n      <td>Jet Airways</td>\n      <td>9/06/2019</td>\n      <td>Delhi</td>\n      <td>Cochin</td>\n      <td>DEL → LKO → BOM → COK</td>\n      <td>09:25</td>\n      <td>04:25 10 Jun</td>\n      <td>19h</td>\n      <td>2 stops</td>\n      <td>No info</td>\n      <td>13882.0</td>\n    </tr>\n    <tr>\n      <th>3</th>\n      <td>IndiGo</td>\n      <td>12/05/2019</td>\n      <td>Kolkata</td>\n      <td>Banglore</td>\n      <td>CCU → NAG → BLR</td>\n      <td>18:05</td>\n      <td>23:30</td>\n      <td>5h 25m</td>\n      <td>1 stop</td>\n      <td>No info</td>\n      <td>6218.0</td>\n    </tr>\n    <tr>\n      <th>4</th>\n      <td>IndiGo</td>\n      <td>01/03/2019</td>\n      <td>Banglore</td>\n      <td>New Delhi</td>\n      <td>BLR → NAG → DEL</td>\n      <td>16:50</td>\n      <td>21:35</td>\n      <td>4h 45m</td>\n      <td>1 stop</td>\n      <td>No info</td>\n      <td>13302.0</td>\n    </tr>\n  </tbody>\n</table>\n</div>",
       "datasetInfos": [],
       "metadata": {},
       "removedWidgets": [],
       "textData": null,
       "type": "htmlSandbox"
      }
     },
     "output_type": "display_data"
    }
   ],
   "source": [
    "import pandas as pd\n",
    "# Local file path\n",
    "local_path = \"/tmp/a1_FlightFare_Dataset.xlsx\"\n",
    "dataset = pd.read_excel(local_path)\n",
    "pd.set_option('display.max_columns', None)\n",
    "\n",
    "dataset.head()"
   ]
  },
  {
   "cell_type": "code",
   "execution_count": 0,
   "metadata": {
    "application/vnd.databricks.v1+cell": {
     "cellMetadata": {
      "byteLimit": 2048000,
      "rowLimit": 10000
     },
     "inputWidgets": {},
     "nuid": "a4318671-fff3-450f-a022-26d181ef0e66",
     "showTitle": false,
     "tableResultSettingsMap": {},
     "title": ""
    }
   },
   "outputs": [
    {
     "output_type": "stream",
     "name": "stdout",
     "output_type": "stream",
     "text": [
      "<class 'pandas.core.frame.DataFrame'>\nRangeIndex: 10001 entries, 0 to 10000\nData columns (total 11 columns):\n #   Column           Non-Null Count  Dtype  \n---  ------           --------------  -----  \n 0   Airline          10001 non-null  object \n 1   Date_of_Journey  10001 non-null  object \n 2   Source           10001 non-null  object \n 3   Destination      10001 non-null  object \n 4   Route            10000 non-null  object \n 5   Dep_Time         10001 non-null  object \n 6   Arrival_Time     10001 non-null  object \n 7   Duration         10001 non-null  object \n 8   Total_Stops      10000 non-null  object \n 9   Additional_Info  10001 non-null  object \n 10  Price            10001 non-null  float64\ndtypes: float64(1), object(10)\nmemory usage: 859.6+ KB\n"
     ]
    }
   ],
   "source": [
    "dataset.info()"
   ]
  },
  {
   "cell_type": "code",
   "execution_count": 0,
   "metadata": {
    "application/vnd.databricks.v1+cell": {
     "cellMetadata": {
      "byteLimit": 2048000,
      "rowLimit": 10000
     },
     "inputWidgets": {},
     "nuid": "5c37b868-44d9-41f3-9c87-d073d9840941",
     "showTitle": false,
     "tableResultSettingsMap": {},
     "title": ""
    }
   },
   "outputs": [
    {
     "output_type": "stream",
     "name": "stdout",
     "output_type": "stream",
     "text": [
      "Out[6]: Airline            0\nDate_of_Journey    0\nSource             0\nDestination        0\nRoute              0\nDep_Time           0\nArrival_Time       0\nDuration           0\nTotal_Stops        0\nAdditional_Info    0\nPrice              0\ndtype: int64"
     ]
    }
   ],
   "source": [
    "dataset.dropna(inplace=True)\n",
    "dataset.isnull().sum()\n"
   ]
  },
  {
   "cell_type": "code",
   "execution_count": 0,
   "metadata": {
    "application/vnd.databricks.v1+cell": {
     "cellMetadata": {
      "byteLimit": 2048000,
      "rowLimit": 10000
     },
     "inputWidgets": {},
     "nuid": "d862a28c-dbab-4cd5-91cb-336f1636ccbe",
     "showTitle": false,
     "tableResultSettingsMap": {},
     "title": ""
    }
   },
   "outputs": [
    {
     "output_type": "stream",
     "name": "stdout",
     "output_type": "stream",
     "text": [
      "Out[7]: No info                         7824\nIn-flight meal not included     1844\nNo check-in baggage included     299\n1 Long layover                    19\nChange airports                    6\nNo Info                            3\nBusiness class                     3\n1 Short layover                    1\nRed-eye flight                     1\nName: Additional_Info, dtype: int64"
     ]
    }
   ],
   "source": [
    "dataset[\"journey_day\"] = pd.to_datetime(dataset.Date_of_Journey,format='%d/%m/%Y').dt.day\n",
    "dataset[\"journey_month\"] = pd.to_datetime(dataset.Date_of_Journey,format='%d/%m/%Y').dt.month\n",
    "dataset[\"Additional_Info\"].value_counts()"
   ]
  },
  {
   "cell_type": "code",
   "execution_count": 0,
   "metadata": {
    "application/vnd.databricks.v1+cell": {
     "cellMetadata": {
      "byteLimit": 2048000,
      "rowLimit": 10000
     },
     "inputWidgets": {},
     "nuid": "731dfbad-7606-45d8-8d06-a60b16ab2025",
     "showTitle": false,
     "tableResultSettingsMap": {},
     "title": ""
    }
   },
   "outputs": [
    {
     "output_type": "display_data",
     "data": {
      "text/html": [
       "<div>\n",
       "<style scoped>\n",
       "    .dataframe tbody tr th:only-of-type {\n",
       "        vertical-align: middle;\n",
       "    }\n",
       "\n",
       "    .dataframe tbody tr th {\n",
       "        vertical-align: top;\n",
       "    }\n",
       "\n",
       "    .dataframe thead th {\n",
       "        text-align: right;\n",
       "    }\n",
       "</style>\n",
       "<table border=\"1\" class=\"dataframe\">\n",
       "  <thead>\n",
       "    <tr style=\"text-align: right;\">\n",
       "      <th></th>\n",
       "      <th>Airline</th>\n",
       "      <th>Source</th>\n",
       "      <th>Destination</th>\n",
       "      <th>Dep_Time</th>\n",
       "      <th>Arrival_Time</th>\n",
       "      <th>Duration</th>\n",
       "      <th>Total_Stops</th>\n",
       "      <th>Price</th>\n",
       "      <th>journey_day</th>\n",
       "      <th>journey_month</th>\n",
       "    </tr>\n",
       "  </thead>\n",
       "  <tbody>\n",
       "    <tr>\n",
       "      <th>0</th>\n",
       "      <td>IndiGo</td>\n",
       "      <td>Banglore</td>\n",
       "      <td>New Delhi</td>\n",
       "      <td>22:20</td>\n",
       "      <td>01:10 22 Mar</td>\n",
       "      <td>2h 50m</td>\n",
       "      <td>non-stop</td>\n",
       "      <td>3897.0</td>\n",
       "      <td>24</td>\n",
       "      <td>3</td>\n",
       "    </tr>\n",
       "    <tr>\n",
       "      <th>1</th>\n",
       "      <td>Air India</td>\n",
       "      <td>Kolkata</td>\n",
       "      <td>Banglore</td>\n",
       "      <td>05:50</td>\n",
       "      <td>13:15</td>\n",
       "      <td>7h 25m</td>\n",
       "      <td>2 stops</td>\n",
       "      <td>7662.0</td>\n",
       "      <td>1</td>\n",
       "      <td>5</td>\n",
       "    </tr>\n",
       "    <tr>\n",
       "      <th>2</th>\n",
       "      <td>Jet Airways</td>\n",
       "      <td>Delhi</td>\n",
       "      <td>Cochin</td>\n",
       "      <td>09:25</td>\n",
       "      <td>04:25 10 Jun</td>\n",
       "      <td>19h</td>\n",
       "      <td>2 stops</td>\n",
       "      <td>13882.0</td>\n",
       "      <td>9</td>\n",
       "      <td>6</td>\n",
       "    </tr>\n",
       "    <tr>\n",
       "      <th>3</th>\n",
       "      <td>IndiGo</td>\n",
       "      <td>Kolkata</td>\n",
       "      <td>Banglore</td>\n",
       "      <td>18:05</td>\n",
       "      <td>23:30</td>\n",
       "      <td>5h 25m</td>\n",
       "      <td>1 stop</td>\n",
       "      <td>6218.0</td>\n",
       "      <td>12</td>\n",
       "      <td>5</td>\n",
       "    </tr>\n",
       "    <tr>\n",
       "      <th>4</th>\n",
       "      <td>IndiGo</td>\n",
       "      <td>Banglore</td>\n",
       "      <td>New Delhi</td>\n",
       "      <td>16:50</td>\n",
       "      <td>21:35</td>\n",
       "      <td>4h 45m</td>\n",
       "      <td>1 stop</td>\n",
       "      <td>13302.0</td>\n",
       "      <td>1</td>\n",
       "      <td>3</td>\n",
       "    </tr>\n",
       "  </tbody>\n",
       "</table>\n",
       "</div>"
      ]
     },
     "metadata": {
      "application/vnd.databricks.v1+output": {
       "addedWidgets": {},
       "arguments": {},
       "data": "<div>\n<style scoped>\n    .dataframe tbody tr th:only-of-type {\n        vertical-align: middle;\n    }\n\n    .dataframe tbody tr th {\n        vertical-align: top;\n    }\n\n    .dataframe thead th {\n        text-align: right;\n    }\n</style>\n<table border=\"1\" class=\"dataframe\">\n  <thead>\n    <tr style=\"text-align: right;\">\n      <th></th>\n      <th>Airline</th>\n      <th>Source</th>\n      <th>Destination</th>\n      <th>Dep_Time</th>\n      <th>Arrival_Time</th>\n      <th>Duration</th>\n      <th>Total_Stops</th>\n      <th>Price</th>\n      <th>journey_day</th>\n      <th>journey_month</th>\n    </tr>\n  </thead>\n  <tbody>\n    <tr>\n      <th>0</th>\n      <td>IndiGo</td>\n      <td>Banglore</td>\n      <td>New Delhi</td>\n      <td>22:20</td>\n      <td>01:10 22 Mar</td>\n      <td>2h 50m</td>\n      <td>non-stop</td>\n      <td>3897.0</td>\n      <td>24</td>\n      <td>3</td>\n    </tr>\n    <tr>\n      <th>1</th>\n      <td>Air India</td>\n      <td>Kolkata</td>\n      <td>Banglore</td>\n      <td>05:50</td>\n      <td>13:15</td>\n      <td>7h 25m</td>\n      <td>2 stops</td>\n      <td>7662.0</td>\n      <td>1</td>\n      <td>5</td>\n    </tr>\n    <tr>\n      <th>2</th>\n      <td>Jet Airways</td>\n      <td>Delhi</td>\n      <td>Cochin</td>\n      <td>09:25</td>\n      <td>04:25 10 Jun</td>\n      <td>19h</td>\n      <td>2 stops</td>\n      <td>13882.0</td>\n      <td>9</td>\n      <td>6</td>\n    </tr>\n    <tr>\n      <th>3</th>\n      <td>IndiGo</td>\n      <td>Kolkata</td>\n      <td>Banglore</td>\n      <td>18:05</td>\n      <td>23:30</td>\n      <td>5h 25m</td>\n      <td>1 stop</td>\n      <td>6218.0</td>\n      <td>12</td>\n      <td>5</td>\n    </tr>\n    <tr>\n      <th>4</th>\n      <td>IndiGo</td>\n      <td>Banglore</td>\n      <td>New Delhi</td>\n      <td>16:50</td>\n      <td>21:35</td>\n      <td>4h 45m</td>\n      <td>1 stop</td>\n      <td>13302.0</td>\n      <td>1</td>\n      <td>3</td>\n    </tr>\n  </tbody>\n</table>\n</div>",
       "datasetInfos": [],
       "metadata": {},
       "removedWidgets": [],
       "textData": null,
       "type": "htmlSandbox"
      }
     },
     "output_type": "display_data"
    }
   ],
   "source": [
    "#droping column of no further use\n",
    "dataset.drop([\"Date_of_Journey\",\"Route\",\"Additional_Info\"],axis = 1,inplace = True)\n",
    "dataset.head()"
   ]
  },
  {
   "cell_type": "code",
   "execution_count": 0,
   "metadata": {
    "application/vnd.databricks.v1+cell": {
     "cellMetadata": {
      "byteLimit": 2048000,
      "rowLimit": 10000
     },
     "inputWidgets": {},
     "nuid": "c883642d-dda0-4335-bcce-f811a7b185b5",
     "showTitle": false,
     "tableResultSettingsMap": {},
     "title": ""
    }
   },
   "outputs": [
    {
     "output_type": "display_data",
     "data": {
      "text/html": [
       "<div>\n",
       "<style scoped>\n",
       "    .dataframe tbody tr th:only-of-type {\n",
       "        vertical-align: middle;\n",
       "    }\n",
       "\n",
       "    .dataframe tbody tr th {\n",
       "        vertical-align: top;\n",
       "    }\n",
       "\n",
       "    .dataframe thead th {\n",
       "        text-align: right;\n",
       "    }\n",
       "</style>\n",
       "<table border=\"1\" class=\"dataframe\">\n",
       "  <thead>\n",
       "    <tr style=\"text-align: right;\">\n",
       "      <th></th>\n",
       "      <th>Airline</th>\n",
       "      <th>Source</th>\n",
       "      <th>Destination</th>\n",
       "      <th>Dep_Time</th>\n",
       "      <th>Arrival_Time</th>\n",
       "      <th>Duration</th>\n",
       "      <th>Total_Stops</th>\n",
       "      <th>Price</th>\n",
       "      <th>journey_day</th>\n",
       "      <th>journey_month</th>\n",
       "    </tr>\n",
       "  </thead>\n",
       "  <tbody>\n",
       "    <tr>\n",
       "      <th>0</th>\n",
       "      <td>IndiGo</td>\n",
       "      <td>Banglore</td>\n",
       "      <td>New Delhi</td>\n",
       "      <td>22:20</td>\n",
       "      <td>01:10 22 Mar</td>\n",
       "      <td>2h 50m</td>\n",
       "      <td>non-stop</td>\n",
       "      <td>3897.0</td>\n",
       "      <td>24</td>\n",
       "      <td>3</td>\n",
       "    </tr>\n",
       "    <tr>\n",
       "      <th>1</th>\n",
       "      <td>Air India</td>\n",
       "      <td>Kolkata</td>\n",
       "      <td>Banglore</td>\n",
       "      <td>05:50</td>\n",
       "      <td>13:15</td>\n",
       "      <td>7h 25m</td>\n",
       "      <td>2 stops</td>\n",
       "      <td>7662.0</td>\n",
       "      <td>1</td>\n",
       "      <td>5</td>\n",
       "    </tr>\n",
       "    <tr>\n",
       "      <th>2</th>\n",
       "      <td>Jet Airways</td>\n",
       "      <td>Delhi</td>\n",
       "      <td>Cochin</td>\n",
       "      <td>09:25</td>\n",
       "      <td>04:25 10 Jun</td>\n",
       "      <td>19h</td>\n",
       "      <td>2 stops</td>\n",
       "      <td>13882.0</td>\n",
       "      <td>9</td>\n",
       "      <td>6</td>\n",
       "    </tr>\n",
       "    <tr>\n",
       "      <th>3</th>\n",
       "      <td>IndiGo</td>\n",
       "      <td>Kolkata</td>\n",
       "      <td>Banglore</td>\n",
       "      <td>18:05</td>\n",
       "      <td>23:30</td>\n",
       "      <td>5h 25m</td>\n",
       "      <td>1 stop</td>\n",
       "      <td>6218.0</td>\n",
       "      <td>12</td>\n",
       "      <td>5</td>\n",
       "    </tr>\n",
       "    <tr>\n",
       "      <th>4</th>\n",
       "      <td>IndiGo</td>\n",
       "      <td>Banglore</td>\n",
       "      <td>New Delhi</td>\n",
       "      <td>16:50</td>\n",
       "      <td>21:35</td>\n",
       "      <td>4h 45m</td>\n",
       "      <td>1 stop</td>\n",
       "      <td>13302.0</td>\n",
       "      <td>1</td>\n",
       "      <td>3</td>\n",
       "    </tr>\n",
       "  </tbody>\n",
       "</table>\n",
       "</div>"
      ]
     },
     "metadata": {
      "application/vnd.databricks.v1+output": {
       "addedWidgets": {},
       "arguments": {},
       "data": "<div>\n<style scoped>\n    .dataframe tbody tr th:only-of-type {\n        vertical-align: middle;\n    }\n\n    .dataframe tbody tr th {\n        vertical-align: top;\n    }\n\n    .dataframe thead th {\n        text-align: right;\n    }\n</style>\n<table border=\"1\" class=\"dataframe\">\n  <thead>\n    <tr style=\"text-align: right;\">\n      <th></th>\n      <th>Airline</th>\n      <th>Source</th>\n      <th>Destination</th>\n      <th>Dep_Time</th>\n      <th>Arrival_Time</th>\n      <th>Duration</th>\n      <th>Total_Stops</th>\n      <th>Price</th>\n      <th>journey_day</th>\n      <th>journey_month</th>\n    </tr>\n  </thead>\n  <tbody>\n    <tr>\n      <th>0</th>\n      <td>IndiGo</td>\n      <td>Banglore</td>\n      <td>New Delhi</td>\n      <td>22:20</td>\n      <td>01:10 22 Mar</td>\n      <td>2h 50m</td>\n      <td>non-stop</td>\n      <td>3897.0</td>\n      <td>24</td>\n      <td>3</td>\n    </tr>\n    <tr>\n      <th>1</th>\n      <td>Air India</td>\n      <td>Kolkata</td>\n      <td>Banglore</td>\n      <td>05:50</td>\n      <td>13:15</td>\n      <td>7h 25m</td>\n      <td>2 stops</td>\n      <td>7662.0</td>\n      <td>1</td>\n      <td>5</td>\n    </tr>\n    <tr>\n      <th>2</th>\n      <td>Jet Airways</td>\n      <td>Delhi</td>\n      <td>Cochin</td>\n      <td>09:25</td>\n      <td>04:25 10 Jun</td>\n      <td>19h</td>\n      <td>2 stops</td>\n      <td>13882.0</td>\n      <td>9</td>\n      <td>6</td>\n    </tr>\n    <tr>\n      <th>3</th>\n      <td>IndiGo</td>\n      <td>Kolkata</td>\n      <td>Banglore</td>\n      <td>18:05</td>\n      <td>23:30</td>\n      <td>5h 25m</td>\n      <td>1 stop</td>\n      <td>6218.0</td>\n      <td>12</td>\n      <td>5</td>\n    </tr>\n    <tr>\n      <th>4</th>\n      <td>IndiGo</td>\n      <td>Banglore</td>\n      <td>New Delhi</td>\n      <td>16:50</td>\n      <td>21:35</td>\n      <td>4h 45m</td>\n      <td>1 stop</td>\n      <td>13302.0</td>\n      <td>1</td>\n      <td>3</td>\n    </tr>\n  </tbody>\n</table>\n</div>",
       "datasetInfos": [],
       "metadata": {},
       "removedWidgets": [],
       "textData": null,
       "type": "htmlSandbox"
      }
     },
     "output_type": "display_data"
    }
   ],
   "source": [
    "dataset.head()"
   ]
  },
  {
   "cell_type": "code",
   "execution_count": 0,
   "metadata": {
    "application/vnd.databricks.v1+cell": {
     "cellMetadata": {
      "byteLimit": 2048000,
      "rowLimit": 10000
     },
     "inputWidgets": {},
     "nuid": "0632b51d-0b94-413f-b0ff-a08795756fa7",
     "showTitle": false,
     "tableResultSettingsMap": {},
     "title": ""
    }
   },
   "outputs": [
    {
     "output_type": "display_data",
     "data": {
      "text/html": [
       "<div>\n",
       "<style scoped>\n",
       "    .dataframe tbody tr th:only-of-type {\n",
       "        vertical-align: middle;\n",
       "    }\n",
       "\n",
       "    .dataframe tbody tr th {\n",
       "        vertical-align: top;\n",
       "    }\n",
       "\n",
       "    .dataframe thead th {\n",
       "        text-align: right;\n",
       "    }\n",
       "</style>\n",
       "<table border=\"1\" class=\"dataframe\">\n",
       "  <thead>\n",
       "    <tr style=\"text-align: right;\">\n",
       "      <th></th>\n",
       "      <th>Airline</th>\n",
       "      <th>Source</th>\n",
       "      <th>Destination</th>\n",
       "      <th>Dep_Time</th>\n",
       "      <th>Arrival_Time</th>\n",
       "      <th>Duration</th>\n",
       "      <th>Total_Stops</th>\n",
       "      <th>Price</th>\n",
       "      <th>journey_day</th>\n",
       "      <th>journey_month</th>\n",
       "    </tr>\n",
       "  </thead>\n",
       "  <tbody>\n",
       "    <tr>\n",
       "      <th>0</th>\n",
       "      <td>IndiGo</td>\n",
       "      <td>Banglore</td>\n",
       "      <td>New Delhi</td>\n",
       "      <td>22:20</td>\n",
       "      <td>01:10 22 Mar</td>\n",
       "      <td>2h 50m</td>\n",
       "      <td>0</td>\n",
       "      <td>3897.0</td>\n",
       "      <td>24</td>\n",
       "      <td>3</td>\n",
       "    </tr>\n",
       "    <tr>\n",
       "      <th>1</th>\n",
       "      <td>Air India</td>\n",
       "      <td>Kolkata</td>\n",
       "      <td>Banglore</td>\n",
       "      <td>05:50</td>\n",
       "      <td>13:15</td>\n",
       "      <td>7h 25m</td>\n",
       "      <td>2</td>\n",
       "      <td>7662.0</td>\n",
       "      <td>1</td>\n",
       "      <td>5</td>\n",
       "    </tr>\n",
       "    <tr>\n",
       "      <th>2</th>\n",
       "      <td>Jet Airways</td>\n",
       "      <td>Delhi</td>\n",
       "      <td>Cochin</td>\n",
       "      <td>09:25</td>\n",
       "      <td>04:25 10 Jun</td>\n",
       "      <td>19h</td>\n",
       "      <td>2</td>\n",
       "      <td>13882.0</td>\n",
       "      <td>9</td>\n",
       "      <td>6</td>\n",
       "    </tr>\n",
       "    <tr>\n",
       "      <th>3</th>\n",
       "      <td>IndiGo</td>\n",
       "      <td>Kolkata</td>\n",
       "      <td>Banglore</td>\n",
       "      <td>18:05</td>\n",
       "      <td>23:30</td>\n",
       "      <td>5h 25m</td>\n",
       "      <td>1</td>\n",
       "      <td>6218.0</td>\n",
       "      <td>12</td>\n",
       "      <td>5</td>\n",
       "    </tr>\n",
       "    <tr>\n",
       "      <th>4</th>\n",
       "      <td>IndiGo</td>\n",
       "      <td>Banglore</td>\n",
       "      <td>New Delhi</td>\n",
       "      <td>16:50</td>\n",
       "      <td>21:35</td>\n",
       "      <td>4h 45m</td>\n",
       "      <td>1</td>\n",
       "      <td>13302.0</td>\n",
       "      <td>1</td>\n",
       "      <td>3</td>\n",
       "    </tr>\n",
       "  </tbody>\n",
       "</table>\n",
       "</div>"
      ]
     },
     "metadata": {
      "application/vnd.databricks.v1+output": {
       "addedWidgets": {},
       "arguments": {},
       "data": "<div>\n<style scoped>\n    .dataframe tbody tr th:only-of-type {\n        vertical-align: middle;\n    }\n\n    .dataframe tbody tr th {\n        vertical-align: top;\n    }\n\n    .dataframe thead th {\n        text-align: right;\n    }\n</style>\n<table border=\"1\" class=\"dataframe\">\n  <thead>\n    <tr style=\"text-align: right;\">\n      <th></th>\n      <th>Airline</th>\n      <th>Source</th>\n      <th>Destination</th>\n      <th>Dep_Time</th>\n      <th>Arrival_Time</th>\n      <th>Duration</th>\n      <th>Total_Stops</th>\n      <th>Price</th>\n      <th>journey_day</th>\n      <th>journey_month</th>\n    </tr>\n  </thead>\n  <tbody>\n    <tr>\n      <th>0</th>\n      <td>IndiGo</td>\n      <td>Banglore</td>\n      <td>New Delhi</td>\n      <td>22:20</td>\n      <td>01:10 22 Mar</td>\n      <td>2h 50m</td>\n      <td>0</td>\n      <td>3897.0</td>\n      <td>24</td>\n      <td>3</td>\n    </tr>\n    <tr>\n      <th>1</th>\n      <td>Air India</td>\n      <td>Kolkata</td>\n      <td>Banglore</td>\n      <td>05:50</td>\n      <td>13:15</td>\n      <td>7h 25m</td>\n      <td>2</td>\n      <td>7662.0</td>\n      <td>1</td>\n      <td>5</td>\n    </tr>\n    <tr>\n      <th>2</th>\n      <td>Jet Airways</td>\n      <td>Delhi</td>\n      <td>Cochin</td>\n      <td>09:25</td>\n      <td>04:25 10 Jun</td>\n      <td>19h</td>\n      <td>2</td>\n      <td>13882.0</td>\n      <td>9</td>\n      <td>6</td>\n    </tr>\n    <tr>\n      <th>3</th>\n      <td>IndiGo</td>\n      <td>Kolkata</td>\n      <td>Banglore</td>\n      <td>18:05</td>\n      <td>23:30</td>\n      <td>5h 25m</td>\n      <td>1</td>\n      <td>6218.0</td>\n      <td>12</td>\n      <td>5</td>\n    </tr>\n    <tr>\n      <th>4</th>\n      <td>IndiGo</td>\n      <td>Banglore</td>\n      <td>New Delhi</td>\n      <td>16:50</td>\n      <td>21:35</td>\n      <td>4h 45m</td>\n      <td>1</td>\n      <td>13302.0</td>\n      <td>1</td>\n      <td>3</td>\n    </tr>\n  </tbody>\n</table>\n</div>",
       "datasetInfos": [],
       "metadata": {},
       "removedWidgets": [],
       "textData": null,
       "type": "htmlSandbox"
      }
     },
     "output_type": "display_data"
    }
   ],
   "source": [
    "# def helper(total_stops):\n",
    "#     if isinstance(total_stops, int):\n",
    "#         return total_stops\n",
    "#     if total_stops == 'non-stop':\n",
    "#         return 0\n",
    "#     else:\n",
    "#         return int(total_stops.split()[0])\n",
    "# dataset[\"Total_Stops\"] = dataset[\"Total_Stops\"].apply(helper)\n",
    "#found a simpler way \n",
    "dataset[\"Total_Stops\"].value_counts()\n",
    "dataset.replace({\"non-stop\": 0, \"1 stop\": 1, \"2 stops\": 2, \"3 stops\": 3, \"4 stops\": 4}, inplace = True)\n",
    "dataset.head()"
   ]
  },
  {
   "cell_type": "code",
   "execution_count": 0,
   "metadata": {
    "application/vnd.databricks.v1+cell": {
     "cellMetadata": {
      "byteLimit": 2048000,
      "rowLimit": 10000
     },
     "inputWidgets": {},
     "nuid": "d330e405-a64a-4455-8ba0-8a04d9cea65f",
     "showTitle": false,
     "tableResultSettingsMap": {},
     "title": ""
    }
   },
   "outputs": [
    {
     "output_type": "display_data",
     "data": {
      "text/html": [
       "<div>\n",
       "<style scoped>\n",
       "    .dataframe tbody tr th:only-of-type {\n",
       "        vertical-align: middle;\n",
       "    }\n",
       "\n",
       "    .dataframe tbody tr th {\n",
       "        vertical-align: top;\n",
       "    }\n",
       "\n",
       "    .dataframe thead th {\n",
       "        text-align: right;\n",
       "    }\n",
       "</style>\n",
       "<table border=\"1\" class=\"dataframe\">\n",
       "  <thead>\n",
       "    <tr style=\"text-align: right;\">\n",
       "      <th></th>\n",
       "      <th>Airline</th>\n",
       "      <th>Source</th>\n",
       "      <th>Destination</th>\n",
       "      <th>Duration</th>\n",
       "      <th>Total_Stops</th>\n",
       "      <th>Price</th>\n",
       "      <th>journey_day</th>\n",
       "      <th>journey_month</th>\n",
       "      <th>dep_hour</th>\n",
       "      <th>dep_min</th>\n",
       "      <th>arrival_hour</th>\n",
       "      <th>arrival_min</th>\n",
       "    </tr>\n",
       "  </thead>\n",
       "  <tbody>\n",
       "    <tr>\n",
       "      <th>0</th>\n",
       "      <td>IndiGo</td>\n",
       "      <td>Banglore</td>\n",
       "      <td>New Delhi</td>\n",
       "      <td>2h 50m</td>\n",
       "      <td>0</td>\n",
       "      <td>3897.0</td>\n",
       "      <td>24</td>\n",
       "      <td>3</td>\n",
       "      <td>22</td>\n",
       "      <td>20</td>\n",
       "      <td>1</td>\n",
       "      <td>10</td>\n",
       "    </tr>\n",
       "    <tr>\n",
       "      <th>1</th>\n",
       "      <td>Air India</td>\n",
       "      <td>Kolkata</td>\n",
       "      <td>Banglore</td>\n",
       "      <td>7h 25m</td>\n",
       "      <td>2</td>\n",
       "      <td>7662.0</td>\n",
       "      <td>1</td>\n",
       "      <td>5</td>\n",
       "      <td>5</td>\n",
       "      <td>50</td>\n",
       "      <td>13</td>\n",
       "      <td>15</td>\n",
       "    </tr>\n",
       "    <tr>\n",
       "      <th>2</th>\n",
       "      <td>Jet Airways</td>\n",
       "      <td>Delhi</td>\n",
       "      <td>Cochin</td>\n",
       "      <td>19h</td>\n",
       "      <td>2</td>\n",
       "      <td>13882.0</td>\n",
       "      <td>9</td>\n",
       "      <td>6</td>\n",
       "      <td>9</td>\n",
       "      <td>25</td>\n",
       "      <td>4</td>\n",
       "      <td>25</td>\n",
       "    </tr>\n",
       "    <tr>\n",
       "      <th>3</th>\n",
       "      <td>IndiGo</td>\n",
       "      <td>Kolkata</td>\n",
       "      <td>Banglore</td>\n",
       "      <td>5h 25m</td>\n",
       "      <td>1</td>\n",
       "      <td>6218.0</td>\n",
       "      <td>12</td>\n",
       "      <td>5</td>\n",
       "      <td>18</td>\n",
       "      <td>5</td>\n",
       "      <td>23</td>\n",
       "      <td>30</td>\n",
       "    </tr>\n",
       "    <tr>\n",
       "      <th>4</th>\n",
       "      <td>IndiGo</td>\n",
       "      <td>Banglore</td>\n",
       "      <td>New Delhi</td>\n",
       "      <td>4h 45m</td>\n",
       "      <td>1</td>\n",
       "      <td>13302.0</td>\n",
       "      <td>1</td>\n",
       "      <td>3</td>\n",
       "      <td>16</td>\n",
       "      <td>50</td>\n",
       "      <td>21</td>\n",
       "      <td>35</td>\n",
       "    </tr>\n",
       "  </tbody>\n",
       "</table>\n",
       "</div>"
      ]
     },
     "metadata": {
      "application/vnd.databricks.v1+output": {
       "addedWidgets": {},
       "arguments": {},
       "data": "<div>\n<style scoped>\n    .dataframe tbody tr th:only-of-type {\n        vertical-align: middle;\n    }\n\n    .dataframe tbody tr th {\n        vertical-align: top;\n    }\n\n    .dataframe thead th {\n        text-align: right;\n    }\n</style>\n<table border=\"1\" class=\"dataframe\">\n  <thead>\n    <tr style=\"text-align: right;\">\n      <th></th>\n      <th>Airline</th>\n      <th>Source</th>\n      <th>Destination</th>\n      <th>Duration</th>\n      <th>Total_Stops</th>\n      <th>Price</th>\n      <th>journey_day</th>\n      <th>journey_month</th>\n      <th>dep_hour</th>\n      <th>dep_min</th>\n      <th>arrival_hour</th>\n      <th>arrival_min</th>\n    </tr>\n  </thead>\n  <tbody>\n    <tr>\n      <th>0</th>\n      <td>IndiGo</td>\n      <td>Banglore</td>\n      <td>New Delhi</td>\n      <td>2h 50m</td>\n      <td>0</td>\n      <td>3897.0</td>\n      <td>24</td>\n      <td>3</td>\n      <td>22</td>\n      <td>20</td>\n      <td>1</td>\n      <td>10</td>\n    </tr>\n    <tr>\n      <th>1</th>\n      <td>Air India</td>\n      <td>Kolkata</td>\n      <td>Banglore</td>\n      <td>7h 25m</td>\n      <td>2</td>\n      <td>7662.0</td>\n      <td>1</td>\n      <td>5</td>\n      <td>5</td>\n      <td>50</td>\n      <td>13</td>\n      <td>15</td>\n    </tr>\n    <tr>\n      <th>2</th>\n      <td>Jet Airways</td>\n      <td>Delhi</td>\n      <td>Cochin</td>\n      <td>19h</td>\n      <td>2</td>\n      <td>13882.0</td>\n      <td>9</td>\n      <td>6</td>\n      <td>9</td>\n      <td>25</td>\n      <td>4</td>\n      <td>25</td>\n    </tr>\n    <tr>\n      <th>3</th>\n      <td>IndiGo</td>\n      <td>Kolkata</td>\n      <td>Banglore</td>\n      <td>5h 25m</td>\n      <td>1</td>\n      <td>6218.0</td>\n      <td>12</td>\n      <td>5</td>\n      <td>18</td>\n      <td>5</td>\n      <td>23</td>\n      <td>30</td>\n    </tr>\n    <tr>\n      <th>4</th>\n      <td>IndiGo</td>\n      <td>Banglore</td>\n      <td>New Delhi</td>\n      <td>4h 45m</td>\n      <td>1</td>\n      <td>13302.0</td>\n      <td>1</td>\n      <td>3</td>\n      <td>16</td>\n      <td>50</td>\n      <td>21</td>\n      <td>35</td>\n    </tr>\n  </tbody>\n</table>\n</div>",
       "datasetInfos": [],
       "metadata": {},
       "removedWidgets": [],
       "textData": null,
       "type": "htmlSandbox"
      }
     },
     "output_type": "display_data"
    }
   ],
   "source": [
    "#depature and arrival time\n",
    "dataset[\"dep_hour\"] = pd.to_datetime(dataset.Dep_Time).dt.hour\n",
    "dataset[\"dep_min\"] = pd.to_datetime(dataset.Dep_Time).dt.minute\n",
    "dataset[\"arrival_hour\"] = pd.to_datetime(dataset.Arrival_Time).dt.hour\n",
    "dataset[\"arrival_min\"] = pd.to_datetime(dataset.Arrival_Time).dt.minute\n",
    "dataset.drop(['Dep_Time','Arrival_Time'],axis= 1,inplace=True)\n",
    "dataset.head()"
   ]
  },
  {
   "cell_type": "code",
   "execution_count": 0,
   "metadata": {
    "application/vnd.databricks.v1+cell": {
     "cellMetadata": {
      "byteLimit": 2048000,
      "rowLimit": 10000
     },
     "inputWidgets": {},
     "nuid": "3c953139-bbf3-4a84-aaaa-ac7332511bf9",
     "showTitle": false,
     "tableResultSettingsMap": {},
     "title": ""
    }
   },
   "outputs": [
    {
     "output_type": "display_data",
     "data": {
      "text/html": [
       "<div>\n",
       "<style scoped>\n",
       "    .dataframe tbody tr th:only-of-type {\n",
       "        vertical-align: middle;\n",
       "    }\n",
       "\n",
       "    .dataframe tbody tr th {\n",
       "        vertical-align: top;\n",
       "    }\n",
       "\n",
       "    .dataframe thead th {\n",
       "        text-align: right;\n",
       "    }\n",
       "</style>\n",
       "<table border=\"1\" class=\"dataframe\">\n",
       "  <thead>\n",
       "    <tr style=\"text-align: right;\">\n",
       "      <th></th>\n",
       "      <th>Airline</th>\n",
       "      <th>Source</th>\n",
       "      <th>Destination</th>\n",
       "      <th>Total_Stops</th>\n",
       "      <th>Price</th>\n",
       "      <th>journey_day</th>\n",
       "      <th>journey_month</th>\n",
       "      <th>dep_hour</th>\n",
       "      <th>dep_min</th>\n",
       "      <th>arrival_hour</th>\n",
       "      <th>arrival_min</th>\n",
       "      <th>Duration_hours</th>\n",
       "      <th>Duration_mins</th>\n",
       "    </tr>\n",
       "  </thead>\n",
       "  <tbody>\n",
       "    <tr>\n",
       "      <th>0</th>\n",
       "      <td>IndiGo</td>\n",
       "      <td>Banglore</td>\n",
       "      <td>New Delhi</td>\n",
       "      <td>0</td>\n",
       "      <td>3897.0</td>\n",
       "      <td>24</td>\n",
       "      <td>3</td>\n",
       "      <td>22</td>\n",
       "      <td>20</td>\n",
       "      <td>1</td>\n",
       "      <td>10</td>\n",
       "      <td>2</td>\n",
       "      <td>50</td>\n",
       "    </tr>\n",
       "    <tr>\n",
       "      <th>1</th>\n",
       "      <td>Air India</td>\n",
       "      <td>Kolkata</td>\n",
       "      <td>Banglore</td>\n",
       "      <td>2</td>\n",
       "      <td>7662.0</td>\n",
       "      <td>1</td>\n",
       "      <td>5</td>\n",
       "      <td>5</td>\n",
       "      <td>50</td>\n",
       "      <td>13</td>\n",
       "      <td>15</td>\n",
       "      <td>7</td>\n",
       "      <td>25</td>\n",
       "    </tr>\n",
       "    <tr>\n",
       "      <th>2</th>\n",
       "      <td>Jet Airways</td>\n",
       "      <td>Delhi</td>\n",
       "      <td>Cochin</td>\n",
       "      <td>2</td>\n",
       "      <td>13882.0</td>\n",
       "      <td>9</td>\n",
       "      <td>6</td>\n",
       "      <td>9</td>\n",
       "      <td>25</td>\n",
       "      <td>4</td>\n",
       "      <td>25</td>\n",
       "      <td>19</td>\n",
       "      <td>0</td>\n",
       "    </tr>\n",
       "    <tr>\n",
       "      <th>3</th>\n",
       "      <td>IndiGo</td>\n",
       "      <td>Kolkata</td>\n",
       "      <td>Banglore</td>\n",
       "      <td>1</td>\n",
       "      <td>6218.0</td>\n",
       "      <td>12</td>\n",
       "      <td>5</td>\n",
       "      <td>18</td>\n",
       "      <td>5</td>\n",
       "      <td>23</td>\n",
       "      <td>30</td>\n",
       "      <td>5</td>\n",
       "      <td>25</td>\n",
       "    </tr>\n",
       "    <tr>\n",
       "      <th>4</th>\n",
       "      <td>IndiGo</td>\n",
       "      <td>Banglore</td>\n",
       "      <td>New Delhi</td>\n",
       "      <td>1</td>\n",
       "      <td>13302.0</td>\n",
       "      <td>1</td>\n",
       "      <td>3</td>\n",
       "      <td>16</td>\n",
       "      <td>50</td>\n",
       "      <td>21</td>\n",
       "      <td>35</td>\n",
       "      <td>4</td>\n",
       "      <td>45</td>\n",
       "    </tr>\n",
       "  </tbody>\n",
       "</table>\n",
       "</div>"
      ]
     },
     "metadata": {
      "application/vnd.databricks.v1+output": {
       "addedWidgets": {},
       "arguments": {},
       "data": "<div>\n<style scoped>\n    .dataframe tbody tr th:only-of-type {\n        vertical-align: middle;\n    }\n\n    .dataframe tbody tr th {\n        vertical-align: top;\n    }\n\n    .dataframe thead th {\n        text-align: right;\n    }\n</style>\n<table border=\"1\" class=\"dataframe\">\n  <thead>\n    <tr style=\"text-align: right;\">\n      <th></th>\n      <th>Airline</th>\n      <th>Source</th>\n      <th>Destination</th>\n      <th>Total_Stops</th>\n      <th>Price</th>\n      <th>journey_day</th>\n      <th>journey_month</th>\n      <th>dep_hour</th>\n      <th>dep_min</th>\n      <th>arrival_hour</th>\n      <th>arrival_min</th>\n      <th>Duration_hours</th>\n      <th>Duration_mins</th>\n    </tr>\n  </thead>\n  <tbody>\n    <tr>\n      <th>0</th>\n      <td>IndiGo</td>\n      <td>Banglore</td>\n      <td>New Delhi</td>\n      <td>0</td>\n      <td>3897.0</td>\n      <td>24</td>\n      <td>3</td>\n      <td>22</td>\n      <td>20</td>\n      <td>1</td>\n      <td>10</td>\n      <td>2</td>\n      <td>50</td>\n    </tr>\n    <tr>\n      <th>1</th>\n      <td>Air India</td>\n      <td>Kolkata</td>\n      <td>Banglore</td>\n      <td>2</td>\n      <td>7662.0</td>\n      <td>1</td>\n      <td>5</td>\n      <td>5</td>\n      <td>50</td>\n      <td>13</td>\n      <td>15</td>\n      <td>7</td>\n      <td>25</td>\n    </tr>\n    <tr>\n      <th>2</th>\n      <td>Jet Airways</td>\n      <td>Delhi</td>\n      <td>Cochin</td>\n      <td>2</td>\n      <td>13882.0</td>\n      <td>9</td>\n      <td>6</td>\n      <td>9</td>\n      <td>25</td>\n      <td>4</td>\n      <td>25</td>\n      <td>19</td>\n      <td>0</td>\n    </tr>\n    <tr>\n      <th>3</th>\n      <td>IndiGo</td>\n      <td>Kolkata</td>\n      <td>Banglore</td>\n      <td>1</td>\n      <td>6218.0</td>\n      <td>12</td>\n      <td>5</td>\n      <td>18</td>\n      <td>5</td>\n      <td>23</td>\n      <td>30</td>\n      <td>5</td>\n      <td>25</td>\n    </tr>\n    <tr>\n      <th>4</th>\n      <td>IndiGo</td>\n      <td>Banglore</td>\n      <td>New Delhi</td>\n      <td>1</td>\n      <td>13302.0</td>\n      <td>1</td>\n      <td>3</td>\n      <td>16</td>\n      <td>50</td>\n      <td>21</td>\n      <td>35</td>\n      <td>4</td>\n      <td>45</td>\n    </tr>\n  </tbody>\n</table>\n</div>",
       "datasetInfos": [],
       "metadata": {},
       "removedWidgets": [],
       "textData": null,
       "type": "htmlSandbox"
      }
     },
     "output_type": "display_data"
    }
   ],
   "source": [
    "#duration\n",
    "duration = list(dataset[\"Duration\"])\n",
    "for i in range(len(duration)):\n",
    "    if len(duration[i].split()) != 2:\n",
    "        if \"h\" in duration[i]:\n",
    "            duration[i] = duration[i].strip() + \" 0m\"\n",
    "        else:\n",
    "            duration[i] = \"0h \" + duration[i].strip()\n",
    "duration_hrs = []\n",
    "duration_mins = []\n",
    "for i in range(len(duration)):\n",
    "    duration_hrs.append(int(duration[i].split(sep = \"h\")[0]))\n",
    "    duration_mins.append(int(duration[i].split(sep = \"m\")[0].split()[-1]))\n",
    "dataset['Duration_hours'] = duration_hrs\n",
    "dataset['Duration_mins'] = duration_mins\n",
    "dataset.drop(['Duration'],axis=1,inplace=True)\n",
    "dataset.head()"
   ]
  },
  {
   "cell_type": "code",
   "execution_count": 0,
   "metadata": {
    "application/vnd.databricks.v1+cell": {
     "cellMetadata": {
      "byteLimit": 2048000,
      "rowLimit": 10000
     },
     "inputWidgets": {},
     "nuid": "5817a232-bc68-4c03-aafe-4039734b8185",
     "showTitle": false,
     "tableResultSettingsMap": {},
     "title": ""
    }
   },
   "outputs": [
    {
     "output_type": "stream",
     "name": "stdout",
     "output_type": "stream",
     "text": [
      "Out[13]: Jet Airways                          3598\nIndiGo                               1927\nAir India                            1633\nMultiple carriers                    1129\nSpiceJet                              769\nVistara                               447\nAir Asia                              296\nGoAir                                 179\nMultiple carriers Premium economy      13\nJet Airways Business                    5\nVistara Premium economy                 3\nTrujet                                  1\nName: Airline, dtype: int64"
     ]
    }
   ],
   "source": [
    "#airlines\n",
    "dataset[\"Airline\"].value_counts()"
   ]
  },
  {
   "cell_type": "code",
   "execution_count": 0,
   "metadata": {
    "application/vnd.databricks.v1+cell": {
     "cellMetadata": {
      "byteLimit": 2048000,
      "rowLimit": 10000
     },
     "inputWidgets": {},
     "nuid": "309116d7-5523-4bb0-adeb-2bd3a72baaf6",
     "showTitle": false,
     "tableResultSettingsMap": {},
     "title": ""
    }
   },
   "outputs": [
    {
     "output_type": "stream",
     "name": "stdout",
     "output_type": "stream",
     "text": [
      "Out[14]: Jet Airways          3598\nIndiGo               1927\nAir India            1632\nMultiple carriers    1129\nSpiceJet              769\nVistara               447\nAir Asia              296\nGoAir                 179\nOther                  22\nName: Airline, dtype: int64"
     ]
    }
   ],
   "source": [
    "#airline\n",
    "Airline = dataset[[\"Airline\"]].copy()\n",
    "Current_Airline_List = Airline['Airline']\n",
    "New_Airline_List = []\n",
    "\n",
    "for airline in Current_Airline_List:\n",
    "    if airline in ['Jet Airways', 'IndiGo', 'Air India', 'SpiceJet','Multiple carriers', 'GoAir', 'Vistara', 'Air Asia']:\n",
    "        New_Airline_List.append(airline)\n",
    "    else:\n",
    "        New_Airline_List.append('Other')\n",
    "Airline['Airline'] = pd.DataFrame(New_Airline_List)\n",
    "Airline['Airline'].value_counts()"
   ]
  },
  {
   "cell_type": "code",
   "execution_count": 0,
   "metadata": {
    "application/vnd.databricks.v1+cell": {
     "cellMetadata": {
      "byteLimit": 2048000,
      "rowLimit": 10000
     },
     "inputWidgets": {},
     "nuid": "124b6a2f-0624-4d52-99e6-3bf7c1a9d359",
     "showTitle": false,
     "tableResultSettingsMap": {},
     "title": ""
    }
   },
   "outputs": [
    {
     "output_type": "display_data",
     "data": {
      "text/html": [
       "<div>\n",
       "<style scoped>\n",
       "    .dataframe tbody tr th:only-of-type {\n",
       "        vertical-align: middle;\n",
       "    }\n",
       "\n",
       "    .dataframe tbody tr th {\n",
       "        vertical-align: top;\n",
       "    }\n",
       "\n",
       "    .dataframe thead th {\n",
       "        text-align: right;\n",
       "    }\n",
       "</style>\n",
       "<table border=\"1\" class=\"dataframe\">\n",
       "  <thead>\n",
       "    <tr style=\"text-align: right;\">\n",
       "      <th></th>\n",
       "      <th>Airline_Air Asia</th>\n",
       "      <th>Airline_Air India</th>\n",
       "      <th>Airline_GoAir</th>\n",
       "      <th>Airline_IndiGo</th>\n",
       "      <th>Airline_Jet Airways</th>\n",
       "      <th>Airline_Multiple carriers</th>\n",
       "      <th>Airline_Other</th>\n",
       "      <th>Airline_SpiceJet</th>\n",
       "      <th>Airline_Vistara</th>\n",
       "    </tr>\n",
       "  </thead>\n",
       "  <tbody>\n",
       "    <tr>\n",
       "      <th>0</th>\n",
       "      <td>0</td>\n",
       "      <td>0</td>\n",
       "      <td>0</td>\n",
       "      <td>1</td>\n",
       "      <td>0</td>\n",
       "      <td>0</td>\n",
       "      <td>0</td>\n",
       "      <td>0</td>\n",
       "      <td>0</td>\n",
       "    </tr>\n",
       "    <tr>\n",
       "      <th>1</th>\n",
       "      <td>0</td>\n",
       "      <td>1</td>\n",
       "      <td>0</td>\n",
       "      <td>0</td>\n",
       "      <td>0</td>\n",
       "      <td>0</td>\n",
       "      <td>0</td>\n",
       "      <td>0</td>\n",
       "      <td>0</td>\n",
       "    </tr>\n",
       "    <tr>\n",
       "      <th>2</th>\n",
       "      <td>0</td>\n",
       "      <td>0</td>\n",
       "      <td>0</td>\n",
       "      <td>0</td>\n",
       "      <td>1</td>\n",
       "      <td>0</td>\n",
       "      <td>0</td>\n",
       "      <td>0</td>\n",
       "      <td>0</td>\n",
       "    </tr>\n",
       "    <tr>\n",
       "      <th>3</th>\n",
       "      <td>0</td>\n",
       "      <td>0</td>\n",
       "      <td>0</td>\n",
       "      <td>1</td>\n",
       "      <td>0</td>\n",
       "      <td>0</td>\n",
       "      <td>0</td>\n",
       "      <td>0</td>\n",
       "      <td>0</td>\n",
       "    </tr>\n",
       "    <tr>\n",
       "      <th>4</th>\n",
       "      <td>0</td>\n",
       "      <td>0</td>\n",
       "      <td>0</td>\n",
       "      <td>1</td>\n",
       "      <td>0</td>\n",
       "      <td>0</td>\n",
       "      <td>0</td>\n",
       "      <td>0</td>\n",
       "      <td>0</td>\n",
       "    </tr>\n",
       "  </tbody>\n",
       "</table>\n",
       "</div>"
      ]
     },
     "metadata": {
      "application/vnd.databricks.v1+output": {
       "addedWidgets": {},
       "arguments": {},
       "data": "<div>\n<style scoped>\n    .dataframe tbody tr th:only-of-type {\n        vertical-align: middle;\n    }\n\n    .dataframe tbody tr th {\n        vertical-align: top;\n    }\n\n    .dataframe thead th {\n        text-align: right;\n    }\n</style>\n<table border=\"1\" class=\"dataframe\">\n  <thead>\n    <tr style=\"text-align: right;\">\n      <th></th>\n      <th>Airline_Air Asia</th>\n      <th>Airline_Air India</th>\n      <th>Airline_GoAir</th>\n      <th>Airline_IndiGo</th>\n      <th>Airline_Jet Airways</th>\n      <th>Airline_Multiple carriers</th>\n      <th>Airline_Other</th>\n      <th>Airline_SpiceJet</th>\n      <th>Airline_Vistara</th>\n    </tr>\n  </thead>\n  <tbody>\n    <tr>\n      <th>0</th>\n      <td>0</td>\n      <td>0</td>\n      <td>0</td>\n      <td>1</td>\n      <td>0</td>\n      <td>0</td>\n      <td>0</td>\n      <td>0</td>\n      <td>0</td>\n    </tr>\n    <tr>\n      <th>1</th>\n      <td>0</td>\n      <td>1</td>\n      <td>0</td>\n      <td>0</td>\n      <td>0</td>\n      <td>0</td>\n      <td>0</td>\n      <td>0</td>\n      <td>0</td>\n    </tr>\n    <tr>\n      <th>2</th>\n      <td>0</td>\n      <td>0</td>\n      <td>0</td>\n      <td>0</td>\n      <td>1</td>\n      <td>0</td>\n      <td>0</td>\n      <td>0</td>\n      <td>0</td>\n    </tr>\n    <tr>\n      <th>3</th>\n      <td>0</td>\n      <td>0</td>\n      <td>0</td>\n      <td>1</td>\n      <td>0</td>\n      <td>0</td>\n      <td>0</td>\n      <td>0</td>\n      <td>0</td>\n    </tr>\n    <tr>\n      <th>4</th>\n      <td>0</td>\n      <td>0</td>\n      <td>0</td>\n      <td>1</td>\n      <td>0</td>\n      <td>0</td>\n      <td>0</td>\n      <td>0</td>\n      <td>0</td>\n    </tr>\n  </tbody>\n</table>\n</div>",
       "datasetInfos": [],
       "metadata": {},
       "removedWidgets": [],
       "textData": null,
       "type": "htmlSandbox"
      }
     },
     "output_type": "display_data"
    }
   ],
   "source": [
    "Airline = pd.get_dummies(Airline)\n",
    "Airline.head()"
   ]
  },
  {
   "cell_type": "code",
   "execution_count": 0,
   "metadata": {
    "application/vnd.databricks.v1+cell": {
     "cellMetadata": {
      "byteLimit": 2048000,
      "rowLimit": 10000
     },
     "inputWidgets": {},
     "nuid": "93576781-0c9a-450f-86cf-ae1d4b520c03",
     "showTitle": false,
     "tableResultSettingsMap": {},
     "title": ""
    }
   },
   "outputs": [
    {
     "output_type": "stream",
     "name": "stdout",
     "output_type": "stream",
     "text": [
      "Out[16]: Delhi       4257\nKolkata     2678\nBanglore    2058\nMumbai       647\nChennai      360\nName: Source, dtype: int64"
     ]
    }
   ],
   "source": [
    "dataset[\"Source\"].value_counts()"
   ]
  },
  {
   "cell_type": "code",
   "execution_count": 0,
   "metadata": {
    "application/vnd.databricks.v1+cell": {
     "cellMetadata": {
      "byteLimit": 2048000,
      "rowLimit": 10000
     },
     "inputWidgets": {},
     "nuid": "019f73f9-681c-4f28-8ae4-63106086ee23",
     "showTitle": false,
     "tableResultSettingsMap": {},
     "title": ""
    }
   },
   "outputs": [
    {
     "output_type": "display_data",
     "data": {
      "text/html": [
       "<div>\n",
       "<style scoped>\n",
       "    .dataframe tbody tr th:only-of-type {\n",
       "        vertical-align: middle;\n",
       "    }\n",
       "\n",
       "    .dataframe tbody tr th {\n",
       "        vertical-align: top;\n",
       "    }\n",
       "\n",
       "    .dataframe thead th {\n",
       "        text-align: right;\n",
       "    }\n",
       "</style>\n",
       "<table border=\"1\" class=\"dataframe\">\n",
       "  <thead>\n",
       "    <tr style=\"text-align: right;\">\n",
       "      <th></th>\n",
       "      <th>Source_Banglore</th>\n",
       "      <th>Source_Chennai</th>\n",
       "      <th>Source_Delhi</th>\n",
       "      <th>Source_Kolkata</th>\n",
       "      <th>Source_Mumbai</th>\n",
       "    </tr>\n",
       "  </thead>\n",
       "  <tbody>\n",
       "    <tr>\n",
       "      <th>0</th>\n",
       "      <td>1</td>\n",
       "      <td>0</td>\n",
       "      <td>0</td>\n",
       "      <td>0</td>\n",
       "      <td>0</td>\n",
       "    </tr>\n",
       "    <tr>\n",
       "      <th>1</th>\n",
       "      <td>0</td>\n",
       "      <td>0</td>\n",
       "      <td>0</td>\n",
       "      <td>1</td>\n",
       "      <td>0</td>\n",
       "    </tr>\n",
       "    <tr>\n",
       "      <th>2</th>\n",
       "      <td>0</td>\n",
       "      <td>0</td>\n",
       "      <td>1</td>\n",
       "      <td>0</td>\n",
       "      <td>0</td>\n",
       "    </tr>\n",
       "    <tr>\n",
       "      <th>3</th>\n",
       "      <td>0</td>\n",
       "      <td>0</td>\n",
       "      <td>0</td>\n",
       "      <td>1</td>\n",
       "      <td>0</td>\n",
       "    </tr>\n",
       "    <tr>\n",
       "      <th>4</th>\n",
       "      <td>1</td>\n",
       "      <td>0</td>\n",
       "      <td>0</td>\n",
       "      <td>0</td>\n",
       "      <td>0</td>\n",
       "    </tr>\n",
       "  </tbody>\n",
       "</table>\n",
       "</div>"
      ]
     },
     "metadata": {
      "application/vnd.databricks.v1+output": {
       "addedWidgets": {},
       "arguments": {},
       "data": "<div>\n<style scoped>\n    .dataframe tbody tr th:only-of-type {\n        vertical-align: middle;\n    }\n\n    .dataframe tbody tr th {\n        vertical-align: top;\n    }\n\n    .dataframe thead th {\n        text-align: right;\n    }\n</style>\n<table border=\"1\" class=\"dataframe\">\n  <thead>\n    <tr style=\"text-align: right;\">\n      <th></th>\n      <th>Source_Banglore</th>\n      <th>Source_Chennai</th>\n      <th>Source_Delhi</th>\n      <th>Source_Kolkata</th>\n      <th>Source_Mumbai</th>\n    </tr>\n  </thead>\n  <tbody>\n    <tr>\n      <th>0</th>\n      <td>1</td>\n      <td>0</td>\n      <td>0</td>\n      <td>0</td>\n      <td>0</td>\n    </tr>\n    <tr>\n      <th>1</th>\n      <td>0</td>\n      <td>0</td>\n      <td>0</td>\n      <td>1</td>\n      <td>0</td>\n    </tr>\n    <tr>\n      <th>2</th>\n      <td>0</td>\n      <td>0</td>\n      <td>1</td>\n      <td>0</td>\n      <td>0</td>\n    </tr>\n    <tr>\n      <th>3</th>\n      <td>0</td>\n      <td>0</td>\n      <td>0</td>\n      <td>1</td>\n      <td>0</td>\n    </tr>\n    <tr>\n      <th>4</th>\n      <td>1</td>\n      <td>0</td>\n      <td>0</td>\n      <td>0</td>\n      <td>0</td>\n    </tr>\n  </tbody>\n</table>\n</div>",
       "datasetInfos": [],
       "metadata": {},
       "removedWidgets": [],
       "textData": null,
       "type": "htmlSandbox"
      }
     },
     "output_type": "display_data"
    }
   ],
   "source": [
    "#source\n",
    "Source = dataset[['Source']]\n",
    "Source = pd.get_dummies(Source)\n",
    "Source.head()"
   ]
  },
  {
   "cell_type": "code",
   "execution_count": 0,
   "metadata": {
    "application/vnd.databricks.v1+cell": {
     "cellMetadata": {
      "byteLimit": 2048000,
      "rowLimit": 10000
     },
     "inputWidgets": {},
     "nuid": "dce2f008-ff77-47e4-a9e7-cd04011c59ca",
     "showTitle": false,
     "tableResultSettingsMap": {},
     "title": ""
    }
   },
   "outputs": [
    {
     "output_type": "stream",
     "name": "stdout",
     "output_type": "stream",
     "text": [
      "Out[18]: Cochin       4257\nBanglore     2678\nDelhi        1191\nNew Delhi     867\nHyderabad     647\nKolkata       360\nName: Destination, dtype: int64"
     ]
    }
   ],
   "source": [
    "dataset[\"Destination\"].value_counts()"
   ]
  },
  {
   "cell_type": "code",
   "execution_count": 0,
   "metadata": {
    "application/vnd.databricks.v1+cell": {
     "cellMetadata": {
      "byteLimit": 2048000,
      "rowLimit": 10000
     },
     "inputWidgets": {},
     "nuid": "2804a215-2148-41e7-91a5-dd3c515d5173",
     "showTitle": false,
     "tableResultSettingsMap": {},
     "title": ""
    }
   },
   "outputs": [
    {
     "output_type": "display_data",
     "data": {
      "text/html": [
       "<div>\n",
       "<style scoped>\n",
       "    .dataframe tbody tr th:only-of-type {\n",
       "        vertical-align: middle;\n",
       "    }\n",
       "\n",
       "    .dataframe tbody tr th {\n",
       "        vertical-align: top;\n",
       "    }\n",
       "\n",
       "    .dataframe thead th {\n",
       "        text-align: right;\n",
       "    }\n",
       "</style>\n",
       "<table border=\"1\" class=\"dataframe\">\n",
       "  <thead>\n",
       "    <tr style=\"text-align: right;\">\n",
       "      <th></th>\n",
       "      <th>Destination_Banglore</th>\n",
       "      <th>Destination_Cochin</th>\n",
       "      <th>Destination_Delhi</th>\n",
       "      <th>Destination_Hyderabad</th>\n",
       "      <th>Destination_Kolkata</th>\n",
       "    </tr>\n",
       "  </thead>\n",
       "  <tbody>\n",
       "    <tr>\n",
       "      <th>0</th>\n",
       "      <td>0</td>\n",
       "      <td>0</td>\n",
       "      <td>1</td>\n",
       "      <td>0</td>\n",
       "      <td>0</td>\n",
       "    </tr>\n",
       "    <tr>\n",
       "      <th>1</th>\n",
       "      <td>1</td>\n",
       "      <td>0</td>\n",
       "      <td>0</td>\n",
       "      <td>0</td>\n",
       "      <td>0</td>\n",
       "    </tr>\n",
       "    <tr>\n",
       "      <th>2</th>\n",
       "      <td>0</td>\n",
       "      <td>1</td>\n",
       "      <td>0</td>\n",
       "      <td>0</td>\n",
       "      <td>0</td>\n",
       "    </tr>\n",
       "    <tr>\n",
       "      <th>3</th>\n",
       "      <td>1</td>\n",
       "      <td>0</td>\n",
       "      <td>0</td>\n",
       "      <td>0</td>\n",
       "      <td>0</td>\n",
       "    </tr>\n",
       "    <tr>\n",
       "      <th>4</th>\n",
       "      <td>0</td>\n",
       "      <td>0</td>\n",
       "      <td>1</td>\n",
       "      <td>0</td>\n",
       "      <td>0</td>\n",
       "    </tr>\n",
       "  </tbody>\n",
       "</table>\n",
       "</div>"
      ]
     },
     "metadata": {
      "application/vnd.databricks.v1+output": {
       "addedWidgets": {},
       "arguments": {},
       "data": "<div>\n<style scoped>\n    .dataframe tbody tr th:only-of-type {\n        vertical-align: middle;\n    }\n\n    .dataframe tbody tr th {\n        vertical-align: top;\n    }\n\n    .dataframe thead th {\n        text-align: right;\n    }\n</style>\n<table border=\"1\" class=\"dataframe\">\n  <thead>\n    <tr style=\"text-align: right;\">\n      <th></th>\n      <th>Destination_Banglore</th>\n      <th>Destination_Cochin</th>\n      <th>Destination_Delhi</th>\n      <th>Destination_Hyderabad</th>\n      <th>Destination_Kolkata</th>\n    </tr>\n  </thead>\n  <tbody>\n    <tr>\n      <th>0</th>\n      <td>0</td>\n      <td>0</td>\n      <td>1</td>\n      <td>0</td>\n      <td>0</td>\n    </tr>\n    <tr>\n      <th>1</th>\n      <td>1</td>\n      <td>0</td>\n      <td>0</td>\n      <td>0</td>\n      <td>0</td>\n    </tr>\n    <tr>\n      <th>2</th>\n      <td>0</td>\n      <td>1</td>\n      <td>0</td>\n      <td>0</td>\n      <td>0</td>\n    </tr>\n    <tr>\n      <th>3</th>\n      <td>1</td>\n      <td>0</td>\n      <td>0</td>\n      <td>0</td>\n      <td>0</td>\n    </tr>\n    <tr>\n      <th>4</th>\n      <td>0</td>\n      <td>0</td>\n      <td>1</td>\n      <td>0</td>\n      <td>0</td>\n    </tr>\n  </tbody>\n</table>\n</div>",
       "datasetInfos": [],
       "metadata": {},
       "removedWidgets": [],
       "textData": null,
       "type": "htmlSandbox"
      }
     },
     "output_type": "display_data"
    }
   ],
   "source": [
    "#destination\n",
    "Destination = dataset[[\"Destination\"]].copy()\n",
    "Current_Destination_List = Destination['Destination']\n",
    "New_Destination_List = []\n",
    "\n",
    "for value in Current_Destination_List:\n",
    "    if value in ['New Delhi']:\n",
    "        New_Destination_List.append('Delhi')\n",
    "    else:\n",
    "        New_Destination_List.append(value)\n",
    "Destination['Destination'] = pd.DataFrame(New_Destination_List)\n",
    "Destination = pd.get_dummies(Destination)\n",
    "Destination.head()"
   ]
  },
  {
   "cell_type": "code",
   "execution_count": 0,
   "metadata": {
    "application/vnd.databricks.v1+cell": {
     "cellMetadata": {
      "byteLimit": 2048000,
      "rowLimit": 10000
     },
     "inputWidgets": {},
     "nuid": "63064a06-5d58-429e-9817-18f244207263",
     "showTitle": false,
     "tableResultSettingsMap": {},
     "title": ""
    }
   },
   "outputs": [
    {
     "output_type": "display_data",
     "data": {
      "text/html": [
       "<div>\n",
       "<style scoped>\n",
       "    .dataframe tbody tr th:only-of-type {\n",
       "        vertical-align: middle;\n",
       "    }\n",
       "\n",
       "    .dataframe tbody tr th {\n",
       "        vertical-align: top;\n",
       "    }\n",
       "\n",
       "    .dataframe thead th {\n",
       "        text-align: right;\n",
       "    }\n",
       "</style>\n",
       "<table border=\"1\" class=\"dataframe\">\n",
       "  <thead>\n",
       "    <tr style=\"text-align: right;\">\n",
       "      <th></th>\n",
       "      <th>Total_Stops</th>\n",
       "      <th>Price</th>\n",
       "      <th>journey_day</th>\n",
       "      <th>journey_month</th>\n",
       "      <th>dep_hour</th>\n",
       "      <th>dep_min</th>\n",
       "      <th>arrival_hour</th>\n",
       "      <th>arrival_min</th>\n",
       "      <th>Duration_hours</th>\n",
       "      <th>Duration_mins</th>\n",
       "      <th>Airline_Air Asia</th>\n",
       "      <th>Airline_Air India</th>\n",
       "      <th>Airline_GoAir</th>\n",
       "      <th>Airline_IndiGo</th>\n",
       "      <th>Airline_Jet Airways</th>\n",
       "      <th>Airline_Multiple carriers</th>\n",
       "      <th>Airline_Other</th>\n",
       "      <th>Airline_SpiceJet</th>\n",
       "      <th>Airline_Vistara</th>\n",
       "      <th>Source_Banglore</th>\n",
       "      <th>Source_Chennai</th>\n",
       "      <th>Source_Delhi</th>\n",
       "      <th>Source_Kolkata</th>\n",
       "      <th>Source_Mumbai</th>\n",
       "      <th>Destination_Banglore</th>\n",
       "      <th>Destination_Cochin</th>\n",
       "      <th>Destination_Delhi</th>\n",
       "      <th>Destination_Hyderabad</th>\n",
       "      <th>Destination_Kolkata</th>\n",
       "    </tr>\n",
       "  </thead>\n",
       "  <tbody>\n",
       "    <tr>\n",
       "      <th>0</th>\n",
       "      <td>0</td>\n",
       "      <td>3897.0</td>\n",
       "      <td>24</td>\n",
       "      <td>3</td>\n",
       "      <td>22</td>\n",
       "      <td>20</td>\n",
       "      <td>1</td>\n",
       "      <td>10</td>\n",
       "      <td>2</td>\n",
       "      <td>50</td>\n",
       "      <td>0</td>\n",
       "      <td>0</td>\n",
       "      <td>0</td>\n",
       "      <td>1</td>\n",
       "      <td>0</td>\n",
       "      <td>0</td>\n",
       "      <td>0</td>\n",
       "      <td>0</td>\n",
       "      <td>0</td>\n",
       "      <td>1</td>\n",
       "      <td>0</td>\n",
       "      <td>0</td>\n",
       "      <td>0</td>\n",
       "      <td>0</td>\n",
       "      <td>0</td>\n",
       "      <td>0</td>\n",
       "      <td>1</td>\n",
       "      <td>0</td>\n",
       "      <td>0</td>\n",
       "    </tr>\n",
       "    <tr>\n",
       "      <th>1</th>\n",
       "      <td>2</td>\n",
       "      <td>7662.0</td>\n",
       "      <td>1</td>\n",
       "      <td>5</td>\n",
       "      <td>5</td>\n",
       "      <td>50</td>\n",
       "      <td>13</td>\n",
       "      <td>15</td>\n",
       "      <td>7</td>\n",
       "      <td>25</td>\n",
       "      <td>0</td>\n",
       "      <td>1</td>\n",
       "      <td>0</td>\n",
       "      <td>0</td>\n",
       "      <td>0</td>\n",
       "      <td>0</td>\n",
       "      <td>0</td>\n",
       "      <td>0</td>\n",
       "      <td>0</td>\n",
       "      <td>0</td>\n",
       "      <td>0</td>\n",
       "      <td>0</td>\n",
       "      <td>1</td>\n",
       "      <td>0</td>\n",
       "      <td>1</td>\n",
       "      <td>0</td>\n",
       "      <td>0</td>\n",
       "      <td>0</td>\n",
       "      <td>0</td>\n",
       "    </tr>\n",
       "    <tr>\n",
       "      <th>2</th>\n",
       "      <td>2</td>\n",
       "      <td>13882.0</td>\n",
       "      <td>9</td>\n",
       "      <td>6</td>\n",
       "      <td>9</td>\n",
       "      <td>25</td>\n",
       "      <td>4</td>\n",
       "      <td>25</td>\n",
       "      <td>19</td>\n",
       "      <td>0</td>\n",
       "      <td>0</td>\n",
       "      <td>0</td>\n",
       "      <td>0</td>\n",
       "      <td>0</td>\n",
       "      <td>1</td>\n",
       "      <td>0</td>\n",
       "      <td>0</td>\n",
       "      <td>0</td>\n",
       "      <td>0</td>\n",
       "      <td>0</td>\n",
       "      <td>0</td>\n",
       "      <td>1</td>\n",
       "      <td>0</td>\n",
       "      <td>0</td>\n",
       "      <td>0</td>\n",
       "      <td>1</td>\n",
       "      <td>0</td>\n",
       "      <td>0</td>\n",
       "      <td>0</td>\n",
       "    </tr>\n",
       "    <tr>\n",
       "      <th>3</th>\n",
       "      <td>1</td>\n",
       "      <td>6218.0</td>\n",
       "      <td>12</td>\n",
       "      <td>5</td>\n",
       "      <td>18</td>\n",
       "      <td>5</td>\n",
       "      <td>23</td>\n",
       "      <td>30</td>\n",
       "      <td>5</td>\n",
       "      <td>25</td>\n",
       "      <td>0</td>\n",
       "      <td>0</td>\n",
       "      <td>0</td>\n",
       "      <td>1</td>\n",
       "      <td>0</td>\n",
       "      <td>0</td>\n",
       "      <td>0</td>\n",
       "      <td>0</td>\n",
       "      <td>0</td>\n",
       "      <td>0</td>\n",
       "      <td>0</td>\n",
       "      <td>0</td>\n",
       "      <td>1</td>\n",
       "      <td>0</td>\n",
       "      <td>1</td>\n",
       "      <td>0</td>\n",
       "      <td>0</td>\n",
       "      <td>0</td>\n",
       "      <td>0</td>\n",
       "    </tr>\n",
       "    <tr>\n",
       "      <th>4</th>\n",
       "      <td>1</td>\n",
       "      <td>13302.0</td>\n",
       "      <td>1</td>\n",
       "      <td>3</td>\n",
       "      <td>16</td>\n",
       "      <td>50</td>\n",
       "      <td>21</td>\n",
       "      <td>35</td>\n",
       "      <td>4</td>\n",
       "      <td>45</td>\n",
       "      <td>0</td>\n",
       "      <td>0</td>\n",
       "      <td>0</td>\n",
       "      <td>1</td>\n",
       "      <td>0</td>\n",
       "      <td>0</td>\n",
       "      <td>0</td>\n",
       "      <td>0</td>\n",
       "      <td>0</td>\n",
       "      <td>1</td>\n",
       "      <td>0</td>\n",
       "      <td>0</td>\n",
       "      <td>0</td>\n",
       "      <td>0</td>\n",
       "      <td>0</td>\n",
       "      <td>0</td>\n",
       "      <td>1</td>\n",
       "      <td>0</td>\n",
       "      <td>0</td>\n",
       "    </tr>\n",
       "  </tbody>\n",
       "</table>\n",
       "</div>"
      ]
     },
     "metadata": {
      "application/vnd.databricks.v1+output": {
       "addedWidgets": {},
       "arguments": {},
       "data": "<div>\n<style scoped>\n    .dataframe tbody tr th:only-of-type {\n        vertical-align: middle;\n    }\n\n    .dataframe tbody tr th {\n        vertical-align: top;\n    }\n\n    .dataframe thead th {\n        text-align: right;\n    }\n</style>\n<table border=\"1\" class=\"dataframe\">\n  <thead>\n    <tr style=\"text-align: right;\">\n      <th></th>\n      <th>Total_Stops</th>\n      <th>Price</th>\n      <th>journey_day</th>\n      <th>journey_month</th>\n      <th>dep_hour</th>\n      <th>dep_min</th>\n      <th>arrival_hour</th>\n      <th>arrival_min</th>\n      <th>Duration_hours</th>\n      <th>Duration_mins</th>\n      <th>Airline_Air Asia</th>\n      <th>Airline_Air India</th>\n      <th>Airline_GoAir</th>\n      <th>Airline_IndiGo</th>\n      <th>Airline_Jet Airways</th>\n      <th>Airline_Multiple carriers</th>\n      <th>Airline_Other</th>\n      <th>Airline_SpiceJet</th>\n      <th>Airline_Vistara</th>\n      <th>Source_Banglore</th>\n      <th>Source_Chennai</th>\n      <th>Source_Delhi</th>\n      <th>Source_Kolkata</th>\n      <th>Source_Mumbai</th>\n      <th>Destination_Banglore</th>\n      <th>Destination_Cochin</th>\n      <th>Destination_Delhi</th>\n      <th>Destination_Hyderabad</th>\n      <th>Destination_Kolkata</th>\n    </tr>\n  </thead>\n  <tbody>\n    <tr>\n      <th>0</th>\n      <td>0</td>\n      <td>3897.0</td>\n      <td>24</td>\n      <td>3</td>\n      <td>22</td>\n      <td>20</td>\n      <td>1</td>\n      <td>10</td>\n      <td>2</td>\n      <td>50</td>\n      <td>0</td>\n      <td>0</td>\n      <td>0</td>\n      <td>1</td>\n      <td>0</td>\n      <td>0</td>\n      <td>0</td>\n      <td>0</td>\n      <td>0</td>\n      <td>1</td>\n      <td>0</td>\n      <td>0</td>\n      <td>0</td>\n      <td>0</td>\n      <td>0</td>\n      <td>0</td>\n      <td>1</td>\n      <td>0</td>\n      <td>0</td>\n    </tr>\n    <tr>\n      <th>1</th>\n      <td>2</td>\n      <td>7662.0</td>\n      <td>1</td>\n      <td>5</td>\n      <td>5</td>\n      <td>50</td>\n      <td>13</td>\n      <td>15</td>\n      <td>7</td>\n      <td>25</td>\n      <td>0</td>\n      <td>1</td>\n      <td>0</td>\n      <td>0</td>\n      <td>0</td>\n      <td>0</td>\n      <td>0</td>\n      <td>0</td>\n      <td>0</td>\n      <td>0</td>\n      <td>0</td>\n      <td>0</td>\n      <td>1</td>\n      <td>0</td>\n      <td>1</td>\n      <td>0</td>\n      <td>0</td>\n      <td>0</td>\n      <td>0</td>\n    </tr>\n    <tr>\n      <th>2</th>\n      <td>2</td>\n      <td>13882.0</td>\n      <td>9</td>\n      <td>6</td>\n      <td>9</td>\n      <td>25</td>\n      <td>4</td>\n      <td>25</td>\n      <td>19</td>\n      <td>0</td>\n      <td>0</td>\n      <td>0</td>\n      <td>0</td>\n      <td>0</td>\n      <td>1</td>\n      <td>0</td>\n      <td>0</td>\n      <td>0</td>\n      <td>0</td>\n      <td>0</td>\n      <td>0</td>\n      <td>1</td>\n      <td>0</td>\n      <td>0</td>\n      <td>0</td>\n      <td>1</td>\n      <td>0</td>\n      <td>0</td>\n      <td>0</td>\n    </tr>\n    <tr>\n      <th>3</th>\n      <td>1</td>\n      <td>6218.0</td>\n      <td>12</td>\n      <td>5</td>\n      <td>18</td>\n      <td>5</td>\n      <td>23</td>\n      <td>30</td>\n      <td>5</td>\n      <td>25</td>\n      <td>0</td>\n      <td>0</td>\n      <td>0</td>\n      <td>1</td>\n      <td>0</td>\n      <td>0</td>\n      <td>0</td>\n      <td>0</td>\n      <td>0</td>\n      <td>0</td>\n      <td>0</td>\n      <td>0</td>\n      <td>1</td>\n      <td>0</td>\n      <td>1</td>\n      <td>0</td>\n      <td>0</td>\n      <td>0</td>\n      <td>0</td>\n    </tr>\n    <tr>\n      <th>4</th>\n      <td>1</td>\n      <td>13302.0</td>\n      <td>1</td>\n      <td>3</td>\n      <td>16</td>\n      <td>50</td>\n      <td>21</td>\n      <td>35</td>\n      <td>4</td>\n      <td>45</td>\n      <td>0</td>\n      <td>0</td>\n      <td>0</td>\n      <td>1</td>\n      <td>0</td>\n      <td>0</td>\n      <td>0</td>\n      <td>0</td>\n      <td>0</td>\n      <td>1</td>\n      <td>0</td>\n      <td>0</td>\n      <td>0</td>\n      <td>0</td>\n      <td>0</td>\n      <td>0</td>\n      <td>1</td>\n      <td>0</td>\n      <td>0</td>\n    </tr>\n  </tbody>\n</table>\n</div>",
       "datasetInfos": [],
       "metadata": {},
       "removedWidgets": [],
       "textData": null,
       "type": "htmlSandbox"
      }
     },
     "output_type": "display_data"
    }
   ],
   "source": [
    "#concat\n",
    "data_train = pd.concat([dataset,Airline,Source,Destination], axis=1 )\n",
    "data_train.drop([\"Airline\", \"Source\", \"Destination\"], axis = 1, inplace = True)\n",
    "data_train.head()"
   ]
  },
  {
   "cell_type": "code",
   "execution_count": 0,
   "metadata": {
    "application/vnd.databricks.v1+cell": {
     "cellMetadata": {
      "byteLimit": 2048000,
      "rowLimit": 10000
     },
     "inputWidgets": {},
     "nuid": "61a5306a-4fe3-4c33-97a8-85411b13de95",
     "showTitle": false,
     "tableResultSettingsMap": {},
     "title": ""
    }
   },
   "outputs": [
    {
     "output_type": "stream",
     "name": "stdout",
     "output_type": "stream",
     "text": [
      "Out[21]: (10000, 29)"
     ]
    }
   ],
   "source": [
    "data_train.shape"
   ]
  },
  {
   "cell_type": "code",
   "execution_count": 0,
   "metadata": {
    "application/vnd.databricks.v1+cell": {
     "cellMetadata": {
      "byteLimit": 2048000,
      "rowLimit": 10000
     },
     "inputWidgets": {},
     "nuid": "5aacf163-db16-426b-a55f-61d40ecff693",
     "showTitle": false,
     "tableResultSettingsMap": {},
     "title": ""
    }
   },
   "outputs": [
    {
     "output_type": "stream",
     "name": "stdout",
     "output_type": "stream",
     "text": [
      "Out[22]: Index(['Total_Stops', 'Price', 'journey_day', 'journey_month', 'dep_hour',\n       'dep_min', 'arrival_hour', 'arrival_min', 'Duration_hours',\n       'Duration_mins', 'Airline_Air Asia', 'Airline_Air India',\n       'Airline_GoAir', 'Airline_IndiGo', 'Airline_Jet Airways',\n       'Airline_Multiple carriers', 'Airline_Other', 'Airline_SpiceJet',\n       'Airline_Vistara', 'Source_Banglore', 'Source_Chennai', 'Source_Delhi',\n       'Source_Kolkata', 'Source_Mumbai', 'Destination_Banglore',\n       'Destination_Cochin', 'Destination_Delhi', 'Destination_Hyderabad',\n       'Destination_Kolkata'],\n      dtype='object')"
     ]
    }
   ],
   "source": [
    "data_train.columns"
   ]
  },
  {
   "cell_type": "code",
   "execution_count": 0,
   "metadata": {
    "application/vnd.databricks.v1+cell": {
     "cellMetadata": {
      "byteLimit": 2048000,
      "rowLimit": 10000
     },
     "inputWidgets": {},
     "nuid": "90119753-6952-4643-8970-9f6518611755",
     "showTitle": false,
     "tableResultSettingsMap": {},
     "title": ""
    }
   },
   "outputs": [],
   "source": [
    "X = data_train.loc[:, ['Total_Stops', 'journey_day', 'journey_month', 'dep_hour',\n",
    "       'dep_min', 'arrival_hour', 'arrival_min', 'Duration_hours',\n",
    "       'Duration_mins', 'Airline_Air India', 'Airline_GoAir', 'Airline_IndiGo',\n",
    "       'Airline_Jet Airways', 'Airline_Multiple carriers', 'Airline_Other',\n",
    "       'Airline_SpiceJet', 'Airline_Vistara', 'Source_Banglore',\n",
    "       'Source_Chennai', 'Source_Delhi', 'Source_Kolkata', 'Source_Mumbai',\n",
    "       'Destination_Banglore', 'Destination_Cochin', 'Destination_Delhi',\n",
    "       'Destination_Hyderabad', 'Destination_Kolkata']]\n",
    "y = data_train.iloc[:, 1]"
   ]
  },
  {
   "cell_type": "code",
   "execution_count": 0,
   "metadata": {
    "application/vnd.databricks.v1+cell": {
     "cellMetadata": {
      "byteLimit": 2048000,
      "rowLimit": 10000
     },
     "inputWidgets": {},
     "nuid": "8739cf01-da05-4625-9a2c-8099bb1917b7",
     "showTitle": false,
     "tableResultSettingsMap": {},
     "title": ""
    }
   },
   "outputs": [
    {
     "output_type": "stream",
     "name": "stdout",
     "output_type": "stream",
     "text": [
      "(10000, 27) (10000,)\n"
     ]
    }
   ],
   "source": [
    "print(X.shape, y.shape)"
   ]
  },
  {
   "cell_type": "code",
   "execution_count": 0,
   "metadata": {
    "application/vnd.databricks.v1+cell": {
     "cellMetadata": {
      "byteLimit": 2048000,
      "rowLimit": 10000
     },
     "inputWidgets": {},
     "nuid": "d87ca2ad-d723-4479-856c-70bd68b94d8c",
     "showTitle": false,
     "tableResultSettingsMap": {},
     "title": ""
    }
   },
   "outputs": [
    {
     "output_type": "stream",
     "name": "stdout",
     "output_type": "stream",
     "text": [
      "[0.24123758 0.14078983 0.06130662 0.02844854 0.02364922 0.03547386\n 0.02297214 0.13967955 0.0200213  0.00857658 0.00133273 0.01355957\n 0.11399111 0.01639797 0.02543746 0.00414375 0.00326475 0.0269395\n 0.00095577 0.01968853 0.00686384 0.01476889 0.00373315 0.00643397\n 0.01499516 0.00371942 0.00161919]\n"
     ]
    }
   ],
   "source": [
    "#imp features\n",
    "from sklearn.ensemble import ExtraTreesRegressor\n",
    "selection =ExtraTreesRegressor()\n",
    "selection.fit(X,y)\n",
    "print(selection.feature_importances_)\n"
   ]
  },
  {
   "cell_type": "code",
   "execution_count": 0,
   "metadata": {
    "application/vnd.databricks.v1+cell": {
     "cellMetadata": {
      "byteLimit": 2048000,
      "rowLimit": 10000
     },
     "inputWidgets": {},
     "nuid": "e228d7f2-cbdd-47cb-bf7e-ae5edd8c5c5b",
     "showTitle": false,
     "tableResultSettingsMap": {},
     "title": ""
    }
   },
   "outputs": [
    {
     "output_type": "display_data",
     "data": {
      "image/png": "[encoded data removed]"
     },
     "metadata": {
      "application/vnd.databricks.v1+output": {
       "addedWidgets": {},
       "arguments": {},
       "data": "data:image/png;base64,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\n",
       "datasetInfos": [],
       "metadata": {},
       "removedWidgets": [],
       "type": "image"
      }
     },
     "output_type": "display_data"
    }
   ],
   "source": [
    "#plotiing\n",
    "import matplotlib.pyplot as plt\n",
    "plt.figure(figsize = (12,8))\n",
    "feat_importance = pd.Series(selection.feature_importances_,index=X.columns)\n",
    "feat_importance.nlargest(27).plot(kind='barh')\n",
    "plt.show()"
   ]
  },
  {
   "cell_type": "code",
   "execution_count": 0,
   "metadata": {
    "application/vnd.databricks.v1+cell": {
     "cellMetadata": {
      "byteLimit": 2048000,
      "rowLimit": 10000
     },
     "inputWidgets": {},
     "nuid": "abdee5b5-aedb-4a34-973c-a37599dae652",
     "showTitle": false,
     "tableResultSettingsMap": {},
     "title": ""
    }
   },
   "outputs": [
    {
     "output_type": "display_data",
     "data": {
      "text/html": [
       "<div>\n",
       "<style scoped>\n",
       "    .dataframe tbody tr th:only-of-type {\n",
       "        vertical-align: middle;\n",
       "    }\n",
       "\n",
       "    .dataframe tbody tr th {\n",
       "        vertical-align: top;\n",
       "    }\n",
       "\n",
       "    .dataframe thead th {\n",
       "        text-align: right;\n",
       "    }\n",
       "</style>\n",
       "<table border=\"1\" class=\"dataframe\">\n",
       "  <thead>\n",
       "    <tr style=\"text-align: right;\">\n",
       "      <th></th>\n",
       "      <th>Variables</th>\n",
       "      <th>VIF</th>\n",
       "    </tr>\n",
       "  </thead>\n",
       "  <tbody>\n",
       "    <tr>\n",
       "      <th>0</th>\n",
       "      <td>Total_Stops</td>\n",
       "      <td>3.022364</td>\n",
       "    </tr>\n",
       "    <tr>\n",
       "      <th>1</th>\n",
       "      <td>journey_day</td>\n",
       "      <td>1.021296</td>\n",
       "    </tr>\n",
       "    <tr>\n",
       "      <th>2</th>\n",
       "      <td>journey_month</td>\n",
       "      <td>1.105632</td>\n",
       "    </tr>\n",
       "    <tr>\n",
       "      <th>3</th>\n",
       "      <td>dep_hour</td>\n",
       "      <td>1.056345</td>\n",
       "    </tr>\n",
       "    <tr>\n",
       "      <th>4</th>\n",
       "      <td>dep_min</td>\n",
       "      <td>1.090589</td>\n",
       "    </tr>\n",
       "    <tr>\n",
       "      <th>5</th>\n",
       "      <td>arrival_hour</td>\n",
       "      <td>1.074826</td>\n",
       "    </tr>\n",
       "    <tr>\n",
       "      <th>6</th>\n",
       "      <td>arrival_min</td>\n",
       "      <td>1.127890</td>\n",
       "    </tr>\n",
       "    <tr>\n",
       "      <th>7</th>\n",
       "      <td>Duration_hours</td>\n",
       "      <td>2.518524</td>\n",
       "    </tr>\n",
       "    <tr>\n",
       "      <th>8</th>\n",
       "      <td>Duration_mins</td>\n",
       "      <td>1.138308</td>\n",
       "    </tr>\n",
       "    <tr>\n",
       "      <th>9</th>\n",
       "      <td>Airline_Air India</td>\n",
       "      <td>6.021425</td>\n",
       "    </tr>\n",
       "    <tr>\n",
       "      <th>10</th>\n",
       "      <td>Airline_GoAir</td>\n",
       "      <td>1.598337</td>\n",
       "    </tr>\n",
       "    <tr>\n",
       "      <th>11</th>\n",
       "      <td>Airline_IndiGo</td>\n",
       "      <td>6.328454</td>\n",
       "    </tr>\n",
       "    <tr>\n",
       "      <th>12</th>\n",
       "      <td>Airline_Jet Airways</td>\n",
       "      <td>9.060389</td>\n",
       "    </tr>\n",
       "    <tr>\n",
       "      <th>13</th>\n",
       "      <td>Airline_Multiple carriers</td>\n",
       "      <td>4.829932</td>\n",
       "    </tr>\n",
       "    <tr>\n",
       "      <th>14</th>\n",
       "      <td>Airline_Other</td>\n",
       "      <td>1.084752</td>\n",
       "    </tr>\n",
       "    <tr>\n",
       "      <th>15</th>\n",
       "      <td>Airline_SpiceJet</td>\n",
       "      <td>3.462402</td>\n",
       "    </tr>\n",
       "    <tr>\n",
       "      <th>16</th>\n",
       "      <td>Airline_Vistara</td>\n",
       "      <td>2.524567</td>\n",
       "    </tr>\n",
       "    <tr>\n",
       "      <th>17</th>\n",
       "      <td>Source_Banglore</td>\n",
       "      <td>2076.493991</td>\n",
       "    </tr>\n",
       "    <tr>\n",
       "      <th>18</th>\n",
       "      <td>Source_Chennai</td>\n",
       "      <td>367.335347</td>\n",
       "    </tr>\n",
       "    <tr>\n",
       "      <th>19</th>\n",
       "      <td>Source_Delhi</td>\n",
       "      <td>4282.359041</td>\n",
       "    </tr>\n",
       "    <tr>\n",
       "      <th>20</th>\n",
       "      <td>Source_Kolkata</td>\n",
       "      <td>2702.719589</td>\n",
       "    </tr>\n",
       "    <tr>\n",
       "      <th>21</th>\n",
       "      <td>Source_Mumbai</td>\n",
       "      <td>656.521595</td>\n",
       "    </tr>\n",
       "    <tr>\n",
       "      <th>22</th>\n",
       "      <td>Destination_Banglore</td>\n",
       "      <td>1974.969510</td>\n",
       "    </tr>\n",
       "    <tr>\n",
       "      <th>23</th>\n",
       "      <td>Destination_Cochin</td>\n",
       "      <td>2455.642604</td>\n",
       "    </tr>\n",
       "    <tr>\n",
       "      <th>24</th>\n",
       "      <td>Destination_Delhi</td>\n",
       "      <td>1647.289260</td>\n",
       "    </tr>\n",
       "    <tr>\n",
       "      <th>25</th>\n",
       "      <td>Destination_Hyderabad</td>\n",
       "      <td>613.611411</td>\n",
       "    </tr>\n",
       "    <tr>\n",
       "      <th>26</th>\n",
       "      <td>Destination_Kolkata</td>\n",
       "      <td>353.837035</td>\n",
       "    </tr>\n",
       "  </tbody>\n",
       "</table>\n",
       "</div>"
      ]
     },
     "metadata": {
      "application/vnd.databricks.v1+output": {
       "addedWidgets": {},
       "arguments": {},
       "data": "<div>\n<style scoped>\n    .dataframe tbody tr th:only-of-type {\n        vertical-align: middle;\n    }\n\n    .dataframe tbody tr th {\n        vertical-align: top;\n    }\n\n    .dataframe thead th {\n        text-align: right;\n    }\n</style>\n<table border=\"1\" class=\"dataframe\">\n  <thead>\n    <tr style=\"text-align: right;\">\n      <th></th>\n      <th>Variables</th>\n      <th>VIF</th>\n    </tr>\n  </thead>\n  <tbody>\n    <tr>\n      <th>0</th>\n      <td>Total_Stops</td>\n      <td>3.022364</td>\n    </tr>\n    <tr>\n      <th>1</th>\n      <td>journey_day</td>\n      <td>1.021296</td>\n    </tr>\n    <tr>\n      <th>2</th>\n      <td>journey_month</td>\n      <td>1.105632</td>\n    </tr>\n    <tr>\n      <th>3</th>\n      <td>dep_hour</td>\n      <td>1.056345</td>\n    </tr>\n    <tr>\n      <th>4</th>\n      <td>dep_min</td>\n      <td>1.090589</td>\n    </tr>\n    <tr>\n      <th>5</th>\n      <td>arrival_hour</td>\n      <td>1.074826</td>\n    </tr>\n    <tr>\n      <th>6</th>\n      <td>arrival_min</td>\n      <td>1.127890</td>\n    </tr>\n    <tr>\n      <th>7</th>\n      <td>Duration_hours</td>\n      <td>2.518524</td>\n    </tr>\n    <tr>\n      <th>8</th>\n      <td>Duration_mins</td>\n      <td>1.138308</td>\n    </tr>\n    <tr>\n      <th>9</th>\n      <td>Airline_Air India</td>\n      <td>6.021425</td>\n    </tr>\n    <tr>\n      <th>10</th>\n      <td>Airline_GoAir</td>\n      <td>1.598337</td>\n    </tr>\n    <tr>\n      <th>11</th>\n      <td>Airline_IndiGo</td>\n      <td>6.328454</td>\n    </tr>\n    <tr>\n      <th>12</th>\n      <td>Airline_Jet Airways</td>\n      <td>9.060389</td>\n    </tr>\n    <tr>\n      <th>13</th>\n      <td>Airline_Multiple carriers</td>\n      <td>4.829932</td>\n    </tr>\n    <tr>\n      <th>14</th>\n      <td>Airline_Other</td>\n      <td>1.084752</td>\n    </tr>\n    <tr>\n      <th>15</th>\n      <td>Airline_SpiceJet</td>\n      <td>3.462402</td>\n    </tr>\n    <tr>\n      <th>16</th>\n      <td>Airline_Vistara</td>\n      <td>2.524567</td>\n    </tr>\n    <tr>\n      <th>17</th>\n      <td>Source_Banglore</td>\n      <td>2076.493991</td>\n    </tr>\n    <tr>\n      <th>18</th>\n      <td>Source_Chennai</td>\n      <td>367.335347</td>\n    </tr>\n    <tr>\n      <th>19</th>\n      <td>Source_Delhi</td>\n      <td>4282.359041</td>\n    </tr>\n    <tr>\n      <th>20</th>\n      <td>Source_Kolkata</td>\n      <td>2702.719589</td>\n    </tr>\n    <tr>\n      <th>21</th>\n      <td>Source_Mumbai</td>\n      <td>656.521595</td>\n    </tr>\n    <tr>\n      <th>22</th>\n      <td>Destination_Banglore</td>\n      <td>1974.969510</td>\n    </tr>\n    <tr>\n      <th>23</th>\n      <td>Destination_Cochin</td>\n      <td>2455.642604</td>\n    </tr>\n    <tr>\n      <th>24</th>\n      <td>Destination_Delhi</td>\n      <td>1647.289260</td>\n    </tr>\n    <tr>\n      <th>25</th>\n      <td>Destination_Hyderabad</td>\n      <td>613.611411</td>\n    </tr>\n    <tr>\n      <th>26</th>\n      <td>Destination_Kolkata</td>\n      <td>353.837035</td>\n    </tr>\n  </tbody>\n</table>\n</div>",
       "datasetInfos": [],
       "metadata": {},
       "removedWidgets": [],
       "textData": null,
       "type": "htmlSandbox"
      }
     },
     "output_type": "display_data"
    }
   ],
   "source": [
    "#check for multicollinearity\n",
    "from statsmodels.stats.outliers_influence import variance_inflation_factor\n",
    "def cal_vif(data):\n",
    "    vif = pd.DataFrame()\n",
    "    vif['Variables'] = data.columns\n",
    "    vif[\"VIF\"] = [variance_inflation_factor(data.values,i) for i in range (data.shape[1])]\n",
    "    return vif\n",
    "cal_vif(X)"
   ]
  },
  {
   "cell_type": "markdown",
   "metadata": {
    "application/vnd.databricks.v1+cell": {
     "cellMetadata": {},
     "inputWidgets": {},
     "nuid": "e84e02f5-9104-4260-9d04-562188b05216",
     "showTitle": false,
     "tableResultSettingsMap": {},
     "title": ""
    }
   },
   "source": [
    "There is **Severe** Multicollinearity in **Source** and **Destination** Variables.\n",
    "\n",
    "Hence dropping one column per set of one-hot encoded variables (Source and Destination) to reduce redundancy.\n",
    "Dropping Source_Banglore and Destination_Banglore.\n"
   ]
  },
  {
   "cell_type": "code",
   "execution_count": 0,
   "metadata": {
    "application/vnd.databricks.v1+cell": {
     "cellMetadata": {
      "byteLimit": 2048000,
      "rowLimit": 10000
     },
     "inputWidgets": {},
     "nuid": "d74b7c86-7928-43f6-b4f2-4f2f1e2b0c6a",
     "showTitle": false,
     "tableResultSettingsMap": {},
     "title": ""
    }
   },
   "outputs": [
    {
     "output_type": "display_data",
     "data": {
      "text/html": [
       "<div>\n",
       "<style scoped>\n",
       "    .dataframe tbody tr th:only-of-type {\n",
       "        vertical-align: middle;\n",
       "    }\n",
       "\n",
       "    .dataframe tbody tr th {\n",
       "        vertical-align: top;\n",
       "    }\n",
       "\n",
       "    .dataframe thead th {\n",
       "        text-align: right;\n",
       "    }\n",
       "</style>\n",
       "<table border=\"1\" class=\"dataframe\">\n",
       "  <thead>\n",
       "    <tr style=\"text-align: right;\">\n",
       "      <th></th>\n",
       "      <th>Variables</th>\n",
       "      <th>VIF</th>\n",
       "    </tr>\n",
       "  </thead>\n",
       "  <tbody>\n",
       "    <tr>\n",
       "      <th>0</th>\n",
       "      <td>Total_Stops</td>\n",
       "      <td>7.533035</td>\n",
       "    </tr>\n",
       "    <tr>\n",
       "      <th>1</th>\n",
       "      <td>journey_day</td>\n",
       "      <td>3.511805</td>\n",
       "    </tr>\n",
       "    <tr>\n",
       "      <th>2</th>\n",
       "      <td>journey_month</td>\n",
       "      <td>16.470796</td>\n",
       "    </tr>\n",
       "    <tr>\n",
       "      <th>3</th>\n",
       "      <td>dep_hour</td>\n",
       "      <td>5.790951</td>\n",
       "    </tr>\n",
       "    <tr>\n",
       "      <th>4</th>\n",
       "      <td>dep_min</td>\n",
       "      <td>2.804206</td>\n",
       "    </tr>\n",
       "    <tr>\n",
       "      <th>5</th>\n",
       "      <td>arrival_hour</td>\n",
       "      <td>4.923106</td>\n",
       "    </tr>\n",
       "    <tr>\n",
       "      <th>6</th>\n",
       "      <td>arrival_min</td>\n",
       "      <td>3.455823</td>\n",
       "    </tr>\n",
       "    <tr>\n",
       "      <th>7</th>\n",
       "      <td>Duration_hours</td>\n",
       "      <td>6.183394</td>\n",
       "    </tr>\n",
       "    <tr>\n",
       "      <th>8</th>\n",
       "      <td>Duration_mins</td>\n",
       "      <td>4.106901</td>\n",
       "    </tr>\n",
       "    <tr>\n",
       "      <th>9</th>\n",
       "      <td>Airline_Air India</td>\n",
       "      <td>5.381726</td>\n",
       "    </tr>\n",
       "    <tr>\n",
       "      <th>10</th>\n",
       "      <td>Airline_GoAir</td>\n",
       "      <td>1.472982</td>\n",
       "    </tr>\n",
       "    <tr>\n",
       "      <th>11</th>\n",
       "      <td>Airline_IndiGo</td>\n",
       "      <td>5.614514</td>\n",
       "    </tr>\n",
       "    <tr>\n",
       "      <th>12</th>\n",
       "      <td>Airline_Jet Airways</td>\n",
       "      <td>10.191202</td>\n",
       "    </tr>\n",
       "    <tr>\n",
       "      <th>13</th>\n",
       "      <td>Airline_Multiple carriers</td>\n",
       "      <td>4.055041</td>\n",
       "    </tr>\n",
       "    <tr>\n",
       "      <th>14</th>\n",
       "      <td>Airline_Other</td>\n",
       "      <td>1.053908</td>\n",
       "    </tr>\n",
       "    <tr>\n",
       "      <th>15</th>\n",
       "      <td>Airline_SpiceJet</td>\n",
       "      <td>2.837424</td>\n",
       "    </tr>\n",
       "    <tr>\n",
       "      <th>16</th>\n",
       "      <td>Airline_Vistara</td>\n",
       "      <td>2.152238</td>\n",
       "    </tr>\n",
       "    <tr>\n",
       "      <th>17</th>\n",
       "      <td>Source_Chennai</td>\n",
       "      <td>5.734129</td>\n",
       "    </tr>\n",
       "    <tr>\n",
       "      <th>18</th>\n",
       "      <td>Source_Delhi</td>\n",
       "      <td>16.511266</td>\n",
       "    </tr>\n",
       "    <tr>\n",
       "      <th>19</th>\n",
       "      <td>Source_Kolkata</td>\n",
       "      <td>9.128518</td>\n",
       "    </tr>\n",
       "    <tr>\n",
       "      <th>20</th>\n",
       "      <td>Source_Mumbai</td>\n",
       "      <td>6.706567</td>\n",
       "    </tr>\n",
       "    <tr>\n",
       "      <th>21</th>\n",
       "      <td>Destination_Cochin</td>\n",
       "      <td>13.436653</td>\n",
       "    </tr>\n",
       "    <tr>\n",
       "      <th>22</th>\n",
       "      <td>Destination_Delhi</td>\n",
       "      <td>6.306253</td>\n",
       "    </tr>\n",
       "    <tr>\n",
       "      <th>23</th>\n",
       "      <td>Destination_Hyderabad</td>\n",
       "      <td>6.758068</td>\n",
       "    </tr>\n",
       "    <tr>\n",
       "      <th>24</th>\n",
       "      <td>Destination_Kolkata</td>\n",
       "      <td>5.592729</td>\n",
       "    </tr>\n",
       "  </tbody>\n",
       "</table>\n",
       "</div>"
      ]
     },
     "metadata": {
      "application/vnd.databricks.v1+output": {
       "addedWidgets": {},
       "arguments": {},
       "data": "<div>\n<style scoped>\n    .dataframe tbody tr th:only-of-type {\n        vertical-align: middle;\n    }\n\n    .dataframe tbody tr th {\n        vertical-align: top;\n    }\n\n    .dataframe thead th {\n        text-align: right;\n    }\n</style>\n<table border=\"1\" class=\"dataframe\">\n  <thead>\n    <tr style=\"text-align: right;\">\n      <th></th>\n      <th>Variables</th>\n      <th>VIF</th>\n    </tr>\n  </thead>\n  <tbody>\n    <tr>\n      <th>0</th>\n      <td>Total_Stops</td>\n      <td>7.533035</td>\n    </tr>\n    <tr>\n      <th>1</th>\n      <td>journey_day</td>\n      <td>3.511805</td>\n    </tr>\n    <tr>\n      <th>2</th>\n      <td>journey_month</td>\n      <td>16.470796</td>\n    </tr>\n    <tr>\n      <th>3</th>\n      <td>dep_hour</td>\n      <td>5.790951</td>\n    </tr>\n    <tr>\n      <th>4</th>\n      <td>dep_min</td>\n      <td>2.804206</td>\n    </tr>\n    <tr>\n      <th>5</th>\n      <td>arrival_hour</td>\n      <td>4.923106</td>\n    </tr>\n    <tr>\n      <th>6</th>\n      <td>arrival_min</td>\n      <td>3.455823</td>\n    </tr>\n    <tr>\n      <th>7</th>\n      <td>Duration_hours</td>\n      <td>6.183394</td>\n    </tr>\n    <tr>\n      <th>8</th>\n      <td>Duration_mins</td>\n      <td>4.106901</td>\n    </tr>\n    <tr>\n      <th>9</th>\n      <td>Airline_Air India</td>\n      <td>5.381726</td>\n    </tr>\n    <tr>\n      <th>10</th>\n      <td>Airline_GoAir</td>\n      <td>1.472982</td>\n    </tr>\n    <tr>\n      <th>11</th>\n      <td>Airline_IndiGo</td>\n      <td>5.614514</td>\n    </tr>\n    <tr>\n      <th>12</th>\n      <td>Airline_Jet Airways</td>\n      <td>10.191202</td>\n    </tr>\n    <tr>\n      <th>13</th>\n      <td>Airline_Multiple carriers</td>\n      <td>4.055041</td>\n    </tr>\n    <tr>\n      <th>14</th>\n      <td>Airline_Other</td>\n      <td>1.053908</td>\n    </tr>\n    <tr>\n      <th>15</th>\n      <td>Airline_SpiceJet</td>\n      <td>2.837424</td>\n    </tr>\n    <tr>\n      <th>16</th>\n      <td>Airline_Vistara</td>\n      <td>2.152238</td>\n    </tr>\n    <tr>\n      <th>17</th>\n      <td>Source_Chennai</td>\n      <td>5.734129</td>\n    </tr>\n    <tr>\n      <th>18</th>\n      <td>Source_Delhi</td>\n      <td>16.511266</td>\n    </tr>\n    <tr>\n      <th>19</th>\n      <td>Source_Kolkata</td>\n      <td>9.128518</td>\n    </tr>\n    <tr>\n      <th>20</th>\n      <td>Source_Mumbai</td>\n      <td>6.706567</td>\n    </tr>\n    <tr>\n      <th>21</th>\n      <td>Destination_Cochin</td>\n      <td>13.436653</td>\n    </tr>\n    <tr>\n      <th>22</th>\n      <td>Destination_Delhi</td>\n      <td>6.306253</td>\n    </tr>\n    <tr>\n      <th>23</th>\n      <td>Destination_Hyderabad</td>\n      <td>6.758068</td>\n    </tr>\n    <tr>\n      <th>24</th>\n      <td>Destination_Kolkata</td>\n      <td>5.592729</td>\n    </tr>\n  </tbody>\n</table>\n</div>",
       "datasetInfos": [],
       "metadata": {},
       "removedWidgets": [],
       "textData": null,
       "type": "htmlSandbox"
      }
     },
     "output_type": "display_data"
    }
   ],
   "source": [
    "X = data_train.loc[:, ['Total_Stops', 'journey_day', 'journey_month', 'dep_hour',\n",
    "       'dep_min', 'arrival_hour', 'arrival_min', 'Duration_hours',\n",
    "       'Duration_mins', 'Airline_Air India', 'Airline_GoAir', 'Airline_IndiGo',\n",
    "       'Airline_Jet Airways', 'Airline_Multiple carriers', 'Airline_Other',\n",
    "       'Airline_SpiceJet', 'Airline_Vistara', 'Source_Chennai', 'Source_Delhi',\n",
    "       'Source_Kolkata', 'Source_Mumbai', 'Destination_Cochin',\n",
    "       'Destination_Delhi', 'Destination_Hyderabad', 'Destination_Kolkata']]\n",
    "y = data_train.iloc[:, 1]\n",
    "cal_vif(X)"
   ]
  },
  {
   "cell_type": "markdown",
   "metadata": {
    "application/vnd.databricks.v1+cell": {
     "cellMetadata": {},
     "inputWidgets": {},
     "nuid": "8e9bc059-4bfd-4f06-99be-ffc21e8101bb",
     "showTitle": false,
     "tableResultSettingsMap": {},
     "title": ""
    }
   },
   "source": [
    "Again High VIF for\n",
    "journey_month (16.47)\n",
    "Source_Delhi (16.51)\n",
    "Airline_Jet Airways (10.19)\n",
    "Destination_Cochin (13.43)\n",
    "Therefore Dropping Source_Delhi"
   ]
  },
  {
   "cell_type": "code",
   "execution_count": 0,
   "metadata": {
    "application/vnd.databricks.v1+cell": {
     "cellMetadata": {
      "byteLimit": 2048000,
      "rowLimit": 10000
     },
     "inputWidgets": {},
     "nuid": "cac66d9b-c926-4adc-920c-f6e072af23b2",
     "showTitle": false,
     "tableResultSettingsMap": {},
     "title": ""
    }
   },
   "outputs": [
    {
     "output_type": "display_data",
     "data": {
      "text/html": [
       "<div>\n",
       "<style scoped>\n",
       "    .dataframe tbody tr th:only-of-type {\n",
       "        vertical-align: middle;\n",
       "    }\n",
       "\n",
       "    .dataframe tbody tr th {\n",
       "        vertical-align: top;\n",
       "    }\n",
       "\n",
       "    .dataframe thead th {\n",
       "        text-align: right;\n",
       "    }\n",
       "</style>\n",
       "<table border=\"1\" class=\"dataframe\">\n",
       "  <thead>\n",
       "    <tr style=\"text-align: right;\">\n",
       "      <th></th>\n",
       "      <th>Variables</th>\n",
       "      <th>VIF</th>\n",
       "    </tr>\n",
       "  </thead>\n",
       "  <tbody>\n",
       "    <tr>\n",
       "      <th>0</th>\n",
       "      <td>Total_Stops</td>\n",
       "      <td>7.066192</td>\n",
       "    </tr>\n",
       "    <tr>\n",
       "      <th>1</th>\n",
       "      <td>journey_day</td>\n",
       "      <td>3.460860</td>\n",
       "    </tr>\n",
       "    <tr>\n",
       "      <th>2</th>\n",
       "      <td>journey_month</td>\n",
       "      <td>15.002639</td>\n",
       "    </tr>\n",
       "    <tr>\n",
       "      <th>3</th>\n",
       "      <td>dep_hour</td>\n",
       "      <td>5.762068</td>\n",
       "    </tr>\n",
       "    <tr>\n",
       "      <th>4</th>\n",
       "      <td>dep_min</td>\n",
       "      <td>2.803870</td>\n",
       "    </tr>\n",
       "    <tr>\n",
       "      <th>5</th>\n",
       "      <td>arrival_hour</td>\n",
       "      <td>4.901456</td>\n",
       "    </tr>\n",
       "    <tr>\n",
       "      <th>6</th>\n",
       "      <td>arrival_min</td>\n",
       "      <td>3.454707</td>\n",
       "    </tr>\n",
       "    <tr>\n",
       "      <th>7</th>\n",
       "      <td>Duration_hours</td>\n",
       "      <td>6.178091</td>\n",
       "    </tr>\n",
       "    <tr>\n",
       "      <th>8</th>\n",
       "      <td>Duration_mins</td>\n",
       "      <td>4.106244</td>\n",
       "    </tr>\n",
       "    <tr>\n",
       "      <th>9</th>\n",
       "      <td>Airline_Air India</td>\n",
       "      <td>5.294051</td>\n",
       "    </tr>\n",
       "    <tr>\n",
       "      <th>10</th>\n",
       "      <td>Airline_GoAir</td>\n",
       "      <td>1.456807</td>\n",
       "    </tr>\n",
       "    <tr>\n",
       "      <th>11</th>\n",
       "      <td>Airline_IndiGo</td>\n",
       "      <td>5.366422</td>\n",
       "    </tr>\n",
       "    <tr>\n",
       "      <th>12</th>\n",
       "      <td>Airline_Jet Airways</td>\n",
       "      <td>9.974795</td>\n",
       "    </tr>\n",
       "    <tr>\n",
       "      <th>13</th>\n",
       "      <td>Airline_Multiple carriers</td>\n",
       "      <td>3.936936</td>\n",
       "    </tr>\n",
       "    <tr>\n",
       "      <th>14</th>\n",
       "      <td>Airline_Other</td>\n",
       "      <td>1.050060</td>\n",
       "    </tr>\n",
       "    <tr>\n",
       "      <th>15</th>\n",
       "      <td>Airline_SpiceJet</td>\n",
       "      <td>2.730549</td>\n",
       "    </tr>\n",
       "    <tr>\n",
       "      <th>16</th>\n",
       "      <td>Airline_Vistara</td>\n",
       "      <td>2.109338</td>\n",
       "    </tr>\n",
       "    <tr>\n",
       "      <th>17</th>\n",
       "      <td>Source_Chennai</td>\n",
       "      <td>5.389241</td>\n",
       "    </tr>\n",
       "    <tr>\n",
       "      <th>18</th>\n",
       "      <td>Source_Kolkata</td>\n",
       "      <td>6.292066</td>\n",
       "    </tr>\n",
       "    <tr>\n",
       "      <th>19</th>\n",
       "      <td>Source_Mumbai</td>\n",
       "      <td>6.106446</td>\n",
       "    </tr>\n",
       "    <tr>\n",
       "      <th>20</th>\n",
       "      <td>Destination_Cochin</td>\n",
       "      <td>10.616938</td>\n",
       "    </tr>\n",
       "    <tr>\n",
       "      <th>21</th>\n",
       "      <td>Destination_Delhi</td>\n",
       "      <td>5.192319</td>\n",
       "    </tr>\n",
       "    <tr>\n",
       "      <th>22</th>\n",
       "      <td>Destination_Hyderabad</td>\n",
       "      <td>6.748551</td>\n",
       "    </tr>\n",
       "    <tr>\n",
       "      <th>23</th>\n",
       "      <td>Destination_Kolkata</td>\n",
       "      <td>5.589394</td>\n",
       "    </tr>\n",
       "  </tbody>\n",
       "</table>\n",
       "</div>"
      ]
     },
     "metadata": {
      "application/vnd.databricks.v1+output": {
       "addedWidgets": {},
       "arguments": {},
       "data": "<div>\n<style scoped>\n    .dataframe tbody tr th:only-of-type {\n        vertical-align: middle;\n    }\n\n    .dataframe tbody tr th {\n        vertical-align: top;\n    }\n\n    .dataframe thead th {\n        text-align: right;\n    }\n</style>\n<table border=\"1\" class=\"dataframe\">\n  <thead>\n    <tr style=\"text-align: right;\">\n      <th></th>\n      <th>Variables</th>\n      <th>VIF</th>\n    </tr>\n  </thead>\n  <tbody>\n    <tr>\n      <th>0</th>\n      <td>Total_Stops</td>\n      <td>7.066192</td>\n    </tr>\n    <tr>\n      <th>1</th>\n      <td>journey_day</td>\n      <td>3.460860</td>\n    </tr>\n    <tr>\n      <th>2</th>\n      <td>journey_month</td>\n      <td>15.002639</td>\n    </tr>\n    <tr>\n      <th>3</th>\n      <td>dep_hour</td>\n      <td>5.762068</td>\n    </tr>\n    <tr>\n      <th>4</th>\n      <td>dep_min</td>\n      <td>2.803870</td>\n    </tr>\n    <tr>\n      <th>5</th>\n      <td>arrival_hour</td>\n      <td>4.901456</td>\n    </tr>\n    <tr>\n      <th>6</th>\n      <td>arrival_min</td>\n      <td>3.454707</td>\n    </tr>\n    <tr>\n      <th>7</th>\n      <td>Duration_hours</td>\n      <td>6.178091</td>\n    </tr>\n    <tr>\n      <th>8</th>\n      <td>Duration_mins</td>\n      <td>4.106244</td>\n    </tr>\n    <tr>\n      <th>9</th>\n      <td>Airline_Air India</td>\n      <td>5.294051</td>\n    </tr>\n    <tr>\n      <th>10</th>\n      <td>Airline_GoAir</td>\n      <td>1.456807</td>\n    </tr>\n    <tr>\n      <th>11</th>\n      <td>Airline_IndiGo</td>\n      <td>5.366422</td>\n    </tr>\n    <tr>\n      <th>12</th>\n      <td>Airline_Jet Airways</td>\n      <td>9.974795</td>\n    </tr>\n    <tr>\n      <th>13</th>\n      <td>Airline_Multiple carriers</td>\n      <td>3.936936</td>\n    </tr>\n    <tr>\n      <th>14</th>\n      <td>Airline_Other</td>\n      <td>1.050060</td>\n    </tr>\n    <tr>\n      <th>15</th>\n      <td>Airline_SpiceJet</td>\n      <td>2.730549</td>\n    </tr>\n    <tr>\n      <th>16</th>\n      <td>Airline_Vistara</td>\n      <td>2.109338</td>\n    </tr>\n    <tr>\n      <th>17</th>\n      <td>Source_Chennai</td>\n      <td>5.389241</td>\n    </tr>\n    <tr>\n      <th>18</th>\n      <td>Source_Kolkata</td>\n      <td>6.292066</td>\n    </tr>\n    <tr>\n      <th>19</th>\n      <td>Source_Mumbai</td>\n      <td>6.106446</td>\n    </tr>\n    <tr>\n      <th>20</th>\n      <td>Destination_Cochin</td>\n      <td>10.616938</td>\n    </tr>\n    <tr>\n      <th>21</th>\n      <td>Destination_Delhi</td>\n      <td>5.192319</td>\n    </tr>\n    <tr>\n      <th>22</th>\n      <td>Destination_Hyderabad</td>\n      <td>6.748551</td>\n    </tr>\n    <tr>\n      <th>23</th>\n      <td>Destination_Kolkata</td>\n      <td>5.589394</td>\n    </tr>\n  </tbody>\n</table>\n</div>",
       "datasetInfos": [],
       "metadata": {},
       "removedWidgets": [],
       "textData": null,
       "type": "htmlSandbox"
      }
     },
     "output_type": "display_data"
    }
   ],
   "source": [
    "# # Drop 'Source_Delhi'\n",
    "# X = data_train.loc[:, ['Total_Stops', 'journey_day', 'journey_month', 'dep_hour',\n",
    "#        'dep_min', 'arrival_hour', 'arrival_min', 'Duration_hours',\n",
    "#        'Duration_mins', 'Airline_Air India', 'Airline_GoAir', 'Airline_IndiGo',\n",
    "#        'Airline_Jet Airways', 'Airline_Multiple carriers', 'Airline_Other',\n",
    "#        'Airline_SpiceJet', 'Airline_Vistara', 'Source_Chennai',\n",
    "#        'Source_Kolkata', 'Source_Mumbai', 'Destination_Cochin',\n",
    "#        'Destination_Delhi', 'Destination_Hyderabad', 'Destination_Kolkata']]\n",
    "# cal_vif(X)"
   ]
  },
  {
   "cell_type": "code",
   "execution_count": 0,
   "metadata": {
    "application/vnd.databricks.v1+cell": {
     "cellMetadata": {
      "byteLimit": 2048000,
      "rowLimit": 10000
     },
     "inputWidgets": {},
     "nuid": "c2104360-fc95-42ee-9551-8d3d92f85458",
     "showTitle": false,
     "tableResultSettingsMap": {},
     "title": ""
    }
   },
   "outputs": [],
   "source": [
    "# # Drop 'Destination_Cochin'\n",
    "# X = data_train.loc[:, ['Total_Stops', 'journey_day', 'journey_month', 'dep_hour',\n",
    "#        'dep_min', 'arrival_hour', 'arrival_min', 'Duration_hours',\n",
    "#        'Duration_mins', 'Airline_Air India', 'Airline_GoAir', 'Airline_IndiGo',\n",
    "#        'Airline_Jet Airways', 'Airline_Multiple carriers', 'Airline_Other',\n",
    "#        'Airline_SpiceJet', 'Airline_Vistara', 'Source_Chennai',\n",
    "#        'Source_Kolkata', 'Source_Mumbai',\n",
    "#        'Destination_Delhi', 'Destination_Hyderabad', 'Destination_Kolkata']]\n",
    "# cal_vif(X)"
   ]
  },
  {
   "cell_type": "code",
   "execution_count": 0,
   "metadata": {
    "application/vnd.databricks.v1+cell": {
     "cellMetadata": {
      "byteLimit": 2048000,
      "rowLimit": 10000
     },
     "inputWidgets": {},
     "nuid": "664891d8-c9ad-4936-86b3-43d79c14ef0f",
     "showTitle": false,
     "tableResultSettingsMap": {},
     "title": ""
    }
   },
   "outputs": [],
   "source": [
    "from sklearn.model_selection import train_test_split\n",
    "X_train, X_test, y_train, y_test = train_test_split(X, y, test_size = 0.2, random_state = 42)"
   ]
  },
  {
   "cell_type": "code",
   "execution_count": 0,
   "metadata": {
    "application/vnd.databricks.v1+cell": {
     "cellMetadata": {
      "byteLimit": 2048000,
      "rowLimit": 10000
     },
     "inputWidgets": {},
     "nuid": "d63ab502-4db1-4b4e-8060-a9cf2364e9c1",
     "showTitle": false,
     "tableResultSettingsMap": {},
     "title": ""
    }
   },
   "outputs": [
    {
     "output_type": "stream",
     "name": "stdout",
     "output_type": "stream",
     "text": [
      "Out[35]: RandomForestRegressor()"
     ]
    }
   ],
   "source": [
    "from sklearn.ensemble import RandomForestRegressor\n",
    "randomForest_regressor = RandomForestRegressor()\n",
    "randomForest_regressor.fit(X_train,y_train)"
   ]
  },
  {
   "cell_type": "code",
   "execution_count": 0,
   "metadata": {
    "application/vnd.databricks.v1+cell": {
     "cellMetadata": {
      "byteLimit": 2048000,
      "rowLimit": 10000
     },
     "inputWidgets": {},
     "nuid": "0d9f3621-4186-4eec-8e91-1dbfccc45771",
     "showTitle": false,
     "tableResultSettingsMap": {},
     "title": ""
    }
   },
   "outputs": [
    {
     "output_type": "stream",
     "name": "stdout",
     "output_type": "stream",
     "text": [
      "Model Performance on Training Set: 95.37\nModel Performance on Test Set: 82.5\n"
     ]
    }
   ],
   "source": [
    "print('Model Performance on Training Set:', round(randomForest_regressor.score(X_train, y_train)*100,2))\n",
    "print('Model Performance on Test Set:', round(randomForest_regressor.score(X_test, y_test)*100,2))"
   ]
  },
  {
   "cell_type": "code",
   "execution_count": 0,
   "metadata": {
    "application/vnd.databricks.v1+cell": {
     "cellMetadata": {
      "byteLimit": 2048000,
      "rowLimit": 10000
     },
     "inputWidgets": {},
     "nuid": "d7ef0c26-e62e-4927-a68c-e473dbfbcee8",
     "showTitle": false,
     "tableResultSettingsMap": {},
     "title": ""
    }
   },
   "outputs": [
    {
     "output_type": "display_data",
     "data": {
      "image/png": "[encoded data removed]"
     },
     "metadata": {
      "application/vnd.databricks.v1+output": {
       "addedWidgets": {},
       "arguments": {},
       "data": "data:image/png;base64,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\n",
       "datasetInfos": [],
       "metadata": {},
       "removedWidgets": [],
       "type": "image"
      }
     },
     "output_type": "display_data"
    }
   ],
   "source": [
    "y_pred = randomForest_regressor.predict(X_test)\n",
    "plt.scatter(y_test, y_pred, alpha = 0.5)\n",
    "plt.xlabel(\"y_test\")\n",
    "plt.ylabel(\"y_pred\")\n",
    "plt.show()"
   ]
  },
  {
   "cell_type": "code",
   "execution_count": 0,
   "metadata": {
    "application/vnd.databricks.v1+cell": {
     "cellMetadata": {
      "byteLimit": 2048000,
      "rowLimit": 10000
     },
     "inputWidgets": {},
     "nuid": "c87e4e64-b73d-4aad-8a91-1dc7c04f0386",
     "showTitle": false,
     "tableResultSettingsMap": {},
     "title": ""
    }
   },
   "outputs": [
    {
     "output_type": "stream",
     "name": "stdout",
     "output_type": "stream",
     "text": [
      "MAE: 1175.0533154960735\nMSE: 3475730.8732621786\nRMSE: 1864.3312134012504\n"
     ]
    }
   ],
   "source": [
    "#Error Metrics\n",
    "from sklearn import metrics\n",
    "import numpy as np\n",
    "print('MAE:', metrics.mean_absolute_error(y_test, y_pred))\n",
    "print('MSE:', metrics.mean_squared_error(y_test, y_pred))\n",
    "print('RMSE:', np.sqrt(metrics.mean_squared_error(y_test, y_pred)))"
   ]
  },
  {
   "cell_type": "code",
   "execution_count": 0,
   "metadata": {
    "application/vnd.databricks.v1+cell": {
     "cellMetadata": {
      "byteLimit": 2048000,
      "rowLimit": 10000
     },
     "inputWidgets": {},
     "nuid": "878194c9-5704-47f8-92ca-5242a3eec063",
     "showTitle": false,
     "tableResultSettingsMap": {},
     "title": ""
    }
   },
   "outputs": [
    {
     "output_type": "stream",
     "name": "stdout",
     "output_type": "stream",
     "text": [
      "Normalized RMSE  0.06\nMax Value:  79512.0 \nMin Value:  1759.0\n"
     ]
    }
   ],
   "source": [
    "#RMSE = sqrt((PV-OV)^2/n)\n",
    "#RMSE/(max(DV)-min(DV))\n",
    "print('Normalized RMSE ', round(np.sqrt(metrics.mean_squared_error(y_test, y_pred))/(max(y_test)-min(y_test)),2))\n",
    "print('Max Value: ', max(y), '\\nMin Value: ', min(y))"
   ]
  },
  {
   "cell_type": "code",
   "execution_count": 0,
   "metadata": {
    "application/vnd.databricks.v1+cell": {
     "cellMetadata": {
      "byteLimit": 2048000,
      "rowLimit": 10000
     },
     "inputWidgets": {},
     "nuid": "52461754-df3f-42fc-bf95-8deb2d99de8d",
     "showTitle": false,
     "tableResultSettingsMap": {},
     "title": ""
    }
   },
   "outputs": [
    {
     "output_type": "stream",
     "name": "stdout",
     "output_type": "stream",
     "text": [
      "Model saved successfully!\n"
     ]
    }
   ],
   "source": [
    "import pickle\n",
    "\n",
    "# Saving the random forest regressor model\n",
    "with open('c2_flight_rf.pkl', 'wb') as file:\n",
    "    pickle.dump(randomForest_regressor, file)\n",
    "\n",
    "print(\"Model saved successfully!\")"
   ]
  },
  {
   "cell_type": "markdown",
   "metadata": {
    "application/vnd.databricks.v1+cell": {
     "cellMetadata": {},
     "inputWidgets": {},
     "nuid": "caf3e255-f437-46db-beab-22924e6f3a18",
     "showTitle": false,
     "tableResultSettingsMap": {},
     "title": ""
    }
   },
   "source": [
    "Testing on unseen Data"
   ]
  },
  {
   "cell_type": "code",
   "execution_count": 0,
   "metadata": {
    "application/vnd.databricks.v1+cell": {
     "cellMetadata": {
      "byteLimit": 2048000,
      "rowLimit": 10000
     },
     "inputWidgets": {},
     "nuid": "c9481ddc-ea70-4a71-8029-211da558adee",
     "showTitle": false,
     "tableResultSettingsMap": {},
     "title": ""
    }
   },
   "outputs": [
    {
     "output_type": "stream",
     "name": "stdout",
     "output_type": "stream",
     "text": [
      "Model loaded successfully!\n"
     ]
    }
   ],
   "source": [
    "# Loading the model\n",
    "with open('c2_flight_rf.pkl', 'rb') as file:\n",
    "    loaded_model = pickle.load(file)\n",
    "\n",
    "print(\"Model loaded successfully!\")\n"
   ]
  },
  {
   "cell_type": "code",
   "execution_count": 0,
   "metadata": {
    "application/vnd.databricks.v1+cell": {
     "cellMetadata": {
      "byteLimit": 2048000,
      "rowLimit": 10000
     },
     "inputWidgets": {},
     "nuid": "4b075c0e-c633-44e4-b7b3-41d82e4418f8",
     "showTitle": false,
     "tableResultSettingsMap": {},
     "title": ""
    }
   },
   "outputs": [
    {
     "output_type": "stream",
     "name": "stdout",
     "output_type": "stream",
     "text": [
      "Out[83]: True"
     ]
    }
   ],
   "source": [
    "# Copy the file to a local path for Pandas\n",
    "dbutils.fs.cp(\n",
    "    \"dbfs:/FileStore/shared_uploads/choudharynarendra1361s@gmail.com/a2_Unseen_Dataset.xlsx\",\n",
    "    \"file:/tmp/a2_FlightFare_Dataset.xlsx\"\n",
    ")\n"
   ]
  },
  {
   "cell_type": "code",
   "execution_count": 0,
   "metadata": {
    "application/vnd.databricks.v1+cell": {
     "cellMetadata": {
      "byteLimit": 2048000,
      "rowLimit": 10000
     },
     "inputWidgets": {},
     "nuid": "0ef07d35-bd3c-4e6d-96a1-18a873f2c83e",
     "showTitle": false,
     "tableResultSettingsMap": {},
     "title": ""
    }
   },
   "outputs": [
    {
     "output_type": "display_data",
     "data": {
      "text/html": [
       "<div>\n",
       "<style scoped>\n",
       "    .dataframe tbody tr th:only-of-type {\n",
       "        vertical-align: middle;\n",
       "    }\n",
       "\n",
       "    .dataframe tbody tr th {\n",
       "        vertical-align: top;\n",
       "    }\n",
       "\n",
       "    .dataframe thead th {\n",
       "        text-align: right;\n",
       "    }\n",
       "</style>\n",
       "<table border=\"1\" class=\"dataframe\">\n",
       "  <thead>\n",
       "    <tr style=\"text-align: right;\">\n",
       "      <th></th>\n",
       "      <th>Airline</th>\n",
       "      <th>Date_of_Journey</th>\n",
       "      <th>Source</th>\n",
       "      <th>Destination</th>\n",
       "      <th>Route</th>\n",
       "      <th>Dep_Time</th>\n",
       "      <th>Arrival_Time</th>\n",
       "      <th>Duration</th>\n",
       "      <th>Total_Stops</th>\n",
       "      <th>Additional_Info</th>\n",
       "      <th>Price</th>\n",
       "    </tr>\n",
       "  </thead>\n",
       "  <tbody>\n",
       "    <tr>\n",
       "      <th>0</th>\n",
       "      <td>Jet Airways</td>\n",
       "      <td>27/05/2019</td>\n",
       "      <td>Delhi</td>\n",
       "      <td>Cochin</td>\n",
       "      <td>DEL → BOM → COK</td>\n",
       "      <td>07:05</td>\n",
       "      <td>19:00</td>\n",
       "      <td>11h 55m</td>\n",
       "      <td>1 stop</td>\n",
       "      <td>In-flight meal not included</td>\n",
       "      <td>12898.0</td>\n",
       "    </tr>\n",
       "    <tr>\n",
       "      <th>1</th>\n",
       "      <td>IndiGo</td>\n",
       "      <td>6/03/2019</td>\n",
       "      <td>Delhi</td>\n",
       "      <td>Cochin</td>\n",
       "      <td>DEL → MAA → COK</td>\n",
       "      <td>02:05</td>\n",
       "      <td>07:25</td>\n",
       "      <td>5h 20m</td>\n",
       "      <td>1 stop</td>\n",
       "      <td>No info</td>\n",
       "      <td>10851.0</td>\n",
       "    </tr>\n",
       "    <tr>\n",
       "      <th>2</th>\n",
       "      <td>Air India</td>\n",
       "      <td>21/03/2019</td>\n",
       "      <td>Delhi</td>\n",
       "      <td>Cochin</td>\n",
       "      <td>DEL → BLR → COK</td>\n",
       "      <td>09:45</td>\n",
       "      <td>23:00</td>\n",
       "      <td>13h 15m</td>\n",
       "      <td>1 stop</td>\n",
       "      <td>No info</td>\n",
       "      <td>5704.0</td>\n",
       "    </tr>\n",
       "    <tr>\n",
       "      <th>3</th>\n",
       "      <td>Vistara</td>\n",
       "      <td>18/03/2019</td>\n",
       "      <td>Banglore</td>\n",
       "      <td>New Delhi</td>\n",
       "      <td>BLR → DEL</td>\n",
       "      <td>21:10</td>\n",
       "      <td>00:05 16 Mar</td>\n",
       "      <td>2h 55m</td>\n",
       "      <td>non-stop</td>\n",
       "      <td>No info</td>\n",
       "      <td>11598.0</td>\n",
       "    </tr>\n",
       "    <tr>\n",
       "      <th>4</th>\n",
       "      <td>Multiple carriers</td>\n",
       "      <td>27/05/2019</td>\n",
       "      <td>Delhi</td>\n",
       "      <td>Cochin</td>\n",
       "      <td>DEL → BOM → COK</td>\n",
       "      <td>08:30</td>\n",
       "      <td>19:15</td>\n",
       "      <td>10h 45m</td>\n",
       "      <td>1 stop</td>\n",
       "      <td>No info</td>\n",
       "      <td>9149.0</td>\n",
       "    </tr>\n",
       "  </tbody>\n",
       "</table>\n",
       "</div>"
      ]
     },
     "metadata": {
      "application/vnd.databricks.v1+output": {
       "addedWidgets": {},
       "arguments": {},
       "data": "<div>\n<style scoped>\n    .dataframe tbody tr th:only-of-type {\n        vertical-align: middle;\n    }\n\n    .dataframe tbody tr th {\n        vertical-align: top;\n    }\n\n    .dataframe thead th {\n        text-align: right;\n    }\n</style>\n<table border=\"1\" class=\"dataframe\">\n  <thead>\n    <tr style=\"text-align: right;\">\n      <th></th>\n      <th>Airline</th>\n      <th>Date_of_Journey</th>\n      <th>Source</th>\n      <th>Destination</th>\n      <th>Route</th>\n      <th>Dep_Time</th>\n      <th>Arrival_Time</th>\n      <th>Duration</th>\n      <th>Total_Stops</th>\n      <th>Additional_Info</th>\n      <th>Price</th>\n    </tr>\n  </thead>\n  <tbody>\n    <tr>\n      <th>0</th>\n      <td>Jet Airways</td>\n      <td>27/05/2019</td>\n      <td>Delhi</td>\n      <td>Cochin</td>\n      <td>DEL → BOM → COK</td>\n      <td>07:05</td>\n      <td>19:00</td>\n      <td>11h 55m</td>\n      <td>1 stop</td>\n      <td>In-flight meal not included</td>\n      <td>12898.0</td>\n    </tr>\n    <tr>\n      <th>1</th>\n      <td>IndiGo</td>\n      <td>6/03/2019</td>\n      <td>Delhi</td>\n      <td>Cochin</td>\n      <td>DEL → MAA → COK</td>\n      <td>02:05</td>\n      <td>07:25</td>\n      <td>5h 20m</td>\n      <td>1 stop</td>\n      <td>No info</td>\n      <td>10851.0</td>\n    </tr>\n    <tr>\n      <th>2</th>\n      <td>Air India</td>\n      <td>21/03/2019</td>\n      <td>Delhi</td>\n      <td>Cochin</td>\n      <td>DEL → BLR → COK</td>\n      <td>09:45</td>\n      <td>23:00</td>\n      <td>13h 15m</td>\n      <td>1 stop</td>\n      <td>No info</td>\n      <td>5704.0</td>\n    </tr>\n    <tr>\n      <th>3</th>\n      <td>Vistara</td>\n      <td>18/03/2019</td>\n      <td>Banglore</td>\n      <td>New Delhi</td>\n      <td>BLR → DEL</td>\n      <td>21:10</td>\n      <td>00:05 16 Mar</td>\n      <td>2h 55m</td>\n      <td>non-stop</td>\n      <td>No info</td>\n      <td>11598.0</td>\n    </tr>\n    <tr>\n      <th>4</th>\n      <td>Multiple carriers</td>\n      <td>27/05/2019</td>\n      <td>Delhi</td>\n      <td>Cochin</td>\n      <td>DEL → BOM → COK</td>\n      <td>08:30</td>\n      <td>19:15</td>\n      <td>10h 45m</td>\n      <td>1 stop</td>\n      <td>No info</td>\n      <td>9149.0</td>\n    </tr>\n  </tbody>\n</table>\n</div>",
       "datasetInfos": [],
       "metadata": {},
       "removedWidgets": [],
       "textData": null,
       "type": "htmlSandbox"
      }
     },
     "output_type": "display_data"
    }
   ],
   "source": [
    "import pandas as pd\n",
    "# Local file path\n",
    "local_path_new = \"/tmp/a2_FlightFare_Dataset.xlsx\"\n",
    "unseen_dataset = pd.read_excel(local_path_new)\n",
    "pd.set_option('display.max_columns', None)\n",
    "\n",
    "unseen_dataset.head()"
   ]
  },
  {
   "cell_type": "code",
   "execution_count": 0,
   "metadata": {
    "application/vnd.databricks.v1+cell": {
     "cellMetadata": {
      "byteLimit": 2048000,
      "rowLimit": 10000
     },
     "inputWidgets": {},
     "nuid": "5c75e85d-dbeb-4cd0-88b9-a17f7d84a587",
     "showTitle": false,
     "tableResultSettingsMap": {},
     "title": ""
    }
   },
   "outputs": [
    {
     "output_type": "display_data",
     "data": {
      "text/html": [
       "<div>\n",
       "<style scoped>\n",
       "    .dataframe tbody tr th:only-of-type {\n",
       "        vertical-align: middle;\n",
       "    }\n",
       "\n",
       "    .dataframe tbody tr th {\n",
       "        vertical-align: top;\n",
       "    }\n",
       "\n",
       "    .dataframe thead th {\n",
       "        text-align: right;\n",
       "    }\n",
       "</style>\n",
       "<table border=\"1\" class=\"dataframe\">\n",
       "  <thead>\n",
       "    <tr style=\"text-align: right;\">\n",
       "      <th></th>\n",
       "      <th>Total_Stops</th>\n",
       "      <th>Price</th>\n",
       "      <th>journey_day</th>\n",
       "      <th>journey_month</th>\n",
       "      <th>dep_hour</th>\n",
       "      <th>dep_min</th>\n",
       "      <th>arrival_hour</th>\n",
       "      <th>arrival_min</th>\n",
       "      <th>Duration_hours</th>\n",
       "      <th>Duration_mins</th>\n",
       "      <th>Airline_Air India</th>\n",
       "      <th>Airline_GoAir</th>\n",
       "      <th>Airline_IndiGo</th>\n",
       "      <th>Airline_Jet Airways</th>\n",
       "      <th>Airline_Multiple carriers</th>\n",
       "      <th>Airline_Other</th>\n",
       "      <th>Airline_SpiceJet</th>\n",
       "      <th>Airline_Vistara</th>\n",
       "      <th>Source_Chennai</th>\n",
       "      <th>Source_Delhi</th>\n",
       "      <th>Source_Kolkata</th>\n",
       "      <th>Source_Mumbai</th>\n",
       "      <th>Destination_Cochin</th>\n",
       "      <th>Destination_Delhi</th>\n",
       "      <th>Destination_Hyderabad</th>\n",
       "      <th>Destination_Kolkata</th>\n",
       "    </tr>\n",
       "  </thead>\n",
       "  <tbody>\n",
       "    <tr>\n",
       "      <th>0</th>\n",
       "      <td>1</td>\n",
       "      <td>12898.0</td>\n",
       "      <td>27</td>\n",
       "      <td>5</td>\n",
       "      <td>7</td>\n",
       "      <td>5</td>\n",
       "      <td>19</td>\n",
       "      <td>0</td>\n",
       "      <td>11</td>\n",
       "      <td>55</td>\n",
       "      <td>0</td>\n",
       "      <td>0</td>\n",
       "      <td>0</td>\n",
       "      <td>1</td>\n",
       "      <td>0</td>\n",
       "      <td>0</td>\n",
       "      <td>0</td>\n",
       "      <td>0</td>\n",
       "      <td>0</td>\n",
       "      <td>1</td>\n",
       "      <td>0</td>\n",
       "      <td>0</td>\n",
       "      <td>1</td>\n",
       "      <td>0</td>\n",
       "      <td>0</td>\n",
       "      <td>0</td>\n",
       "    </tr>\n",
       "    <tr>\n",
       "      <th>1</th>\n",
       "      <td>1</td>\n",
       "      <td>10851.0</td>\n",
       "      <td>6</td>\n",
       "      <td>3</td>\n",
       "      <td>2</td>\n",
       "      <td>5</td>\n",
       "      <td>7</td>\n",
       "      <td>25</td>\n",
       "      <td>5</td>\n",
       "      <td>20</td>\n",
       "      <td>0</td>\n",
       "      <td>0</td>\n",
       "      <td>1</td>\n",
       "      <td>0</td>\n",
       "      <td>0</td>\n",
       "      <td>0</td>\n",
       "      <td>0</td>\n",
       "      <td>0</td>\n",
       "      <td>0</td>\n",
       "      <td>1</td>\n",
       "      <td>0</td>\n",
       "      <td>0</td>\n",
       "      <td>1</td>\n",
       "      <td>0</td>\n",
       "      <td>0</td>\n",
       "      <td>0</td>\n",
       "    </tr>\n",
       "    <tr>\n",
       "      <th>2</th>\n",
       "      <td>1</td>\n",
       "      <td>5704.0</td>\n",
       "      <td>21</td>\n",
       "      <td>3</td>\n",
       "      <td>9</td>\n",
       "      <td>45</td>\n",
       "      <td>23</td>\n",
       "      <td>0</td>\n",
       "      <td>13</td>\n",
       "      <td>15</td>\n",
       "      <td>1</td>\n",
       "      <td>0</td>\n",
       "      <td>0</td>\n",
       "      <td>0</td>\n",
       "      <td>0</td>\n",
       "      <td>0</td>\n",
       "      <td>0</td>\n",
       "      <td>0</td>\n",
       "      <td>0</td>\n",
       "      <td>1</td>\n",
       "      <td>0</td>\n",
       "      <td>0</td>\n",
       "      <td>1</td>\n",
       "      <td>0</td>\n",
       "      <td>0</td>\n",
       "      <td>0</td>\n",
       "    </tr>\n",
       "    <tr>\n",
       "      <th>3</th>\n",
       "      <td>0</td>\n",
       "      <td>11598.0</td>\n",
       "      <td>18</td>\n",
       "      <td>3</td>\n",
       "      <td>21</td>\n",
       "      <td>10</td>\n",
       "      <td>0</td>\n",
       "      <td>5</td>\n",
       "      <td>2</td>\n",
       "      <td>55</td>\n",
       "      <td>0</td>\n",
       "      <td>0</td>\n",
       "      <td>0</td>\n",
       "      <td>0</td>\n",
       "      <td>0</td>\n",
       "      <td>0</td>\n",
       "      <td>0</td>\n",
       "      <td>1</td>\n",
       "      <td>0</td>\n",
       "      <td>0</td>\n",
       "      <td>0</td>\n",
       "      <td>0</td>\n",
       "      <td>0</td>\n",
       "      <td>1</td>\n",
       "      <td>0</td>\n",
       "      <td>0</td>\n",
       "    </tr>\n",
       "    <tr>\n",
       "      <th>4</th>\n",
       "      <td>1</td>\n",
       "      <td>9149.0</td>\n",
       "      <td>27</td>\n",
       "      <td>5</td>\n",
       "      <td>8</td>\n",
       "      <td>30</td>\n",
       "      <td>19</td>\n",
       "      <td>15</td>\n",
       "      <td>10</td>\n",
       "      <td>45</td>\n",
       "      <td>0</td>\n",
       "      <td>0</td>\n",
       "      <td>0</td>\n",
       "      <td>0</td>\n",
       "      <td>1</td>\n",
       "      <td>0</td>\n",
       "      <td>0</td>\n",
       "      <td>0</td>\n",
       "      <td>0</td>\n",
       "      <td>1</td>\n",
       "      <td>0</td>\n",
       "      <td>0</td>\n",
       "      <td>1</td>\n",
       "      <td>0</td>\n",
       "      <td>0</td>\n",
       "      <td>0</td>\n",
       "    </tr>\n",
       "  </tbody>\n",
       "</table>\n",
       "</div>"
      ]
     },
     "metadata": {
      "application/vnd.databricks.v1+output": {
       "addedWidgets": {},
       "arguments": {},
       "data": "<div>\n<style scoped>\n    .dataframe tbody tr th:only-of-type {\n        vertical-align: middle;\n    }\n\n    .dataframe tbody tr th {\n        vertical-align: top;\n    }\n\n    .dataframe thead th {\n        text-align: right;\n    }\n</style>\n<table border=\"1\" class=\"dataframe\">\n  <thead>\n    <tr style=\"text-align: right;\">\n      <th></th>\n      <th>Total_Stops</th>\n      <th>Price</th>\n      <th>journey_day</th>\n      <th>journey_month</th>\n      <th>dep_hour</th>\n      <th>dep_min</th>\n      <th>arrival_hour</th>\n      <th>arrival_min</th>\n      <th>Duration_hours</th>\n      <th>Duration_mins</th>\n      <th>Airline_Air India</th>\n      <th>Airline_GoAir</th>\n      <th>Airline_IndiGo</th>\n      <th>Airline_Jet Airways</th>\n      <th>Airline_Multiple carriers</th>\n      <th>Airline_Other</th>\n      <th>Airline_SpiceJet</th>\n      <th>Airline_Vistara</th>\n      <th>Source_Chennai</th>\n      <th>Source_Delhi</th>\n      <th>Source_Kolkata</th>\n      <th>Source_Mumbai</th>\n      <th>Destination_Cochin</th>\n      <th>Destination_Delhi</th>\n      <th>Destination_Hyderabad</th>\n      <th>Destination_Kolkata</th>\n    </tr>\n  </thead>\n  <tbody>\n    <tr>\n      <th>0</th>\n      <td>1</td>\n      <td>12898.0</td>\n      <td>27</td>\n      <td>5</td>\n      <td>7</td>\n      <td>5</td>\n      <td>19</td>\n      <td>0</td>\n      <td>11</td>\n      <td>55</td>\n      <td>0</td>\n      <td>0</td>\n      <td>0</td>\n      <td>1</td>\n      <td>0</td>\n      <td>0</td>\n      <td>0</td>\n      <td>0</td>\n      <td>0</td>\n      <td>1</td>\n      <td>0</td>\n      <td>0</td>\n      <td>1</td>\n      <td>0</td>\n      <td>0</td>\n      <td>0</td>\n    </tr>\n    <tr>\n      <th>1</th>\n      <td>1</td>\n      <td>10851.0</td>\n      <td>6</td>\n      <td>3</td>\n      <td>2</td>\n      <td>5</td>\n      <td>7</td>\n      <td>25</td>\n      <td>5</td>\n      <td>20</td>\n      <td>0</td>\n      <td>0</td>\n      <td>1</td>\n      <td>0</td>\n      <td>0</td>\n      <td>0</td>\n      <td>0</td>\n      <td>0</td>\n      <td>0</td>\n      <td>1</td>\n      <td>0</td>\n      <td>0</td>\n      <td>1</td>\n      <td>0</td>\n      <td>0</td>\n      <td>0</td>\n    </tr>\n    <tr>\n      <th>2</th>\n      <td>1</td>\n      <td>5704.0</td>\n      <td>21</td>\n      <td>3</td>\n      <td>9</td>\n      <td>45</td>\n      <td>23</td>\n      <td>0</td>\n      <td>13</td>\n      <td>15</td>\n      <td>1</td>\n      <td>0</td>\n      <td>0</td>\n      <td>0</td>\n      <td>0</td>\n      <td>0</td>\n      <td>0</td>\n      <td>0</td>\n      <td>0</td>\n      <td>1</td>\n      <td>0</td>\n      <td>0</td>\n      <td>1</td>\n      <td>0</td>\n      <td>0</td>\n      <td>0</td>\n    </tr>\n    <tr>\n      <th>3</th>\n      <td>0</td>\n      <td>11598.0</td>\n      <td>18</td>\n      <td>3</td>\n      <td>21</td>\n      <td>10</td>\n      <td>0</td>\n      <td>5</td>\n      <td>2</td>\n      <td>55</td>\n      <td>0</td>\n      <td>0</td>\n      <td>0</td>\n      <td>0</td>\n      <td>0</td>\n      <td>0</td>\n      <td>0</td>\n      <td>1</td>\n      <td>0</td>\n      <td>0</td>\n      <td>0</td>\n      <td>0</td>\n      <td>0</td>\n      <td>1</td>\n      <td>0</td>\n      <td>0</td>\n    </tr>\n    <tr>\n      <th>4</th>\n      <td>1</td>\n      <td>9149.0</td>\n      <td>27</td>\n      <td>5</td>\n      <td>8</td>\n      <td>30</td>\n      <td>19</td>\n      <td>15</td>\n      <td>10</td>\n      <td>45</td>\n      <td>0</td>\n      <td>0</td>\n      <td>0</td>\n      <td>0</td>\n      <td>1</td>\n      <td>0</td>\n      <td>0</td>\n      <td>0</td>\n      <td>0</td>\n      <td>1</td>\n      <td>0</td>\n      <td>0</td>\n      <td>1</td>\n      <td>0</td>\n      <td>0</td>\n      <td>0</td>\n    </tr>\n  </tbody>\n</table>\n</div>",
       "datasetInfos": [],
       "metadata": {},
       "removedWidgets": [],
       "textData": null,
       "type": "htmlSandbox"
      }
     },
     "output_type": "display_data"
    }
   ],
   "source": [
    "#feature engineering on unseen data\n",
    "# Feature Engineering on: 'Date_of_Journey'\n",
    "unseen_dataset[\"journey_day\"] = pd.to_datetime(unseen_dataset.Date_of_Journey, format=\"%d/%m/%Y\").dt.day\n",
    "unseen_dataset[\"journey_month\"] = pd.to_datetime(unseen_dataset[\"Date_of_Journey\"], format = \"%d/%m/%Y\").dt.month\n",
    "unseen_dataset.drop([\"Date_of_Journey\"], axis = 1, inplace = True)\n",
    "\n",
    "# Feature Engineering on: 'Dep_Time'\n",
    "unseen_dataset[\"dep_hour\"] = pd.to_datetime(unseen_dataset[\"Dep_Time\"]).dt.hour\n",
    "unseen_dataset[\"dep_min\"] = pd.to_datetime(unseen_dataset[\"Dep_Time\"]).dt.minute\n",
    "unseen_dataset.drop([\"Dep_Time\"], axis = 1, inplace = True)\n",
    "\n",
    "# Feature Engineering on: 'Arrival_Time'\n",
    "unseen_dataset[\"arrival_hour\"] = pd.to_datetime(unseen_dataset[\"Arrival_Time\"]).dt.hour\n",
    "unseen_dataset[\"arrival_min\"] = pd.to_datetime(unseen_dataset[\"Arrival_Time\"]).dt.minute\n",
    "unseen_dataset.drop([\"Arrival_Time\"], axis = 1, inplace = True)\n",
    "\n",
    "# Feature Engineering on: 'Duration'\n",
    "duration = list(unseen_dataset[\"Duration\"])\n",
    "for i in range(len(duration)):\n",
    "    if len(duration[i].split()) != 2:    # Check if duration contains only hour or mins\n",
    "        if \"h\" in duration[i]:\n",
    "            duration[i] = duration[i].strip() + \" 0m\"   # Adds 0 minute\n",
    "        else:\n",
    "            duration[i] = \"0h \" + duration[i]           # Adds 0 hour\n",
    "duration_hours = []\n",
    "duration_mins = []\n",
    "for i in range(len(duration)):\n",
    "    duration_hours.append(int(duration[i].split(sep = \"h\")[0]))    # Extract hours from duration\n",
    "    duration_mins.append(int(duration[i].split(sep = \"m\")[0].split()[-1]))   # Extracts only minutes from duration\n",
    "unseen_dataset[\"Duration_hours\"] = duration_hours\n",
    "unseen_dataset[\"Duration_mins\"] = duration_mins\n",
    "unseen_dataset.drop([\"Duration\"], axis = 1, inplace = True)\n",
    "\n",
    "\n",
    "# Perform feature engineering on Categorical dt variables\n",
    "# Feature Engineering on: 'Airline'\n",
    "Airline = unseen_dataset[[\"Airline\"]].copy()\n",
    "New_Airline_List = []\n",
    "Current_Airline_List = Airline['Airline']\n",
    "for carrier in Current_Airline_List:\n",
    "  if carrier in ['IndiGo', 'Air India', 'Jet Airways', 'SpiceJet',\n",
    "       'Multiple carriers', 'GoAir', 'Vistara', 'Air Asia']:\n",
    "    New_Airline_List.append(carrier)\n",
    "  else:\n",
    "    New_Airline_List.append('Other')\n",
    "Airline['Airline'] = pd.DataFrame(New_Airline_List)\n",
    "Airline = pd.get_dummies(Airline, drop_first= True)\n",
    "\n",
    "# Feature Engineering on: 'Source'\n",
    "Source = unseen_dataset[[\"Source\"]]\n",
    "Source = pd.get_dummies(Source, drop_first= True)\n",
    "Source.head()\n",
    "\n",
    "# Feature Engineering on: 'Destination'\n",
    "Destination = unseen_dataset[[\"Destination\"]].copy()\n",
    "Current_Destination_List = Destination['Destination']\n",
    "New_Destination_List = []\n",
    "for value in Current_Destination_List:\n",
    "  if value in ['New Delhi']:\n",
    "    New_Destination_List.append('Delhi')\n",
    "  else:\n",
    "    New_Destination_List.append(value)\n",
    "Destination['Destination'] = pd.DataFrame(New_Destination_List)\n",
    "Destination['Destination'].value_counts()\n",
    "Destination = pd.get_dummies(Destination, drop_first = True)\n",
    "Destination.head()\n",
    "\n",
    "# Feature Engineering on: 'Route', 'Additional_Info\n",
    "unseen_dataset.drop([\"Route\", \"Additional_Info\"], axis = 1, inplace = True)\n",
    "\n",
    "# Feature Engineering on: 'Total_Stops'\n",
    "unseen_dataset.replace({\"non-stop\": 0, \"1 stop\": 1, \"2 stops\": 2, \"3 stops\": 3, \"4 stops\": 4}, inplace = True)\n",
    "\n",
    "# Concatenate dataframe --> train_data + Airline + Source + Destination\n",
    "data_test = pd.concat([unseen_dataset, Airline, Source, Destination], axis = 1)\n",
    "data_test.drop([\"Airline\", \"Source\", \"Destination\"], axis = 1, inplace = True)\n",
    "\n",
    "# See how the test dataset looks\n",
    "data_test.head()\n"
   ]
  },
  {
   "cell_type": "code",
   "execution_count": 0,
   "metadata": {
    "application/vnd.databricks.v1+cell": {
     "cellMetadata": {
      "byteLimit": 2048000,
      "rowLimit": 10000
     },
     "inputWidgets": {},
     "nuid": "f0aa415c-7749-4374-9951-8f38487c1724",
     "showTitle": false,
     "tableResultSettingsMap": {},
     "title": ""
    }
   },
   "outputs": [],
   "source": [
    "#dropping Source_Delhi\n",
    "#testing with droping Destination_Cochin\n",
    "X_unseen = data_test.loc[:, ['Total_Stops', 'journey_day', 'journey_month', 'dep_hour',\n",
    "       'dep_min', 'arrival_hour', 'arrival_min', 'Duration_hours',\n",
    "       'Duration_mins', 'Airline_Air India', 'Airline_GoAir', 'Airline_IndiGo',\n",
    "       'Airline_Jet Airways', 'Airline_Multiple carriers', 'Airline_Other',\n",
    "       'Airline_SpiceJet', 'Airline_Vistara', 'Source_Chennai',\n",
    "       'Source_Kolkata', 'Source_Mumbai', 'Destination_Cochin',\n",
    "       'Destination_Delhi', 'Destination_Hyderabad', 'Destination_Kolkata']]\n",
    "y_unseen = data_test.iloc[:, 1]"
   ]
  },
  {
   "cell_type": "code",
   "execution_count": 0,
   "metadata": {
    "application/vnd.databricks.v1+cell": {
     "cellMetadata": {
      "byteLimit": 2048000,
      "rowLimit": 10000
     },
     "inputWidgets": {},
     "nuid": "961a7084-d5ea-4094-8971-312342710cf4",
     "showTitle": false,
     "tableResultSettingsMap": {},
     "title": ""
    }
   },
   "outputs": [],
   "source": [
    "y_pred = randomForest_regressor.predict(X_unseen)"
   ]
  },
  {
   "cell_type": "code",
   "execution_count": 0,
   "metadata": {
    "application/vnd.databricks.v1+cell": {
     "cellMetadata": {
      "byteLimit": 2048000,
      "rowLimit": 10000
     },
     "inputWidgets": {},
     "nuid": "3bf5eb13-b80d-4682-83a9-2e4d993c5c04",
     "showTitle": false,
     "tableResultSettingsMap": {},
     "title": ""
    }
   },
   "outputs": [
    {
     "output_type": "stream",
     "name": "stdout",
     "output_type": "stream",
     "text": [
      "R2 value:  0.65\nNormalized RMSE:  0.05\nMax Value:  57209.0 \nMin Value:  1759.0\n"
     ]
    }
   ],
   "source": [
    "print('R2 value: ', round(metrics.r2_score(y_unseen, y_pred),2))\n",
    "print('Normalized RMSE: ', round(np.sqrt(metrics.mean_squared_error(y_unseen, y_pred))/(max(y_unseen)-min(y_unseen)),2))\n",
    "print('Max Value: ', max(y_unseen), '\\nMin Value: ', min(y_unseen))"
   ]
  },
  {
   "cell_type": "code",
   "execution_count": 0,
   "metadata": {
    "application/vnd.databricks.v1+cell": {
     "cellMetadata": {
      "byteLimit": 2048000,
      "rowLimit": 10000
     },
     "inputWidgets": {},
     "nuid": "74879dbd-4e19-45c1-97f0-75e27a076948",
     "showTitle": false,
     "tableResultSettingsMap": {},
     "title": ""
    }
   },
   "outputs": [
    {
     "output_type": "display_data",
     "data": {
      "text/html": [
       "<div>\n",
       "<style scoped>\n",
       "    .dataframe tbody tr th:only-of-type {\n",
       "        vertical-align: middle;\n",
       "    }\n",
       "\n",
       "    .dataframe tbody tr th {\n",
       "        vertical-align: top;\n",
       "    }\n",
       "\n",
       "    .dataframe thead th {\n",
       "        text-align: right;\n",
       "    }\n",
       "</style>\n",
       "<table border=\"1\" class=\"dataframe\">\n",
       "  <thead>\n",
       "    <tr style=\"text-align: right;\">\n",
       "      <th></th>\n",
       "      <th>Airline</th>\n",
       "      <th>Date_of_Journey</th>\n",
       "      <th>Source</th>\n",
       "      <th>Destination</th>\n",
       "      <th>Route</th>\n",
       "      <th>Dep_Time</th>\n",
       "      <th>Arrival_Time</th>\n",
       "      <th>Duration</th>\n",
       "      <th>Total_Stops</th>\n",
       "      <th>Additional_Info</th>\n",
       "      <th>Price</th>\n",
       "      <th>Predicted Price</th>\n",
       "    </tr>\n",
       "  </thead>\n",
       "  <tbody>\n",
       "    <tr>\n",
       "      <th>0</th>\n",
       "      <td>Jet Airways</td>\n",
       "      <td>27/05/2019</td>\n",
       "      <td>Delhi</td>\n",
       "      <td>Cochin</td>\n",
       "      <td>DEL → BOM → COK</td>\n",
       "      <td>07:05</td>\n",
       "      <td>19:00</td>\n",
       "      <td>11h 55m</td>\n",
       "      <td>1 stop</td>\n",
       "      <td>In-flight meal not included</td>\n",
       "      <td>12898.0</td>\n",
       "      <td>15231.397500</td>\n",
       "    </tr>\n",
       "    <tr>\n",
       "      <th>1</th>\n",
       "      <td>IndiGo</td>\n",
       "      <td>6/03/2019</td>\n",
       "      <td>Delhi</td>\n",
       "      <td>Cochin</td>\n",
       "      <td>DEL → MAA → COK</td>\n",
       "      <td>02:05</td>\n",
       "      <td>07:25</td>\n",
       "      <td>5h 20m</td>\n",
       "      <td>1 stop</td>\n",
       "      <td>No info</td>\n",
       "      <td>10851.0</td>\n",
       "      <td>11477.060000</td>\n",
       "    </tr>\n",
       "    <tr>\n",
       "      <th>2</th>\n",
       "      <td>Air India</td>\n",
       "      <td>21/03/2019</td>\n",
       "      <td>Delhi</td>\n",
       "      <td>Cochin</td>\n",
       "      <td>DEL → BLR → COK</td>\n",
       "      <td>09:45</td>\n",
       "      <td>23:00</td>\n",
       "      <td>13h 15m</td>\n",
       "      <td>1 stop</td>\n",
       "      <td>No info</td>\n",
       "      <td>5704.0</td>\n",
       "      <td>6556.993333</td>\n",
       "    </tr>\n",
       "    <tr>\n",
       "      <th>3</th>\n",
       "      <td>Vistara</td>\n",
       "      <td>18/03/2019</td>\n",
       "      <td>Banglore</td>\n",
       "      <td>New Delhi</td>\n",
       "      <td>BLR → DEL</td>\n",
       "      <td>21:10</td>\n",
       "      <td>00:05 16 Mar</td>\n",
       "      <td>2h 55m</td>\n",
       "      <td>non-stop</td>\n",
       "      <td>No info</td>\n",
       "      <td>11598.0</td>\n",
       "      <td>6189.440833</td>\n",
       "    </tr>\n",
       "    <tr>\n",
       "      <th>4</th>\n",
       "      <td>Multiple carriers</td>\n",
       "      <td>27/05/2019</td>\n",
       "      <td>Delhi</td>\n",
       "      <td>Cochin</td>\n",
       "      <td>DEL → BOM → COK</td>\n",
       "      <td>08:30</td>\n",
       "      <td>19:15</td>\n",
       "      <td>10h 45m</td>\n",
       "      <td>1 stop</td>\n",
       "      <td>No info</td>\n",
       "      <td>9149.0</td>\n",
       "      <td>9167.934929</td>\n",
       "    </tr>\n",
       "  </tbody>\n",
       "</table>\n",
       "</div>"
      ]
     },
     "metadata": {
      "application/vnd.databricks.v1+output": {
       "addedWidgets": {},
       "arguments": {},
       "data": "<div>\n<style scoped>\n    .dataframe tbody tr th:only-of-type {\n        vertical-align: middle;\n    }\n\n    .dataframe tbody tr th {\n        vertical-align: top;\n    }\n\n    .dataframe thead th {\n        text-align: right;\n    }\n</style>\n<table border=\"1\" class=\"dataframe\">\n  <thead>\n    <tr style=\"text-align: right;\">\n      <th></th>\n      <th>Airline</th>\n      <th>Date_of_Journey</th>\n      <th>Source</th>\n      <th>Destination</th>\n      <th>Route</th>\n      <th>Dep_Time</th>\n      <th>Arrival_Time</th>\n      <th>Duration</th>\n      <th>Total_Stops</th>\n      <th>Additional_Info</th>\n      <th>Price</th>\n      <th>Predicted Price</th>\n    </tr>\n  </thead>\n  <tbody>\n    <tr>\n      <th>0</th>\n      <td>Jet Airways</td>\n      <td>27/05/2019</td>\n      <td>Delhi</td>\n      <td>Cochin</td>\n      <td>DEL → BOM → COK</td>\n      <td>07:05</td>\n      <td>19:00</td>\n      <td>11h 55m</td>\n      <td>1 stop</td>\n      <td>In-flight meal not included</td>\n      <td>12898.0</td>\n      <td>15231.397500</td>\n    </tr>\n    <tr>\n      <th>1</th>\n      <td>IndiGo</td>\n      <td>6/03/2019</td>\n      <td>Delhi</td>\n      <td>Cochin</td>\n      <td>DEL → MAA → COK</td>\n      <td>02:05</td>\n      <td>07:25</td>\n      <td>5h 20m</td>\n      <td>1 stop</td>\n      <td>No info</td>\n      <td>10851.0</td>\n      <td>11477.060000</td>\n    </tr>\n    <tr>\n      <th>2</th>\n      <td>Air India</td>\n      <td>21/03/2019</td>\n      <td>Delhi</td>\n      <td>Cochin</td>\n      <td>DEL → BLR → COK</td>\n      <td>09:45</td>\n      <td>23:00</td>\n      <td>13h 15m</td>\n      <td>1 stop</td>\n      <td>No info</td>\n      <td>5704.0</td>\n      <td>6556.993333</td>\n    </tr>\n    <tr>\n      <th>3</th>\n      <td>Vistara</td>\n      <td>18/03/2019</td>\n      <td>Banglore</td>\n      <td>New Delhi</td>\n      <td>BLR → DEL</td>\n      <td>21:10</td>\n      <td>00:05 16 Mar</td>\n      <td>2h 55m</td>\n      <td>non-stop</td>\n      <td>No info</td>\n      <td>11598.0</td>\n      <td>6189.440833</td>\n    </tr>\n    <tr>\n      <th>4</th>\n      <td>Multiple carriers</td>\n      <td>27/05/2019</td>\n      <td>Delhi</td>\n      <td>Cochin</td>\n      <td>DEL → BOM → COK</td>\n      <td>08:30</td>\n      <td>19:15</td>\n      <td>10h 45m</td>\n      <td>1 stop</td>\n      <td>No info</td>\n      <td>9149.0</td>\n      <td>9167.934929</td>\n    </tr>\n  </tbody>\n</table>\n</div>",
       "datasetInfos": [],
       "metadata": {},
       "removedWidgets": [],
       "textData": null,
       "type": "htmlSandbox"
      }
     },
     "output_type": "display_data"
    }
   ],
   "source": [
    "df_y_pred = pd.DataFrame(y_pred,columns= ['Predicted Price'])\n",
    "original_dataset = pd.read_excel(local_path_new)\n",
    "dfx = pd.concat([original_dataset, df_y_pred], axis=1)\n",
    "dfx.to_excel(\"c2_ModelOutput.xlsx\")\n",
    "dfx.head()"
   ]
  },
  {
   "cell_type": "code",
   "execution_count": 0,
   "metadata": {
    "application/vnd.databricks.v1+cell": {
     "cellMetadata": {
      "byteLimit": 2048000,
      "rowLimit": 10000
     },
     "inputWidgets": {},
     "nuid": "d21e69b3-49f8-485e-97c5-d8e719f750e3",
     "showTitle": false,
     "tableResultSettingsMap": {},
     "title": ""
    }
   },
   "outputs": [],
   "source": [
    "#Hyper Parameter Tunning\n",
    "from sklearn.model_selection import RandomizedSearchCV\n",
    "#Randomized Search CV\n",
    "# Number of trees in random forest\n",
    "n_estimators = [int(x) for x in np.linspace(start = 100, stop = 1200, num = 12)]\n",
    "# Number of features to consider at every split\n",
    "max_features = ['auto', 'sqrt']\n",
    "# Maximum number of levels in tree\n",
    "max_depth = [int(x) for x in np.linspace(5, 30, num = 6)]\n",
    "# Minimum number of samples required to split a node\n",
    "min_samples_split = [2, 5, 10, 15, 100]\n",
    "# Minimum number of samples required at each leaf node\n",
    "min_samples_leaf = [1, 2, 5, 10]"
   ]
  },
  {
   "cell_type": "code",
   "execution_count": 0,
   "metadata": {
    "application/vnd.databricks.v1+cell": {
     "cellMetadata": {
      "byteLimit": 2048000,
      "rowLimit": 10000
     },
     "inputWidgets": {},
     "nuid": "aeee99a3-1b67-4f2e-94d3-d24f231cbd23",
     "showTitle": false,
     "tableResultSettingsMap": {},
     "title": ""
    }
   },
   "outputs": [],
   "source": [
    "# Create the random grid\n",
    "random_grid = {'n_estimators': n_estimators,\n",
    "               'max_features': max_features,\n",
    "               'max_depth': max_depth,\n",
    "               'min_samples_split': min_samples_split,\n",
    "               'min_samples_leaf': min_samples_leaf}"
   ]
  },
  {
   "cell_type": "code",
   "execution_count": 0,
   "metadata": {
    "application/vnd.databricks.v1+cell": {
     "cellMetadata": {
      "byteLimit": 2048000,
      "rowLimit": 10000
     },
     "inputWidgets": {},
     "nuid": "d251ad05-a4e5-488c-9a45-d2cf3b645516",
     "showTitle": false,
     "tableResultSettingsMap": {},
     "title": ""
    }
   },
   "outputs": [],
   "source": [
    "# Random search of parameters, using 5 fold cross validation, \n",
    "# search across 100 different combinations\n",
    "rf_random = RandomizedSearchCV(estimator = randomForest_regressor, param_distributions = random_grid,\n",
    "                               scoring='neg_mean_squared_error', n_iter = 10, cv = 5, \n",
    "                               verbose=2, random_state=42, n_jobs = 1)"
   ]
  },
  {
   "cell_type": "code",
   "execution_count": 0,
   "metadata": {
    "application/vnd.databricks.v1+cell": {
     "cellMetadata": {
      "byteLimit": 2048000,
      "rowLimit": 10000
     },
     "inputWidgets": {},
     "nuid": "269f66a5-eb19-4167-9f4f-5f796acf30cc",
     "showTitle": false,
     "tableResultSettingsMap": {},
     "title": ""
    }
   },
   "outputs": [
    {
     "output_type": "stream",
     "name": "stdout",
     "output_type": "stream",
     "text": [
      "Fitting 5 folds for each of 10 candidates, totalling 50 fits\n[CV] END max_depth=10, max_features=sqrt, min_samples_leaf=5, min_samples_split=5, n_estimators=900; total time=   3.4s\n[CV] END max_depth=10, max_features=sqrt, min_samples_leaf=5, min_samples_split=5, n_estimators=900; total time=   3.3s\n[CV] END max_depth=10, max_features=sqrt, min_samples_leaf=5, min_samples_split=5, n_estimators=900; total time=   3.3s\n[CV] END max_depth=10, max_features=sqrt, min_samples_leaf=5, min_samples_split=5, n_estimators=900; total time=   3.2s\n[CV] END max_depth=10, max_features=sqrt, min_samples_leaf=5, min_samples_split=5, n_estimators=900; total time=   3.3s\n[CV] END max_depth=15, max_features=sqrt, min_samples_leaf=2, min_samples_split=10, n_estimators=1100; total time=   4.9s\n[CV] END max_depth=15, max_features=sqrt, min_samples_leaf=2, min_samples_split=10, n_estimators=1100; total time=   5.0s\n[CV] END max_depth=15, max_features=sqrt, min_samples_leaf=2, min_samples_split=10, n_estimators=1100; total time=   4.9s\n[CV] END max_depth=15, max_features=sqrt, min_samples_leaf=2, min_samples_split=10, n_estimators=1100; total time=   5.5s\n[CV] END max_depth=15, max_features=sqrt, min_samples_leaf=2, min_samples_split=10, n_estimators=1100; total time=   5.1s\n[CV] END max_depth=15, max_features=auto, min_samples_leaf=5, min_samples_split=100, n_estimators=300; total time=   3.2s\n[CV] END max_depth=15, max_features=auto, min_samples_leaf=5, min_samples_split=100, n_estimators=300; total time=   3.2s\n[CV] END max_depth=15, max_features=auto, min_samples_leaf=5, min_samples_split=100, n_estimators=300; total time=   3.2s\n[CV] END max_depth=15, max_features=auto, min_samples_leaf=5, min_samples_split=100, n_estimators=300; total time=   3.1s\n[CV] END max_depth=15, max_features=auto, min_samples_leaf=5, min_samples_split=100, n_estimators=300; total time=   3.1s\n[CV] END max_depth=15, max_features=auto, min_samples_leaf=5, min_samples_split=5, n_estimators=400; total time=   6.0s\n[CV] END max_depth=15, max_features=auto, min_samples_leaf=5, min_samples_split=5, n_estimators=400; total time=   6.0s\n[CV] END max_depth=15, max_features=auto, min_samples_leaf=5, min_samples_split=5, n_estimators=400; total time=   5.9s\n[CV] END max_depth=15, max_features=auto, min_samples_leaf=5, min_samples_split=5, n_estimators=400; total time=   5.7s\n[CV] END max_depth=15, max_features=auto, min_samples_leaf=5, min_samples_split=5, n_estimators=400; total time=   5.9s\n[CV] END max_depth=20, max_features=auto, min_samples_leaf=10, min_samples_split=5, n_estimators=700; total time=   9.0s\n[CV] END max_depth=20, max_features=auto, min_samples_leaf=10, min_samples_split=5, n_estimators=700; total time=   8.9s\n[CV] END max_depth=20, max_features=auto, min_samples_leaf=10, min_samples_split=5, n_estimators=700; total time=   9.0s\n[CV] END max_depth=20, max_features=auto, min_samples_leaf=10, min_samples_split=5, n_estimators=700; total time=   9.4s\n[CV] END max_depth=20, max_features=auto, min_samples_leaf=10, min_samples_split=5, n_estimators=700; total time=   8.9s\n[CV] END max_depth=25, max_features=sqrt, min_samples_leaf=1, min_samples_split=2, n_estimators=1000; total time=   7.1s\n[CV] END max_depth=25, max_features=sqrt, min_samples_leaf=1, min_samples_split=2, n_estimators=1000; total time=   7.2s\n[CV] END max_depth=25, max_features=sqrt, min_samples_leaf=1, min_samples_split=2, n_estimators=1000; total time=   7.0s\n[CV] END max_depth=25, max_features=sqrt, min_samples_leaf=1, min_samples_split=2, n_estimators=1000; total time=   6.9s\n[CV] END max_depth=25, max_features=sqrt, min_samples_leaf=1, min_samples_split=2, n_estimators=1000; total time=   7.0s\n[CV] END max_depth=5, max_features=sqrt, min_samples_leaf=10, min_samples_split=15, n_estimators=1100; total time=   2.7s\n[CV] END max_depth=5, max_features=sqrt, min_samples_leaf=10, min_samples_split=15, n_estimators=1100; total time=   2.7s\n[CV] END max_depth=5, max_features=sqrt, min_samples_leaf=10, min_samples_split=15, n_estimators=1100; total time=   2.6s\n[CV] END max_depth=5, max_features=sqrt, min_samples_leaf=10, min_samples_split=15, n_estimators=1100; total time=   2.9s\n[CV] END max_depth=5, max_features=sqrt, min_samples_leaf=10, min_samples_split=15, n_estimators=1100; total time=   2.7s\n[CV] END max_depth=15, max_features=sqrt, min_samples_leaf=1, min_samples_split=15, n_estimators=300; total time=   1.5s\n[CV] END max_depth=15, max_features=sqrt, min_samples_leaf=1, min_samples_split=15, n_estimators=300; total time=   1.3s\n[CV] END max_depth=15, max_features=sqrt, min_samples_leaf=1, min_samples_split=15, n_estimators=300; total time=   1.4s\n[CV] END max_depth=15, max_features=sqrt, min_samples_leaf=1, min_samples_split=15, n_estimators=300; total time=   1.4s\n[CV] END max_depth=15, max_features=sqrt, min_samples_leaf=1, min_samples_split=15, n_estimators=300; total time=   1.3s\n[CV] END max_depth=5, max_features=sqrt, min_samples_leaf=2, min_samples_split=10, n_estimators=700; total time=   1.7s\n[CV] END max_depth=5, max_features=sqrt, min_samples_leaf=2, min_samples_split=10, n_estimators=700; total time=   1.7s\n[CV] END max_depth=5, max_features=sqrt, min_samples_leaf=2, min_samples_split=10, n_estimators=700; total time=   1.7s\n[CV] END max_depth=5, max_features=sqrt, min_samples_leaf=2, min_samples_split=10, n_estimators=700; total time=   1.7s\n[CV] END max_depth=5, max_features=sqrt, min_samples_leaf=2, min_samples_split=10, n_estimators=700; total time=   1.8s\n[CV] END max_depth=20, max_features=auto, min_samples_leaf=1, min_samples_split=15, n_estimators=700; total time=  10.9s\n[CV] END max_depth=20, max_features=auto, min_samples_leaf=1, min_samples_split=15, n_estimators=700; total time=  10.9s\n[CV] END max_depth=20, max_features=auto, min_samples_leaf=1, min_samples_split=15, n_estimators=700; total time=  10.9s\n[CV] END max_depth=20, max_features=auto, min_samples_leaf=1, min_samples_split=15, n_estimators=700; total time=  10.4s\n[CV] END max_depth=20, max_features=auto, min_samples_leaf=1, min_samples_split=15, n_estimators=700; total time=  10.8s\nOut[101]: RandomizedSearchCV(cv=5, estimator=RandomForestRegressor(), n_jobs=1,\n                   param_distributions={'max_depth': [5, 10, 15, 20, 25, 30],\n                                        'max_features': ['auto', 'sqrt'],\n                                        'min_samples_leaf': [1, 2, 5, 10],\n                                        'min_samples_split': [2, 5, 10, 15,\n                                                              100],\n                                        'n_estimators': [100, 200, 300, 400,\n                                                         500, 600, 700, 800,\n                                                         900, 1000, 1100,\n                                                         1200]},\n                   random_state=42, scoring='neg_mean_squared_error',\n                   verbose=2)"
     ]
    }
   ],
   "source": [
    "# Model Training with Hyperparameter Tuning\n",
    "rf_random.fit(X_train,y_train)"
   ]
  },
  {
   "cell_type": "code",
   "execution_count": 0,
   "metadata": {
    "application/vnd.databricks.v1+cell": {
     "cellMetadata": {
      "byteLimit": 2048000,
      "rowLimit": 10000
     },
     "inputWidgets": {},
     "nuid": "af0964e0-dc54-41b7-981a-227cdb199bbd",
     "showTitle": false,
     "tableResultSettingsMap": {},
     "title": ""
    }
   },
   "outputs": [
    {
     "output_type": "stream",
     "name": "stdout",
     "output_type": "stream",
     "text": [
      "Out[102]: {'n_estimators': 700,\n 'min_samples_split': 15,\n 'min_samples_leaf': 1,\n 'max_features': 'auto',\n 'max_depth': 20}"
     ]
    }
   ],
   "source": [
    "rf_random.best_params_"
   ]
  },
  {
   "cell_type": "code",
   "execution_count": 0,
   "metadata": {
    "application/vnd.databricks.v1+cell": {
     "cellMetadata": {
      "byteLimit": 2048000,
      "rowLimit": 10000
     },
     "inputWidgets": {},
     "nuid": "af47254e-a77b-4b31-9506-50d4acf1be96",
     "showTitle": false,
     "tableResultSettingsMap": {},
     "title": ""
    }
   },
   "outputs": [
    {
     "output_type": "display_data",
     "data": {
      "image/png": "[encoded data removed]"
     },
     "metadata": {
      "application/vnd.databricks.v1+output": {
       "addedWidgets": {},
       "arguments": {},
       "data": "data:image/png;base64,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\n",
       "datasetInfos": [],
       "metadata": {},
       "removedWidgets": [],
       "type": "image"
      }
     },
     "output_type": "display_data"
    }
   ],
   "source": [
    "# Plot Performance Chart\n",
    "prediction = rf_random.predict(X_test)\n",
    "plt.figure(figsize = (8,8))\n",
    "plt.scatter(y_test, prediction, alpha = 0.5)\n",
    "plt.xlabel(\"y_test\")\n",
    "plt.ylabel(\"y_pred\")\n",
    "plt.show()"
   ]
  },
  {
   "cell_type": "code",
   "execution_count": 0,
   "metadata": {
    "application/vnd.databricks.v1+cell": {
     "cellMetadata": {
      "byteLimit": 2048000,
      "rowLimit": 10000
     },
     "inputWidgets": {},
     "nuid": "231f2943-dc1b-4b00-9513-e50e16ac7ddd",
     "showTitle": false,
     "tableResultSettingsMap": {},
     "title": ""
    }
   },
   "outputs": [],
   "source": [
    "prediction = rf_random.predict(X_test)"
   ]
  },
  {
   "cell_type": "code",
   "execution_count": 0,
   "metadata": {
    "application/vnd.databricks.v1+cell": {
     "cellMetadata": {
      "byteLimit": 2048000,
      "rowLimit": 10000
     },
     "inputWidgets": {},
     "nuid": "621735aa-9296-457e-8668-995bdad82e21",
     "showTitle": false,
     "tableResultSettingsMap": {},
     "title": ""
    }
   },
   "outputs": [
    {
     "output_type": "stream",
     "name": "stdout",
     "output_type": "stream",
     "text": [
      "R2 value:  0.84\nRMSE:  1768.91\nNormalized RMSE:  0.05\nMax Value:  34608.0 \nMin Value:  1840.0\n"
     ]
    }
   ],
   "source": [
    "# RMSE/(max(DV)-min(DV))\n",
    "print('R2 value: ', round(metrics.r2_score(y_test, prediction),2))\n",
    "print('RMSE: ', round(np.sqrt(metrics.mean_squared_error(y_test, prediction)),2))\n",
    "print('Normalized RMSE: ', round(np.sqrt(metrics.mean_squared_error(y_test, prediction))/(max(y_test)-min(y_test)),2))\n",
    "print('Max Value: ', max(y_test), '\\nMin Value: ', min(y_test))"
   ]
  },
  {
   "cell_type": "code",
   "execution_count": 0,
   "metadata": {
    "application/vnd.databricks.v1+cell": {
     "cellMetadata": {},
     "inputWidgets": {},
     "nuid": "22f7d1cd-7d74-4056-a509-779bbff1acd2",
     "showTitle": false,
     "tableResultSettingsMap": {},
     "title": ""
    }
   },
   "outputs": [],
   "source": [
    "print('Model Performance on Training Set:', round(randomForest_regressor.score(X_train, y_train)*100,2))\n",
    "print('Model Performance on Test Set:', round(randomForest_regressor.score(X_test, y_test)*100,2))"
   ]
  }
 ],
 "metadata": {
  "application/vnd.databricks.v1+notebook": {
   "computePreferences": null,
   "dashboards": [],
   "environmentMetadata": null,
   "language": "python",
   "notebookMetadata": {
    "pythonIndentUnit": 4
   },
   "notebookName": "FairFare",
   "widgets": {}
  }
 },
 "nbformat": 4,
 "nbformat_minor": 0
}
