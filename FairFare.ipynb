{
 "cells": [
  {
   "cell_type": "code",
   "execution_count": 0,
   "metadata": {
    "application/vnd.databricks.v1+cell": {
     "cellMetadata": {
      "byteLimit": 2048000,
      "rowLimit": 10000
     },
     "inputWidgets": {},
     "nuid": "de619d62-f1b9-4d82-ad9a-c181b9076ddd",
     "showTitle": false,
     "tableResultSettingsMap": {},
     "title": ""
    }
   },
   "outputs": [],
   "source": [
    "import pandas as pd\n",
    "import numpy as np\n",
    "import seaborn as sns\n",
    "sns.set()"
   ]
  },
  {
   "cell_type": "code",
   "execution_count": 0,
   "metadata": {
    "application/vnd.databricks.v1+cell": {
     "cellMetadata": {
      "byteLimit": 2048000,
      "rowLimit": 10000
     },
     "inputWidgets": {},
     "nuid": "2e3f1f61-1bb5-4643-8ebe-d0c0bfb14b33",
     "showTitle": false,
     "tableResultSettingsMap": {},
     "title": ""
    }
   },
   "outputs": [
    {
     "output_type": "stream",
     "name": "stdout",
     "output_type": "stream",
     "text": [
      "Python interpreter will be restarted.\nRequirement already satisfied: openpyxl in /local_disk0/.ephemeral_nfs/envs/pythonEnv-40c69a15-7b18-4d2a-b0e0-4e06abd32f1a/lib/python3.9/site-packages (3.1.5)\nRequirement already satisfied: et-xmlfile in /local_disk0/.ephemeral_nfs/envs/pythonEnv-40c69a15-7b18-4d2a-b0e0-4e06abd32f1a/lib/python3.9/site-packages (from openpyxl) (2.0.0)\nPython interpreter will be restarted.\n"
     ]
    }
   ],
   "source": [
    "%pip install openpyxl"
   ]
  },
  {
   "cell_type": "code",
   "execution_count": 0,
   "metadata": {
    "application/vnd.databricks.v1+cell": {
     "cellMetadata": {
      "byteLimit": 2048000,
      "rowLimit": 10000
     },
     "inputWidgets": {},
     "nuid": "d608a837-3a0e-4eda-85ee-5d87951153a6",
     "showTitle": false,
     "tableResultSettingsMap": {},
     "title": ""
    }
   },
   "outputs": [
    {
     "output_type": "stream",
     "name": "stdout",
     "output_type": "stream",
     "text": [
      "Out[1]: [FileInfo(path='dbfs:/FileStore/shared_uploads/choudharynarendra1361s@gmail.com/Churn_Modeling.csv', name='Churn_Modeling.csv', size=684858, modificationTime=1735561395000),\n FileInfo(path='dbfs:/FileStore/shared_uploads/choudharynarendra1361s@gmail.com/a1_FlightFare_Dataset.xlsx', name='a1_FlightFare_Dataset.xlsx', size=498199, modificationTime=1732870469000),\n FileInfo(path='dbfs:/FileStore/shared_uploads/choudharynarendra1361s@gmail.com/a2_Unseen_Dataset-1.xlsx', name='a2_Unseen_Dataset-1.xlsx', size=42448, modificationTime=1732898260000),\n FileInfo(path='dbfs:/FileStore/shared_uploads/choudharynarendra1361s@gmail.com/a2_Unseen_Dataset-2.xlsx', name='a2_Unseen_Dataset-2.xlsx', size=42448, modificationTime=1732898684000),\n FileInfo(path='dbfs:/FileStore/shared_uploads/choudharynarendra1361s@gmail.com/a2_Unseen_Dataset.xlsx', name='a2_Unseen_Dataset.xlsx', size=42448, modificationTime=1732870823000),\n FileInfo(path='dbfs:/FileStore/shared_uploads/choudharynarendra1361s@gmail.com/airport.csv', name='airport.csv', size=84548, modificationTime=1732602974000),\n FileInfo(path='dbfs:/FileStore/shared_uploads/choudharynarendra1361s@gmail.com/book-1.txt', name='book-1.txt', size=303927, modificationTime=1717923495000),\n FileInfo(path='dbfs:/FileStore/shared_uploads/choudharynarendra1361s@gmail.com/book.txt', name='book.txt', size=303927, modificationTime=1717920814000),\n FileInfo(path='dbfs:/FileStore/shared_uploads/choudharynarendra1361s@gmail.com/dataset.csv', name='dataset.csv', size=5256, modificationTime=1733639994000),\n FileInfo(path='dbfs:/FileStore/shared_uploads/choudharynarendra1361s@gmail.com/flights_small.csv', name='flights_small.csv', size=614174, modificationTime=1732603182000),\n FileInfo(path='dbfs:/FileStore/shared_uploads/choudharynarendra1361s@gmail.com/planes.csv', name='planes.csv', size=219326, modificationTime=1732603182000),\n FileInfo(path='dbfs:/FileStore/shared_uploads/choudharynarendra1361s@gmail.com/runs.csv', name='runs.csv', size=24434, modificationTime=1717998918000)]"
     ]
    }
   ],
   "source": [
    "dbutils.fs.ls('/FileStore/shared_uploads/choudharynarendra1361s@gmail.com/')"
   ]
  },
  {
   "cell_type": "code",
   "execution_count": 0,
   "metadata": {
    "application/vnd.databricks.v1+cell": {
     "cellMetadata": {
      "byteLimit": 2048000,
      "rowLimit": 10000
     },
     "inputWidgets": {},
     "nuid": "baa3620f-bab8-4a09-8817-34d8f7481634",
     "showTitle": false,
     "tableResultSettingsMap": {},
     "title": ""
    }
   },
   "outputs": [
    {
     "output_type": "stream",
     "name": "stdout",
     "output_type": "stream",
     "text": [
      "Out[2]: True"
     ]
    }
   ],
   "source": [
    "# Copy the file to a local path for Pandas\n",
    "dbutils.fs.cp(\n",
    "    \"dbfs:/FileStore/shared_uploads/choudharynarendra1361s@gmail.com/a1_FlightFare_Dataset.xlsx\",\n",
    "    \"file:/tmp/a1_FlightFare_Dataset.xlsx\"\n",
    ")\n"
   ]
  },
  {
   "cell_type": "code",
   "execution_count": 0,
   "metadata": {
    "application/vnd.databricks.v1+cell": {
     "cellMetadata": {
      "byteLimit": 2048000,
      "rowLimit": 10000
     },
     "inputWidgets": {},
     "nuid": "99a3a90f-4ffe-437c-80f1-3127a50013e2",
     "showTitle": false,
     "tableResultSettingsMap": {},
     "title": ""
    }
   },
   "outputs": [
    {
     "output_type": "stream",
     "name": "stdout",
     "output_type": "stream",
     "text": [
      "+--------------------+-------------------+------+--------------------+\n|                path|   modificationTime|length|             content|\n+--------------------+-------------------+------+--------------------+\n|dbfs:/FileStore/s...|2024-11-29 08:54:29|498199|[50 4B 03 04 14 0...|\n+--------------------+-------------------+------+--------------------+\n\n"
     ]
    }
   ],
   "source": [
    "# Read the file using Spark to verify it exists\n",
    "spark.read.format(\"binaryFile\").load(\"dbfs:/FileStore/shared_uploads/choudharynarendra1361s@gmail.com/a1_FlightFare_Dataset.xlsx\").show()\n"
   ]
  },
  {
   "cell_type": "code",
   "execution_count": 0,
   "metadata": {
    "application/vnd.databricks.v1+cell": {
     "cellMetadata": {
      "byteLimit": 2048000,
      "rowLimit": 10000
     },
     "inputWidgets": {},
     "nuid": "eb41f47c-c873-404e-ad37-0737626d6fab",
     "showTitle": false,
     "tableResultSettingsMap": {},
     "title": ""
    }
   },
   "outputs": [
    {
     "output_type": "display_data",
     "data": {
      "application/vnd.databricks.v1+bamboolib_hint": "{\"pd.DataFrames\": [], \"version\": \"0.0.1\"}",
      "text/plain": []
     },
     "metadata": {},
     "output_type": "display_data"
    },
    {
     "output_type": "display_data",
     "data": {
      "text/html": [
       "<div>\n",
       "<style scoped>\n",
       "    .dataframe tbody tr th:only-of-type {\n",
       "        vertical-align: middle;\n",
       "    }\n",
       "\n",
       "    .dataframe tbody tr th {\n",
       "        vertical-align: top;\n",
       "    }\n",
       "\n",
       "    .dataframe thead th {\n",
       "        text-align: right;\n",
       "    }\n",
       "</style>\n",
       "<table border=\"1\" class=\"dataframe\">\n",
       "  <thead>\n",
       "    <tr style=\"text-align: right;\">\n",
       "      <th></th>\n",
       "      <th>Airline</th>\n",
       "      <th>Date_of_Journey</th>\n",
       "      <th>Source</th>\n",
       "      <th>Destination</th>\n",
       "      <th>Route</th>\n",
       "      <th>Dep_Time</th>\n",
       "      <th>Arrival_Time</th>\n",
       "      <th>Duration</th>\n",
       "      <th>Total_Stops</th>\n",
       "      <th>Additional_Info</th>\n",
       "      <th>Price</th>\n",
       "    </tr>\n",
       "  </thead>\n",
       "  <tbody>\n",
       "    <tr>\n",
       "      <th>0</th>\n",
       "      <td>IndiGo</td>\n",
       "      <td>24/03/2019</td>\n",
       "      <td>Banglore</td>\n",
       "      <td>New Delhi</td>\n",
       "      <td>BLR → DEL</td>\n",
       "      <td>22:20</td>\n",
       "      <td>01:10 22 Mar</td>\n",
       "      <td>2h 50m</td>\n",
       "      <td>non-stop</td>\n",
       "      <td>No info</td>\n",
       "      <td>3897.0</td>\n",
       "    </tr>\n",
       "    <tr>\n",
       "      <th>1</th>\n",
       "      <td>Air India</td>\n",
       "      <td>1/05/2019</td>\n",
       "      <td>Kolkata</td>\n",
       "      <td>Banglore</td>\n",
       "      <td>CCU → IXR → BBI → BLR</td>\n",
       "      <td>05:50</td>\n",
       "      <td>13:15</td>\n",
       "      <td>7h 25m</td>\n",
       "      <td>2 stops</td>\n",
       "      <td>No info</td>\n",
       "      <td>7662.0</td>\n",
       "    </tr>\n",
       "    <tr>\n",
       "      <th>2</th>\n",
       "      <td>Jet Airways</td>\n",
       "      <td>9/06/2019</td>\n",
       "      <td>Delhi</td>\n",
       "      <td>Cochin</td>\n",
       "      <td>DEL → LKO → BOM → COK</td>\n",
       "      <td>09:25</td>\n",
       "      <td>04:25 10 Jun</td>\n",
       "      <td>19h</td>\n",
       "      <td>2 stops</td>\n",
       "      <td>No info</td>\n",
       "      <td>13882.0</td>\n",
       "    </tr>\n",
       "    <tr>\n",
       "      <th>3</th>\n",
       "      <td>IndiGo</td>\n",
       "      <td>12/05/2019</td>\n",
       "      <td>Kolkata</td>\n",
       "      <td>Banglore</td>\n",
       "      <td>CCU → NAG → BLR</td>\n",
       "      <td>18:05</td>\n",
       "      <td>23:30</td>\n",
       "      <td>5h 25m</td>\n",
       "      <td>1 stop</td>\n",
       "      <td>No info</td>\n",
       "      <td>6218.0</td>\n",
       "    </tr>\n",
       "    <tr>\n",
       "      <th>4</th>\n",
       "      <td>IndiGo</td>\n",
       "      <td>01/03/2019</td>\n",
       "      <td>Banglore</td>\n",
       "      <td>New Delhi</td>\n",
       "      <td>BLR → NAG → DEL</td>\n",
       "      <td>16:50</td>\n",
       "      <td>21:35</td>\n",
       "      <td>4h 45m</td>\n",
       "      <td>1 stop</td>\n",
       "      <td>No info</td>\n",
       "      <td>13302.0</td>\n",
       "    </tr>\n",
       "  </tbody>\n",
       "</table>\n",
       "</div>"
      ]
     },
     "metadata": {
      "application/vnd.databricks.v1+output": {
       "addedWidgets": {},
       "arguments": {},
       "data": "<div>\n<style scoped>\n    .dataframe tbody tr th:only-of-type {\n        vertical-align: middle;\n    }\n\n    .dataframe tbody tr th {\n        vertical-align: top;\n    }\n\n    .dataframe thead th {\n        text-align: right;\n    }\n</style>\n<table border=\"1\" class=\"dataframe\">\n  <thead>\n    <tr style=\"text-align: right;\">\n      <th></th>\n      <th>Airline</th>\n      <th>Date_of_Journey</th>\n      <th>Source</th>\n      <th>Destination</th>\n      <th>Route</th>\n      <th>Dep_Time</th>\n      <th>Arrival_Time</th>\n      <th>Duration</th>\n      <th>Total_Stops</th>\n      <th>Additional_Info</th>\n      <th>Price</th>\n    </tr>\n  </thead>\n  <tbody>\n    <tr>\n      <th>0</th>\n      <td>IndiGo</td>\n      <td>24/03/2019</td>\n      <td>Banglore</td>\n      <td>New Delhi</td>\n      <td>BLR → DEL</td>\n      <td>22:20</td>\n      <td>01:10 22 Mar</td>\n      <td>2h 50m</td>\n      <td>non-stop</td>\n      <td>No info</td>\n      <td>3897.0</td>\n    </tr>\n    <tr>\n      <th>1</th>\n      <td>Air India</td>\n      <td>1/05/2019</td>\n      <td>Kolkata</td>\n      <td>Banglore</td>\n      <td>CCU → IXR → BBI → BLR</td>\n      <td>05:50</td>\n      <td>13:15</td>\n      <td>7h 25m</td>\n      <td>2 stops</td>\n      <td>No info</td>\n      <td>7662.0</td>\n    </tr>\n    <tr>\n      <th>2</th>\n      <td>Jet Airways</td>\n      <td>9/06/2019</td>\n      <td>Delhi</td>\n      <td>Cochin</td>\n      <td>DEL → LKO → BOM → COK</td>\n      <td>09:25</td>\n      <td>04:25 10 Jun</td>\n      <td>19h</td>\n      <td>2 stops</td>\n      <td>No info</td>\n      <td>13882.0</td>\n    </tr>\n    <tr>\n      <th>3</th>\n      <td>IndiGo</td>\n      <td>12/05/2019</td>\n      <td>Kolkata</td>\n      <td>Banglore</td>\n      <td>CCU → NAG → BLR</td>\n      <td>18:05</td>\n      <td>23:30</td>\n      <td>5h 25m</td>\n      <td>1 stop</td>\n      <td>No info</td>\n      <td>6218.0</td>\n    </tr>\n    <tr>\n      <th>4</th>\n      <td>IndiGo</td>\n      <td>01/03/2019</td>\n      <td>Banglore</td>\n      <td>New Delhi</td>\n      <td>BLR → NAG → DEL</td>\n      <td>16:50</td>\n      <td>21:35</td>\n      <td>4h 45m</td>\n      <td>1 stop</td>\n      <td>No info</td>\n      <td>13302.0</td>\n    </tr>\n  </tbody>\n</table>\n</div>",
       "datasetInfos": [],
       "metadata": {},
       "removedWidgets": [],
       "textData": null,
       "type": "htmlSandbox"
      }
     },
     "output_type": "display_data"
    }
   ],
   "source": [
    "import pandas as pd\n",
    "# Local file path\n",
    "local_path = \"/tmp/a1_FlightFare_Dataset.xlsx\"\n",
    "dataset = pd.read_excel(local_path)\n",
    "pd.set_option('display.max_columns', None)\n",
    "\n",
    "dataset.head()"
   ]
  },
  {
   "cell_type": "code",
   "execution_count": 0,
   "metadata": {
    "application/vnd.databricks.v1+cell": {
     "cellMetadata": {
      "byteLimit": 2048000,
      "rowLimit": 10000
     },
     "inputWidgets": {},
     "nuid": "a4318671-fff3-450f-a022-26d181ef0e66",
     "showTitle": false,
     "tableResultSettingsMap": {},
     "title": ""
    }
   },
   "outputs": [
    {
     "output_type": "stream",
     "name": "stdout",
     "output_type": "stream",
     "text": [
      "<class 'pandas.core.frame.DataFrame'>\nRangeIndex: 10001 entries, 0 to 10000\nData columns (total 11 columns):\n #   Column           Non-Null Count  Dtype  \n---  ------           --------------  -----  \n 0   Airline          10001 non-null  object \n 1   Date_of_Journey  10001 non-null  object \n 2   Source           10001 non-null  object \n 3   Destination      10001 non-null  object \n 4   Route            10000 non-null  object \n 5   Dep_Time         10001 non-null  object \n 6   Arrival_Time     10001 non-null  object \n 7   Duration         10001 non-null  object \n 8   Total_Stops      10000 non-null  object \n 9   Additional_Info  10001 non-null  object \n 10  Price            10001 non-null  float64\ndtypes: float64(1), object(10)\nmemory usage: 859.6+ KB\n"
     ]
    }
   ],
   "source": [
    "dataset.info()"
   ]
  },
  {
   "cell_type": "code",
   "execution_count": 0,
   "metadata": {
    "application/vnd.databricks.v1+cell": {
     "cellMetadata": {
      "byteLimit": 2048000,
      "rowLimit": 10000
     },
     "inputWidgets": {},
     "nuid": "5c37b868-44d9-41f3-9c87-d073d9840941",
     "showTitle": false,
     "tableResultSettingsMap": {},
     "title": ""
    }
   },
   "outputs": [
    {
     "output_type": "stream",
     "name": "stdout",
     "output_type": "stream",
     "text": [
      "Out[6]: Airline            0\nDate_of_Journey    0\nSource             0\nDestination        0\nRoute              0\nDep_Time           0\nArrival_Time       0\nDuration           0\nTotal_Stops        0\nAdditional_Info    0\nPrice              0\ndtype: int64"
     ]
    }
   ],
   "source": [
    "dataset.dropna(inplace=True)\n",
    "dataset.isnull().sum()\n"
   ]
  },
  {
   "cell_type": "code",
   "execution_count": 0,
   "metadata": {
    "application/vnd.databricks.v1+cell": {
     "cellMetadata": {
      "byteLimit": 2048000,
      "rowLimit": 10000
     },
     "inputWidgets": {},
     "nuid": "d862a28c-dbab-4cd5-91cb-336f1636ccbe",
     "showTitle": false,
     "tableResultSettingsMap": {},
     "title": ""
    }
   },
   "outputs": [
    {
     "output_type": "stream",
     "name": "stdout",
     "output_type": "stream",
     "text": [
      "Out[7]: No info                         7824\nIn-flight meal not included     1844\nNo check-in baggage included     299\n1 Long layover                    19\nChange airports                    6\nNo Info                            3\nBusiness class                     3\n1 Short layover                    1\nRed-eye flight                     1\nName: Additional_Info, dtype: int64"
     ]
    }
   ],
   "source": [
    "dataset[\"journey_day\"] = pd.to_datetime(dataset.Date_of_Journey,format='%d/%m/%Y').dt.day\n",
    "dataset[\"journey_month\"] = pd.to_datetime(dataset.Date_of_Journey,format='%d/%m/%Y').dt.month\n",
    "dataset[\"Additional_Info\"].value_counts()"
   ]
  },
  {
   "cell_type": "code",
   "execution_count": 0,
   "metadata": {
    "application/vnd.databricks.v1+cell": {
     "cellMetadata": {
      "byteLimit": 2048000,
      "rowLimit": 10000
     },
     "inputWidgets": {},
     "nuid": "731dfbad-7606-45d8-8d06-a60b16ab2025",
     "showTitle": false,
     "tableResultSettingsMap": {},
     "title": ""
    }
   },
   "outputs": [
    {
     "output_type": "display_data",
     "data": {
      "text/html": [
       "<div>\n",
       "<style scoped>\n",
       "    .dataframe tbody tr th:only-of-type {\n",
       "        vertical-align: middle;\n",
       "    }\n",
       "\n",
       "    .dataframe tbody tr th {\n",
       "        vertical-align: top;\n",
       "    }\n",
       "\n",
       "    .dataframe thead th {\n",
       "        text-align: right;\n",
       "    }\n",
       "</style>\n",
       "<table border=\"1\" class=\"dataframe\">\n",
       "  <thead>\n",
       "    <tr style=\"text-align: right;\">\n",
       "      <th></th>\n",
       "      <th>Airline</th>\n",
       "      <th>Source</th>\n",
       "      <th>Destination</th>\n",
       "      <th>Dep_Time</th>\n",
       "      <th>Arrival_Time</th>\n",
       "      <th>Duration</th>\n",
       "      <th>Total_Stops</th>\n",
       "      <th>Price</th>\n",
       "      <th>journey_day</th>\n",
       "      <th>journey_month</th>\n",
       "    </tr>\n",
       "  </thead>\n",
       "  <tbody>\n",
       "    <tr>\n",
       "      <th>0</th>\n",
       "      <td>IndiGo</td>\n",
       "      <td>Banglore</td>\n",
       "      <td>New Delhi</td>\n",
       "      <td>22:20</td>\n",
       "      <td>01:10 22 Mar</td>\n",
       "      <td>2h 50m</td>\n",
       "      <td>non-stop</td>\n",
       "      <td>3897.0</td>\n",
       "      <td>24</td>\n",
       "      <td>3</td>\n",
       "    </tr>\n",
       "    <tr>\n",
       "      <th>1</th>\n",
       "      <td>Air India</td>\n",
       "      <td>Kolkata</td>\n",
       "      <td>Banglore</td>\n",
       "      <td>05:50</td>\n",
       "      <td>13:15</td>\n",
       "      <td>7h 25m</td>\n",
       "      <td>2 stops</td>\n",
       "      <td>7662.0</td>\n",
       "      <td>1</td>\n",
       "      <td>5</td>\n",
       "    </tr>\n",
       "    <tr>\n",
       "      <th>2</th>\n",
       "      <td>Jet Airways</td>\n",
       "      <td>Delhi</td>\n",
       "      <td>Cochin</td>\n",
       "      <td>09:25</td>\n",
       "      <td>04:25 10 Jun</td>\n",
       "      <td>19h</td>\n",
       "      <td>2 stops</td>\n",
       "      <td>13882.0</td>\n",
       "      <td>9</td>\n",
       "      <td>6</td>\n",
       "    </tr>\n",
       "    <tr>\n",
       "      <th>3</th>\n",
       "      <td>IndiGo</td>\n",
       "      <td>Kolkata</td>\n",
       "      <td>Banglore</td>\n",
       "      <td>18:05</td>\n",
       "      <td>23:30</td>\n",
       "      <td>5h 25m</td>\n",
       "      <td>1 stop</td>\n",
       "      <td>6218.0</td>\n",
       "      <td>12</td>\n",
       "      <td>5</td>\n",
       "    </tr>\n",
       "    <tr>\n",
       "      <th>4</th>\n",
       "      <td>IndiGo</td>\n",
       "      <td>Banglore</td>\n",
       "      <td>New Delhi</td>\n",
       "      <td>16:50</td>\n",
       "      <td>21:35</td>\n",
       "      <td>4h 45m</td>\n",
       "      <td>1 stop</td>\n",
       "      <td>13302.0</td>\n",
       "      <td>1</td>\n",
       "      <td>3</td>\n",
       "    </tr>\n",
       "  </tbody>\n",
       "</table>\n",
       "</div>"
      ]
     },
     "metadata": {
      "application/vnd.databricks.v1+output": {
       "addedWidgets": {},
       "arguments": {},
       "data": "<div>\n<style scoped>\n    .dataframe tbody tr th:only-of-type {\n        vertical-align: middle;\n    }\n\n    .dataframe tbody tr th {\n        vertical-align: top;\n    }\n\n    .dataframe thead th {\n        text-align: right;\n    }\n</style>\n<table border=\"1\" class=\"dataframe\">\n  <thead>\n    <tr style=\"text-align: right;\">\n      <th></th>\n      <th>Airline</th>\n      <th>Source</th>\n      <th>Destination</th>\n      <th>Dep_Time</th>\n      <th>Arrival_Time</th>\n      <th>Duration</th>\n      <th>Total_Stops</th>\n      <th>Price</th>\n      <th>journey_day</th>\n      <th>journey_month</th>\n    </tr>\n  </thead>\n  <tbody>\n    <tr>\n      <th>0</th>\n      <td>IndiGo</td>\n      <td>Banglore</td>\n      <td>New Delhi</td>\n      <td>22:20</td>\n      <td>01:10 22 Mar</td>\n      <td>2h 50m</td>\n      <td>non-stop</td>\n      <td>3897.0</td>\n      <td>24</td>\n      <td>3</td>\n    </tr>\n    <tr>\n      <th>1</th>\n      <td>Air India</td>\n      <td>Kolkata</td>\n      <td>Banglore</td>\n      <td>05:50</td>\n      <td>13:15</td>\n      <td>7h 25m</td>\n      <td>2 stops</td>\n      <td>7662.0</td>\n      <td>1</td>\n      <td>5</td>\n    </tr>\n    <tr>\n      <th>2</th>\n      <td>Jet Airways</td>\n      <td>Delhi</td>\n      <td>Cochin</td>\n      <td>09:25</td>\n      <td>04:25 10 Jun</td>\n      <td>19h</td>\n      <td>2 stops</td>\n      <td>13882.0</td>\n      <td>9</td>\n      <td>6</td>\n    </tr>\n    <tr>\n      <th>3</th>\n      <td>IndiGo</td>\n      <td>Kolkata</td>\n      <td>Banglore</td>\n      <td>18:05</td>\n      <td>23:30</td>\n      <td>5h 25m</td>\n      <td>1 stop</td>\n      <td>6218.0</td>\n      <td>12</td>\n      <td>5</td>\n    </tr>\n    <tr>\n      <th>4</th>\n      <td>IndiGo</td>\n      <td>Banglore</td>\n      <td>New Delhi</td>\n      <td>16:50</td>\n      <td>21:35</td>\n      <td>4h 45m</td>\n      <td>1 stop</td>\n      <td>13302.0</td>\n      <td>1</td>\n      <td>3</td>\n    </tr>\n  </tbody>\n</table>\n</div>",
       "datasetInfos": [],
       "metadata": {},
       "removedWidgets": [],
       "textData": null,
       "type": "htmlSandbox"
      }
     },
     "output_type": "display_data"
    }
   ],
   "source": [
    "#droping column of no further use\n",
    "dataset.drop([\"Date_of_Journey\",\"Route\",\"Additional_Info\"],axis = 1,inplace = True)\n",
    "dataset.head()"
   ]
  },
  {
   "cell_type": "code",
   "execution_count": 0,
   "metadata": {
    "application/vnd.databricks.v1+cell": {
     "cellMetadata": {
      "byteLimit": 2048000,
      "rowLimit": 10000
     },
     "inputWidgets": {},
     "nuid": "c883642d-dda0-4335-bcce-f811a7b185b5",
     "showTitle": false,
     "tableResultSettingsMap": {},
     "title": ""
    }
   },
   "outputs": [
    {
     "output_type": "display_data",
     "data": {
      "text/html": [
       "<div>\n",
       "<style scoped>\n",
       "    .dataframe tbody tr th:only-of-type {\n",
       "        vertical-align: middle;\n",
       "    }\n",
       "\n",
       "    .dataframe tbody tr th {\n",
       "        vertical-align: top;\n",
       "    }\n",
       "\n",
       "    .dataframe thead th {\n",
       "        text-align: right;\n",
       "    }\n",
       "</style>\n",
       "<table border=\"1\" class=\"dataframe\">\n",
       "  <thead>\n",
       "    <tr style=\"text-align: right;\">\n",
       "      <th></th>\n",
       "      <th>Airline</th>\n",
       "      <th>Source</th>\n",
       "      <th>Destination</th>\n",
       "      <th>Dep_Time</th>\n",
       "      <th>Arrival_Time</th>\n",
       "      <th>Duration</th>\n",
       "      <th>Total_Stops</th>\n",
       "      <th>Price</th>\n",
       "      <th>journey_day</th>\n",
       "      <th>journey_month</th>\n",
       "    </tr>\n",
       "  </thead>\n",
       "  <tbody>\n",
       "    <tr>\n",
       "      <th>0</th>\n",
       "      <td>IndiGo</td>\n",
       "      <td>Banglore</td>\n",
       "      <td>New Delhi</td>\n",
       "      <td>22:20</td>\n",
       "      <td>01:10 22 Mar</td>\n",
       "      <td>2h 50m</td>\n",
       "      <td>non-stop</td>\n",
       "      <td>3897.0</td>\n",
       "      <td>24</td>\n",
       "      <td>3</td>\n",
       "    </tr>\n",
       "    <tr>\n",
       "      <th>1</th>\n",
       "      <td>Air India</td>\n",
       "      <td>Kolkata</td>\n",
       "      <td>Banglore</td>\n",
       "      <td>05:50</td>\n",
       "      <td>13:15</td>\n",
       "      <td>7h 25m</td>\n",
       "      <td>2 stops</td>\n",
       "      <td>7662.0</td>\n",
       "      <td>1</td>\n",
       "      <td>5</td>\n",
       "    </tr>\n",
       "    <tr>\n",
       "      <th>2</th>\n",
       "      <td>Jet Airways</td>\n",
       "      <td>Delhi</td>\n",
       "      <td>Cochin</td>\n",
       "      <td>09:25</td>\n",
       "      <td>04:25 10 Jun</td>\n",
       "      <td>19h</td>\n",
       "      <td>2 stops</td>\n",
       "      <td>13882.0</td>\n",
       "      <td>9</td>\n",
       "      <td>6</td>\n",
       "    </tr>\n",
       "    <tr>\n",
       "      <th>3</th>\n",
       "      <td>IndiGo</td>\n",
       "      <td>Kolkata</td>\n",
       "      <td>Banglore</td>\n",
       "      <td>18:05</td>\n",
       "      <td>23:30</td>\n",
       "      <td>5h 25m</td>\n",
       "      <td>1 stop</td>\n",
       "      <td>6218.0</td>\n",
       "      <td>12</td>\n",
       "      <td>5</td>\n",
       "    </tr>\n",
       "    <tr>\n",
       "      <th>4</th>\n",
       "      <td>IndiGo</td>\n",
       "      <td>Banglore</td>\n",
       "      <td>New Delhi</td>\n",
       "      <td>16:50</td>\n",
       "      <td>21:35</td>\n",
       "      <td>4h 45m</td>\n",
       "      <td>1 stop</td>\n",
       "      <td>13302.0</td>\n",
       "      <td>1</td>\n",
       "      <td>3</td>\n",
       "    </tr>\n",
       "  </tbody>\n",
       "</table>\n",
       "</div>"
      ]
     },
     "metadata": {
      "application/vnd.databricks.v1+output": {
       "addedWidgets": {},
       "arguments": {},
       "data": "<div>\n<style scoped>\n    .dataframe tbody tr th:only-of-type {\n        vertical-align: middle;\n    }\n\n    .dataframe tbody tr th {\n        vertical-align: top;\n    }\n\n    .dataframe thead th {\n        text-align: right;\n    }\n</style>\n<table border=\"1\" class=\"dataframe\">\n  <thead>\n    <tr style=\"text-align: right;\">\n      <th></th>\n      <th>Airline</th>\n      <th>Source</th>\n      <th>Destination</th>\n      <th>Dep_Time</th>\n      <th>Arrival_Time</th>\n      <th>Duration</th>\n      <th>Total_Stops</th>\n      <th>Price</th>\n      <th>journey_day</th>\n      <th>journey_month</th>\n    </tr>\n  </thead>\n  <tbody>\n    <tr>\n      <th>0</th>\n      <td>IndiGo</td>\n      <td>Banglore</td>\n      <td>New Delhi</td>\n      <td>22:20</td>\n      <td>01:10 22 Mar</td>\n      <td>2h 50m</td>\n      <td>non-stop</td>\n      <td>3897.0</td>\n      <td>24</td>\n      <td>3</td>\n    </tr>\n    <tr>\n      <th>1</th>\n      <td>Air India</td>\n      <td>Kolkata</td>\n      <td>Banglore</td>\n      <td>05:50</td>\n      <td>13:15</td>\n      <td>7h 25m</td>\n      <td>2 stops</td>\n      <td>7662.0</td>\n      <td>1</td>\n      <td>5</td>\n    </tr>\n    <tr>\n      <th>2</th>\n      <td>Jet Airways</td>\n      <td>Delhi</td>\n      <td>Cochin</td>\n      <td>09:25</td>\n      <td>04:25 10 Jun</td>\n      <td>19h</td>\n      <td>2 stops</td>\n      <td>13882.0</td>\n      <td>9</td>\n      <td>6</td>\n    </tr>\n    <tr>\n      <th>3</th>\n      <td>IndiGo</td>\n      <td>Kolkata</td>\n      <td>Banglore</td>\n      <td>18:05</td>\n      <td>23:30</td>\n      <td>5h 25m</td>\n      <td>1 stop</td>\n      <td>6218.0</td>\n      <td>12</td>\n      <td>5</td>\n    </tr>\n    <tr>\n      <th>4</th>\n      <td>IndiGo</td>\n      <td>Banglore</td>\n      <td>New Delhi</td>\n      <td>16:50</td>\n      <td>21:35</td>\n      <td>4h 45m</td>\n      <td>1 stop</td>\n      <td>13302.0</td>\n      <td>1</td>\n      <td>3</td>\n    </tr>\n  </tbody>\n</table>\n</div>",
       "datasetInfos": [],
       "metadata": {},
       "removedWidgets": [],
       "textData": null,
       "type": "htmlSandbox"
      }
     },
     "output_type": "display_data"
    }
   ],
   "source": [
    "dataset.head()"
   ]
  },
  {
   "cell_type": "code",
   "execution_count": 0,
   "metadata": {
    "application/vnd.databricks.v1+cell": {
     "cellMetadata": {
      "byteLimit": 2048000,
      "rowLimit": 10000
     },
     "inputWidgets": {},
     "nuid": "0632b51d-0b94-413f-b0ff-a08795756fa7",
     "showTitle": false,
     "tableResultSettingsMap": {},
     "title": ""
    }
   },
   "outputs": [
    {
     "output_type": "display_data",
     "data": {
      "text/html": [
       "<div>\n",
       "<style scoped>\n",
       "    .dataframe tbody tr th:only-of-type {\n",
       "        vertical-align: middle;\n",
       "    }\n",
       "\n",
       "    .dataframe tbody tr th {\n",
       "        vertical-align: top;\n",
       "    }\n",
       "\n",
       "    .dataframe thead th {\n",
       "        text-align: right;\n",
       "    }\n",
       "</style>\n",
       "<table border=\"1\" class=\"dataframe\">\n",
       "  <thead>\n",
       "    <tr style=\"text-align: right;\">\n",
       "      <th></th>\n",
       "      <th>Airline</th>\n",
       "      <th>Source</th>\n",
       "      <th>Destination</th>\n",
       "      <th>Dep_Time</th>\n",
       "      <th>Arrival_Time</th>\n",
       "      <th>Duration</th>\n",
       "      <th>Total_Stops</th>\n",
       "      <th>Price</th>\n",
       "      <th>journey_day</th>\n",
       "      <th>journey_month</th>\n",
       "    </tr>\n",
       "  </thead>\n",
       "  <tbody>\n",
       "    <tr>\n",
       "      <th>0</th>\n",
       "      <td>IndiGo</td>\n",
       "      <td>Banglore</td>\n",
       "      <td>New Delhi</td>\n",
       "      <td>22:20</td>\n",
       "      <td>01:10 22 Mar</td>\n",
       "      <td>2h 50m</td>\n",
       "      <td>0</td>\n",
       "      <td>3897.0</td>\n",
       "      <td>24</td>\n",
       "      <td>3</td>\n",
       "    </tr>\n",
       "    <tr>\n",
       "      <th>1</th>\n",
       "      <td>Air India</td>\n",
       "      <td>Kolkata</td>\n",
       "      <td>Banglore</td>\n",
       "      <td>05:50</td>\n",
       "      <td>13:15</td>\n",
       "      <td>7h 25m</td>\n",
       "      <td>2</td>\n",
       "      <td>7662.0</td>\n",
       "      <td>1</td>\n",
       "      <td>5</td>\n",
       "    </tr>\n",
       "    <tr>\n",
       "      <th>2</th>\n",
       "      <td>Jet Airways</td>\n",
       "      <td>Delhi</td>\n",
       "      <td>Cochin</td>\n",
       "      <td>09:25</td>\n",
       "      <td>04:25 10 Jun</td>\n",
       "      <td>19h</td>\n",
       "      <td>2</td>\n",
       "      <td>13882.0</td>\n",
       "      <td>9</td>\n",
       "      <td>6</td>\n",
       "    </tr>\n",
       "    <tr>\n",
       "      <th>3</th>\n",
       "      <td>IndiGo</td>\n",
       "      <td>Kolkata</td>\n",
       "      <td>Banglore</td>\n",
       "      <td>18:05</td>\n",
       "      <td>23:30</td>\n",
       "      <td>5h 25m</td>\n",
       "      <td>1</td>\n",
       "      <td>6218.0</td>\n",
       "      <td>12</td>\n",
       "      <td>5</td>\n",
       "    </tr>\n",
       "    <tr>\n",
       "      <th>4</th>\n",
       "      <td>IndiGo</td>\n",
       "      <td>Banglore</td>\n",
       "      <td>New Delhi</td>\n",
       "      <td>16:50</td>\n",
       "      <td>21:35</td>\n",
       "      <td>4h 45m</td>\n",
       "      <td>1</td>\n",
       "      <td>13302.0</td>\n",
       "      <td>1</td>\n",
       "      <td>3</td>\n",
       "    </tr>\n",
       "  </tbody>\n",
       "</table>\n",
       "</div>"
      ]
     },
     "metadata": {
      "application/vnd.databricks.v1+output": {
       "addedWidgets": {},
       "arguments": {},
       "data": "<div>\n<style scoped>\n    .dataframe tbody tr th:only-of-type {\n        vertical-align: middle;\n    }\n\n    .dataframe tbody tr th {\n        vertical-align: top;\n    }\n\n    .dataframe thead th {\n        text-align: right;\n    }\n</style>\n<table border=\"1\" class=\"dataframe\">\n  <thead>\n    <tr style=\"text-align: right;\">\n      <th></th>\n      <th>Airline</th>\n      <th>Source</th>\n      <th>Destination</th>\n      <th>Dep_Time</th>\n      <th>Arrival_Time</th>\n      <th>Duration</th>\n      <th>Total_Stops</th>\n      <th>Price</th>\n      <th>journey_day</th>\n      <th>journey_month</th>\n    </tr>\n  </thead>\n  <tbody>\n    <tr>\n      <th>0</th>\n      <td>IndiGo</td>\n      <td>Banglore</td>\n      <td>New Delhi</td>\n      <td>22:20</td>\n      <td>01:10 22 Mar</td>\n      <td>2h 50m</td>\n      <td>0</td>\n      <td>3897.0</td>\n      <td>24</td>\n      <td>3</td>\n    </tr>\n    <tr>\n      <th>1</th>\n      <td>Air India</td>\n      <td>Kolkata</td>\n      <td>Banglore</td>\n      <td>05:50</td>\n      <td>13:15</td>\n      <td>7h 25m</td>\n      <td>2</td>\n      <td>7662.0</td>\n      <td>1</td>\n      <td>5</td>\n    </tr>\n    <tr>\n      <th>2</th>\n      <td>Jet Airways</td>\n      <td>Delhi</td>\n      <td>Cochin</td>\n      <td>09:25</td>\n      <td>04:25 10 Jun</td>\n      <td>19h</td>\n      <td>2</td>\n      <td>13882.0</td>\n      <td>9</td>\n      <td>6</td>\n    </tr>\n    <tr>\n      <th>3</th>\n      <td>IndiGo</td>\n      <td>Kolkata</td>\n      <td>Banglore</td>\n      <td>18:05</td>\n      <td>23:30</td>\n      <td>5h 25m</td>\n      <td>1</td>\n      <td>6218.0</td>\n      <td>12</td>\n      <td>5</td>\n    </tr>\n    <tr>\n      <th>4</th>\n      <td>IndiGo</td>\n      <td>Banglore</td>\n      <td>New Delhi</td>\n      <td>16:50</td>\n      <td>21:35</td>\n      <td>4h 45m</td>\n      <td>1</td>\n      <td>13302.0</td>\n      <td>1</td>\n      <td>3</td>\n    </tr>\n  </tbody>\n</table>\n</div>",
       "datasetInfos": [],
       "metadata": {},
       "removedWidgets": [],
       "textData": null,
       "type": "htmlSandbox"
      }
     },
     "output_type": "display_data"
    }
   ],
   "source": [
    "# def helper(total_stops):\n",
    "#     if isinstance(total_stops, int):\n",
    "#         return total_stops\n",
    "#     if total_stops == 'non-stop':\n",
    "#         return 0\n",
    "#     else:\n",
    "#         return int(total_stops.split()[0])\n",
    "# dataset[\"Total_Stops\"] = dataset[\"Total_Stops\"].apply(helper)\n",
    "#found a simpler way \n",
    "dataset[\"Total_Stops\"].value_counts()\n",
    "dataset.replace({\"non-stop\": 0, \"1 stop\": 1, \"2 stops\": 2, \"3 stops\": 3, \"4 stops\": 4}, inplace = True)\n",
    "dataset.head()"
   ]
  },
  {
   "cell_type": "code",
   "execution_count": 0,
   "metadata": {
    "application/vnd.databricks.v1+cell": {
     "cellMetadata": {
      "byteLimit": 2048000,
      "rowLimit": 10000
     },
     "inputWidgets": {},
     "nuid": "d330e405-a64a-4455-8ba0-8a04d9cea65f",
     "showTitle": false,
     "tableResultSettingsMap": {},
     "title": ""
    }
   },
   "outputs": [
    {
     "output_type": "display_data",
     "data": {
      "text/html": [
       "<div>\n",
       "<style scoped>\n",
       "    .dataframe tbody tr th:only-of-type {\n",
       "        vertical-align: middle;\n",
       "    }\n",
       "\n",
       "    .dataframe tbody tr th {\n",
       "        vertical-align: top;\n",
       "    }\n",
       "\n",
       "    .dataframe thead th {\n",
       "        text-align: right;\n",
       "    }\n",
       "</style>\n",
       "<table border=\"1\" class=\"dataframe\">\n",
       "  <thead>\n",
       "    <tr style=\"text-align: right;\">\n",
       "      <th></th>\n",
       "      <th>Airline</th>\n",
       "      <th>Source</th>\n",
       "      <th>Destination</th>\n",
       "      <th>Duration</th>\n",
       "      <th>Total_Stops</th>\n",
       "      <th>Price</th>\n",
       "      <th>journey_day</th>\n",
       "      <th>journey_month</th>\n",
       "      <th>dep_hour</th>\n",
       "      <th>dep_min</th>\n",
       "      <th>arrival_hour</th>\n",
       "      <th>arrival_min</th>\n",
       "    </tr>\n",
       "  </thead>\n",
       "  <tbody>\n",
       "    <tr>\n",
       "      <th>0</th>\n",
       "      <td>IndiGo</td>\n",
       "      <td>Banglore</td>\n",
       "      <td>New Delhi</td>\n",
       "      <td>2h 50m</td>\n",
       "      <td>0</td>\n",
       "      <td>3897.0</td>\n",
       "      <td>24</td>\n",
       "      <td>3</td>\n",
       "      <td>22</td>\n",
       "      <td>20</td>\n",
       "      <td>1</td>\n",
       "      <td>10</td>\n",
       "    </tr>\n",
       "    <tr>\n",
       "      <th>1</th>\n",
       "      <td>Air India</td>\n",
       "      <td>Kolkata</td>\n",
       "      <td>Banglore</td>\n",
       "      <td>7h 25m</td>\n",
       "      <td>2</td>\n",
       "      <td>7662.0</td>\n",
       "      <td>1</td>\n",
       "      <td>5</td>\n",
       "      <td>5</td>\n",
       "      <td>50</td>\n",
       "      <td>13</td>\n",
       "      <td>15</td>\n",
       "    </tr>\n",
       "    <tr>\n",
       "      <th>2</th>\n",
       "      <td>Jet Airways</td>\n",
       "      <td>Delhi</td>\n",
       "      <td>Cochin</td>\n",
       "      <td>19h</td>\n",
       "      <td>2</td>\n",
       "      <td>13882.0</td>\n",
       "      <td>9</td>\n",
       "      <td>6</td>\n",
       "      <td>9</td>\n",
       "      <td>25</td>\n",
       "      <td>4</td>\n",
       "      <td>25</td>\n",
       "    </tr>\n",
       "    <tr>\n",
       "      <th>3</th>\n",
       "      <td>IndiGo</td>\n",
       "      <td>Kolkata</td>\n",
       "      <td>Banglore</td>\n",
       "      <td>5h 25m</td>\n",
       "      <td>1</td>\n",
       "      <td>6218.0</td>\n",
       "      <td>12</td>\n",
       "      <td>5</td>\n",
       "      <td>18</td>\n",
       "      <td>5</td>\n",
       "      <td>23</td>\n",
       "      <td>30</td>\n",
       "    </tr>\n",
       "    <tr>\n",
       "      <th>4</th>\n",
       "      <td>IndiGo</td>\n",
       "      <td>Banglore</td>\n",
       "      <td>New Delhi</td>\n",
       "      <td>4h 45m</td>\n",
       "      <td>1</td>\n",
       "      <td>13302.0</td>\n",
       "      <td>1</td>\n",
       "      <td>3</td>\n",
       "      <td>16</td>\n",
       "      <td>50</td>\n",
       "      <td>21</td>\n",
       "      <td>35</td>\n",
       "    </tr>\n",
       "  </tbody>\n",
       "</table>\n",
       "</div>"
      ]
     },
     "metadata": {
      "application/vnd.databricks.v1+output": {
       "addedWidgets": {},
       "arguments": {},
       "data": "<div>\n<style scoped>\n    .dataframe tbody tr th:only-of-type {\n        vertical-align: middle;\n    }\n\n    .dataframe tbody tr th {\n        vertical-align: top;\n    }\n\n    .dataframe thead th {\n        text-align: right;\n    }\n</style>\n<table border=\"1\" class=\"dataframe\">\n  <thead>\n    <tr style=\"text-align: right;\">\n      <th></th>\n      <th>Airline</th>\n      <th>Source</th>\n      <th>Destination</th>\n      <th>Duration</th>\n      <th>Total_Stops</th>\n      <th>Price</th>\n      <th>journey_day</th>\n      <th>journey_month</th>\n      <th>dep_hour</th>\n      <th>dep_min</th>\n      <th>arrival_hour</th>\n      <th>arrival_min</th>\n    </tr>\n  </thead>\n  <tbody>\n    <tr>\n      <th>0</th>\n      <td>IndiGo</td>\n      <td>Banglore</td>\n      <td>New Delhi</td>\n      <td>2h 50m</td>\n      <td>0</td>\n      <td>3897.0</td>\n      <td>24</td>\n      <td>3</td>\n      <td>22</td>\n      <td>20</td>\n      <td>1</td>\n      <td>10</td>\n    </tr>\n    <tr>\n      <th>1</th>\n      <td>Air India</td>\n      <td>Kolkata</td>\n      <td>Banglore</td>\n      <td>7h 25m</td>\n      <td>2</td>\n      <td>7662.0</td>\n      <td>1</td>\n      <td>5</td>\n      <td>5</td>\n      <td>50</td>\n      <td>13</td>\n      <td>15</td>\n    </tr>\n    <tr>\n      <th>2</th>\n      <td>Jet Airways</td>\n      <td>Delhi</td>\n      <td>Cochin</td>\n      <td>19h</td>\n      <td>2</td>\n      <td>13882.0</td>\n      <td>9</td>\n      <td>6</td>\n      <td>9</td>\n      <td>25</td>\n      <td>4</td>\n      <td>25</td>\n    </tr>\n    <tr>\n      <th>3</th>\n      <td>IndiGo</td>\n      <td>Kolkata</td>\n      <td>Banglore</td>\n      <td>5h 25m</td>\n      <td>1</td>\n      <td>6218.0</td>\n      <td>12</td>\n      <td>5</td>\n      <td>18</td>\n      <td>5</td>\n      <td>23</td>\n      <td>30</td>\n    </tr>\n    <tr>\n      <th>4</th>\n      <td>IndiGo</td>\n      <td>Banglore</td>\n      <td>New Delhi</td>\n      <td>4h 45m</td>\n      <td>1</td>\n      <td>13302.0</td>\n      <td>1</td>\n      <td>3</td>\n      <td>16</td>\n      <td>50</td>\n      <td>21</td>\n      <td>35</td>\n    </tr>\n  </tbody>\n</table>\n</div>",
       "datasetInfos": [],
       "metadata": {},
       "removedWidgets": [],
       "textData": null,
       "type": "htmlSandbox"
      }
     },
     "output_type": "display_data"
    }
   ],
   "source": [
    "#depature and arrival time\n",
    "dataset[\"dep_hour\"] = pd.to_datetime(dataset.Dep_Time).dt.hour\n",
    "dataset[\"dep_min\"] = pd.to_datetime(dataset.Dep_Time).dt.minute\n",
    "dataset[\"arrival_hour\"] = pd.to_datetime(dataset.Arrival_Time).dt.hour\n",
    "dataset[\"arrival_min\"] = pd.to_datetime(dataset.Arrival_Time).dt.minute\n",
    "dataset.drop(['Dep_Time','Arrival_Time'],axis= 1,inplace=True)\n",
    "dataset.head()"
   ]
  },
  {
   "cell_type": "code",
   "execution_count": 0,
   "metadata": {
    "application/vnd.databricks.v1+cell": {
     "cellMetadata": {
      "byteLimit": 2048000,
      "rowLimit": 10000
     },
     "inputWidgets": {},
     "nuid": "3c953139-bbf3-4a84-aaaa-ac7332511bf9",
     "showTitle": false,
     "tableResultSettingsMap": {},
     "title": ""
    }
   },
   "outputs": [
    {
     "output_type": "display_data",
     "data": {
      "text/html": [
       "<div>\n",
       "<style scoped>\n",
       "    .dataframe tbody tr th:only-of-type {\n",
       "        vertical-align: middle;\n",
       "    }\n",
       "\n",
       "    .dataframe tbody tr th {\n",
       "        vertical-align: top;\n",
       "    }\n",
       "\n",
       "    .dataframe thead th {\n",
       "        text-align: right;\n",
       "    }\n",
       "</style>\n",
       "<table border=\"1\" class=\"dataframe\">\n",
       "  <thead>\n",
       "    <tr style=\"text-align: right;\">\n",
       "      <th></th>\n",
       "      <th>Airline</th>\n",
       "      <th>Source</th>\n",
       "      <th>Destination</th>\n",
       "      <th>Total_Stops</th>\n",
       "      <th>Price</th>\n",
       "      <th>journey_day</th>\n",
       "      <th>journey_month</th>\n",
       "      <th>dep_hour</th>\n",
       "      <th>dep_min</th>\n",
       "      <th>arrival_hour</th>\n",
       "      <th>arrival_min</th>\n",
       "      <th>Duration_hours</th>\n",
       "      <th>Duration_mins</th>\n",
       "    </tr>\n",
       "  </thead>\n",
       "  <tbody>\n",
       "    <tr>\n",
       "      <th>0</th>\n",
       "      <td>IndiGo</td>\n",
       "      <td>Banglore</td>\n",
       "      <td>New Delhi</td>\n",
       "      <td>0</td>\n",
       "      <td>3897.0</td>\n",
       "      <td>24</td>\n",
       "      <td>3</td>\n",
       "      <td>22</td>\n",
       "      <td>20</td>\n",
       "      <td>1</td>\n",
       "      <td>10</td>\n",
       "      <td>2</td>\n",
       "      <td>50</td>\n",
       "    </tr>\n",
       "    <tr>\n",
       "      <th>1</th>\n",
       "      <td>Air India</td>\n",
       "      <td>Kolkata</td>\n",
       "      <td>Banglore</td>\n",
       "      <td>2</td>\n",
       "      <td>7662.0</td>\n",
       "      <td>1</td>\n",
       "      <td>5</td>\n",
       "      <td>5</td>\n",
       "      <td>50</td>\n",
       "      <td>13</td>\n",
       "      <td>15</td>\n",
       "      <td>7</td>\n",
       "      <td>25</td>\n",
       "    </tr>\n",
       "    <tr>\n",
       "      <th>2</th>\n",
       "      <td>Jet Airways</td>\n",
       "      <td>Delhi</td>\n",
       "      <td>Cochin</td>\n",
       "      <td>2</td>\n",
       "      <td>13882.0</td>\n",
       "      <td>9</td>\n",
       "      <td>6</td>\n",
       "      <td>9</td>\n",
       "      <td>25</td>\n",
       "      <td>4</td>\n",
       "      <td>25</td>\n",
       "      <td>19</td>\n",
       "      <td>0</td>\n",
       "    </tr>\n",
       "    <tr>\n",
       "      <th>3</th>\n",
       "      <td>IndiGo</td>\n",
       "      <td>Kolkata</td>\n",
       "      <td>Banglore</td>\n",
       "      <td>1</td>\n",
       "      <td>6218.0</td>\n",
       "      <td>12</td>\n",
       "      <td>5</td>\n",
       "      <td>18</td>\n",
       "      <td>5</td>\n",
       "      <td>23</td>\n",
       "      <td>30</td>\n",
       "      <td>5</td>\n",
       "      <td>25</td>\n",
       "    </tr>\n",
       "    <tr>\n",
       "      <th>4</th>\n",
       "      <td>IndiGo</td>\n",
       "      <td>Banglore</td>\n",
       "      <td>New Delhi</td>\n",
       "      <td>1</td>\n",
       "      <td>13302.0</td>\n",
       "      <td>1</td>\n",
       "      <td>3</td>\n",
       "      <td>16</td>\n",
       "      <td>50</td>\n",
       "      <td>21</td>\n",
       "      <td>35</td>\n",
       "      <td>4</td>\n",
       "      <td>45</td>\n",
       "    </tr>\n",
       "  </tbody>\n",
       "</table>\n",
       "</div>"
      ]
     },
     "metadata": {
      "application/vnd.databricks.v1+output": {
       "addedWidgets": {},
       "arguments": {},
       "data": "<div>\n<style scoped>\n    .dataframe tbody tr th:only-of-type {\n        vertical-align: middle;\n    }\n\n    .dataframe tbody tr th {\n        vertical-align: top;\n    }\n\n    .dataframe thead th {\n        text-align: right;\n    }\n</style>\n<table border=\"1\" class=\"dataframe\">\n  <thead>\n    <tr style=\"text-align: right;\">\n      <th></th>\n      <th>Airline</th>\n      <th>Source</th>\n      <th>Destination</th>\n      <th>Total_Stops</th>\n      <th>Price</th>\n      <th>journey_day</th>\n      <th>journey_month</th>\n      <th>dep_hour</th>\n      <th>dep_min</th>\n      <th>arrival_hour</th>\n      <th>arrival_min</th>\n      <th>Duration_hours</th>\n      <th>Duration_mins</th>\n    </tr>\n  </thead>\n  <tbody>\n    <tr>\n      <th>0</th>\n      <td>IndiGo</td>\n      <td>Banglore</td>\n      <td>New Delhi</td>\n      <td>0</td>\n      <td>3897.0</td>\n      <td>24</td>\n      <td>3</td>\n      <td>22</td>\n      <td>20</td>\n      <td>1</td>\n      <td>10</td>\n      <td>2</td>\n      <td>50</td>\n    </tr>\n    <tr>\n      <th>1</th>\n      <td>Air India</td>\n      <td>Kolkata</td>\n      <td>Banglore</td>\n      <td>2</td>\n      <td>7662.0</td>\n      <td>1</td>\n      <td>5</td>\n      <td>5</td>\n      <td>50</td>\n      <td>13</td>\n      <td>15</td>\n      <td>7</td>\n      <td>25</td>\n    </tr>\n    <tr>\n      <th>2</th>\n      <td>Jet Airways</td>\n      <td>Delhi</td>\n      <td>Cochin</td>\n      <td>2</td>\n      <td>13882.0</td>\n      <td>9</td>\n      <td>6</td>\n      <td>9</td>\n      <td>25</td>\n      <td>4</td>\n      <td>25</td>\n      <td>19</td>\n      <td>0</td>\n    </tr>\n    <tr>\n      <th>3</th>\n      <td>IndiGo</td>\n      <td>Kolkata</td>\n      <td>Banglore</td>\n      <td>1</td>\n      <td>6218.0</td>\n      <td>12</td>\n      <td>5</td>\n      <td>18</td>\n      <td>5</td>\n      <td>23</td>\n      <td>30</td>\n      <td>5</td>\n      <td>25</td>\n    </tr>\n    <tr>\n      <th>4</th>\n      <td>IndiGo</td>\n      <td>Banglore</td>\n      <td>New Delhi</td>\n      <td>1</td>\n      <td>13302.0</td>\n      <td>1</td>\n      <td>3</td>\n      <td>16</td>\n      <td>50</td>\n      <td>21</td>\n      <td>35</td>\n      <td>4</td>\n      <td>45</td>\n    </tr>\n  </tbody>\n</table>\n</div>",
       "datasetInfos": [],
       "metadata": {},
       "removedWidgets": [],
       "textData": null,
       "type": "htmlSandbox"
      }
     },
     "output_type": "display_data"
    }
   ],
   "source": [
    "#duration\n",
    "duration = list(dataset[\"Duration\"])\n",
    "for i in range(len(duration)):\n",
    "    if len(duration[i].split()) != 2:\n",
    "        if \"h\" in duration[i]:\n",
    "            duration[i] = duration[i].strip() + \" 0m\"\n",
    "        else:\n",
    "            duration[i] = \"0h \" + duration[i].strip()\n",
    "duration_hrs = []\n",
    "duration_mins = []\n",
    "for i in range(len(duration)):\n",
    "    duration_hrs.append(int(duration[i].split(sep = \"h\")[0]))\n",
    "    duration_mins.append(int(duration[i].split(sep = \"m\")[0].split()[-1]))\n",
    "dataset['Duration_hours'] = duration_hrs\n",
    "dataset['Duration_mins'] = duration_mins\n",
    "dataset.drop(['Duration'],axis=1,inplace=True)\n",
    "dataset.head()"
   ]
  },
  {
   "cell_type": "code",
   "execution_count": 0,
   "metadata": {
    "application/vnd.databricks.v1+cell": {
     "cellMetadata": {
      "byteLimit": 2048000,
      "rowLimit": 10000
     },
     "inputWidgets": {},
     "nuid": "5817a232-bc68-4c03-aafe-4039734b8185",
     "showTitle": false,
     "tableResultSettingsMap": {},
     "title": ""
    }
   },
   "outputs": [
    {
     "output_type": "stream",
     "name": "stdout",
     "output_type": "stream",
     "text": [
      "Out[13]: Jet Airways                          3598\nIndiGo                               1927\nAir India                            1633\nMultiple carriers                    1129\nSpiceJet                              769\nVistara                               447\nAir Asia                              296\nGoAir                                 179\nMultiple carriers Premium economy      13\nJet Airways Business                    5\nVistara Premium economy                 3\nTrujet                                  1\nName: Airline, dtype: int64"
     ]
    }
   ],
   "source": [
    "#airlines\n",
    "dataset[\"Airline\"].value_counts()"
   ]
  },
  {
   "cell_type": "code",
   "execution_count": 0,
   "metadata": {
    "application/vnd.databricks.v1+cell": {
     "cellMetadata": {
      "byteLimit": 2048000,
      "rowLimit": 10000
     },
     "inputWidgets": {},
     "nuid": "309116d7-5523-4bb0-adeb-2bd3a72baaf6",
     "showTitle": false,
     "tableResultSettingsMap": {},
     "title": ""
    }
   },
   "outputs": [
    {
     "output_type": "stream",
     "name": "stdout",
     "output_type": "stream",
     "text": [
      "Out[14]: Jet Airways          3598\nIndiGo               1927\nAir India            1632\nMultiple carriers    1129\nSpiceJet              769\nVistara               447\nAir Asia              296\nGoAir                 179\nOther                  22\nName: Airline, dtype: int64"
     ]
    }
   ],
   "source": [
    "#airline\n",
    "Airline = dataset[[\"Airline\"]].copy()\n",
    "Current_Airline_List = Airline['Airline']\n",
    "New_Airline_List = []\n",
    "\n",
    "for airline in Current_Airline_List:\n",
    "    if airline in ['Jet Airways', 'IndiGo', 'Air India', 'SpiceJet','Multiple carriers', 'GoAir', 'Vistara', 'Air Asia']:\n",
    "        New_Airline_List.append(airline)\n",
    "    else:\n",
    "        New_Airline_List.append('Other')\n",
    "Airline['Airline'] = pd.DataFrame(New_Airline_List)\n",
    "Airline['Airline'].value_counts()"
   ]
  },
  {
   "cell_type": "code",
   "execution_count": 0,
   "metadata": {
    "application/vnd.databricks.v1+cell": {
     "cellMetadata": {
      "byteLimit": 2048000,
      "rowLimit": 10000
     },
     "inputWidgets": {},
     "nuid": "124b6a2f-0624-4d52-99e6-3bf7c1a9d359",
     "showTitle": false,
     "tableResultSettingsMap": {},
     "title": ""
    }
   },
   "outputs": [
    {
     "output_type": "display_data",
     "data": {
      "text/html": [
       "<div>\n",
       "<style scoped>\n",
       "    .dataframe tbody tr th:only-of-type {\n",
       "        vertical-align: middle;\n",
       "    }\n",
       "\n",
       "    .dataframe tbody tr th {\n",
       "        vertical-align: top;\n",
       "    }\n",
       "\n",
       "    .dataframe thead th {\n",
       "        text-align: right;\n",
       "    }\n",
       "</style>\n",
       "<table border=\"1\" class=\"dataframe\">\n",
       "  <thead>\n",
       "    <tr style=\"text-align: right;\">\n",
       "      <th></th>\n",
       "      <th>Airline_Air Asia</th>\n",
       "      <th>Airline_Air India</th>\n",
       "      <th>Airline_GoAir</th>\n",
       "      <th>Airline_IndiGo</th>\n",
       "      <th>Airline_Jet Airways</th>\n",
       "      <th>Airline_Multiple carriers</th>\n",
       "      <th>Airline_Other</th>\n",
       "      <th>Airline_SpiceJet</th>\n",
       "      <th>Airline_Vistara</th>\n",
       "    </tr>\n",
       "  </thead>\n",
       "  <tbody>\n",
       "    <tr>\n",
       "      <th>0</th>\n",
       "      <td>0</td>\n",
       "      <td>0</td>\n",
       "      <td>0</td>\n",
       "      <td>1</td>\n",
       "      <td>0</td>\n",
       "      <td>0</td>\n",
       "      <td>0</td>\n",
       "      <td>0</td>\n",
       "      <td>0</td>\n",
       "    </tr>\n",
       "    <tr>\n",
       "      <th>1</th>\n",
       "      <td>0</td>\n",
       "      <td>1</td>\n",
       "      <td>0</td>\n",
       "      <td>0</td>\n",
       "      <td>0</td>\n",
       "      <td>0</td>\n",
       "      <td>0</td>\n",
       "      <td>0</td>\n",
       "      <td>0</td>\n",
       "    </tr>\n",
       "    <tr>\n",
       "      <th>2</th>\n",
       "      <td>0</td>\n",
       "      <td>0</td>\n",
       "      <td>0</td>\n",
       "      <td>0</td>\n",
       "      <td>1</td>\n",
       "      <td>0</td>\n",
       "      <td>0</td>\n",
       "      <td>0</td>\n",
       "      <td>0</td>\n",
       "    </tr>\n",
       "    <tr>\n",
       "      <th>3</th>\n",
       "      <td>0</td>\n",
       "      <td>0</td>\n",
       "      <td>0</td>\n",
       "      <td>1</td>\n",
       "      <td>0</td>\n",
       "      <td>0</td>\n",
       "      <td>0</td>\n",
       "      <td>0</td>\n",
       "      <td>0</td>\n",
       "    </tr>\n",
       "    <tr>\n",
       "      <th>4</th>\n",
       "      <td>0</td>\n",
       "      <td>0</td>\n",
       "      <td>0</td>\n",
       "      <td>1</td>\n",
       "      <td>0</td>\n",
       "      <td>0</td>\n",
       "      <td>0</td>\n",
       "      <td>0</td>\n",
       "      <td>0</td>\n",
       "    </tr>\n",
       "  </tbody>\n",
       "</table>\n",
       "</div>"
      ]
     },
     "metadata": {
      "application/vnd.databricks.v1+output": {
       "addedWidgets": {},
       "arguments": {},
       "data": "<div>\n<style scoped>\n    .dataframe tbody tr th:only-of-type {\n        vertical-align: middle;\n    }\n\n    .dataframe tbody tr th {\n        vertical-align: top;\n    }\n\n    .dataframe thead th {\n        text-align: right;\n    }\n</style>\n<table border=\"1\" class=\"dataframe\">\n  <thead>\n    <tr style=\"text-align: right;\">\n      <th></th>\n      <th>Airline_Air Asia</th>\n      <th>Airline_Air India</th>\n      <th>Airline_GoAir</th>\n      <th>Airline_IndiGo</th>\n      <th>Airline_Jet Airways</th>\n      <th>Airline_Multiple carriers</th>\n      <th>Airline_Other</th>\n      <th>Airline_SpiceJet</th>\n      <th>Airline_Vistara</th>\n    </tr>\n  </thead>\n  <tbody>\n    <tr>\n      <th>0</th>\n      <td>0</td>\n      <td>0</td>\n      <td>0</td>\n      <td>1</td>\n      <td>0</td>\n      <td>0</td>\n      <td>0</td>\n      <td>0</td>\n      <td>0</td>\n    </tr>\n    <tr>\n      <th>1</th>\n      <td>0</td>\n      <td>1</td>\n      <td>0</td>\n      <td>0</td>\n      <td>0</td>\n      <td>0</td>\n      <td>0</td>\n      <td>0</td>\n      <td>0</td>\n    </tr>\n    <tr>\n      <th>2</th>\n      <td>0</td>\n      <td>0</td>\n      <td>0</td>\n      <td>0</td>\n      <td>1</td>\n      <td>0</td>\n      <td>0</td>\n      <td>0</td>\n      <td>0</td>\n    </tr>\n    <tr>\n      <th>3</th>\n      <td>0</td>\n      <td>0</td>\n      <td>0</td>\n      <td>1</td>\n      <td>0</td>\n      <td>0</td>\n      <td>0</td>\n      <td>0</td>\n      <td>0</td>\n    </tr>\n    <tr>\n      <th>4</th>\n      <td>0</td>\n      <td>0</td>\n      <td>0</td>\n      <td>1</td>\n      <td>0</td>\n      <td>0</td>\n      <td>0</td>\n      <td>0</td>\n      <td>0</td>\n    </tr>\n  </tbody>\n</table>\n</div>",
       "datasetInfos": [],
       "metadata": {},
       "removedWidgets": [],
       "textData": null,
       "type": "htmlSandbox"
      }
     },
     "output_type": "display_data"
    }
   ],
   "source": [
    "Airline = pd.get_dummies(Airline)\n",
    "Airline.head()"
   ]
  },
  {
   "cell_type": "code",
   "execution_count": 0,
   "metadata": {
    "application/vnd.databricks.v1+cell": {
     "cellMetadata": {
      "byteLimit": 2048000,
      "rowLimit": 10000
     },
     "inputWidgets": {},
     "nuid": "93576781-0c9a-450f-86cf-ae1d4b520c03",
     "showTitle": false,
     "tableResultSettingsMap": {},
     "title": ""
    }
   },
   "outputs": [
    {
     "output_type": "stream",
     "name": "stdout",
     "output_type": "stream",
     "text": [
      "Out[16]: Delhi       4257\nKolkata     2678\nBanglore    2058\nMumbai       647\nChennai      360\nName: Source, dtype: int64"
     ]
    }
   ],
   "source": [
    "dataset[\"Source\"].value_counts()"
   ]
  },
  {
   "cell_type": "code",
   "execution_count": 0,
   "metadata": {
    "application/vnd.databricks.v1+cell": {
     "cellMetadata": {
      "byteLimit": 2048000,
      "rowLimit": 10000
     },
     "inputWidgets": {},
     "nuid": "019f73f9-681c-4f28-8ae4-63106086ee23",
     "showTitle": false,
     "tableResultSettingsMap": {},
     "title": ""
    }
   },
   "outputs": [
    {
     "output_type": "display_data",
     "data": {
      "text/html": [
       "<div>\n",
       "<style scoped>\n",
       "    .dataframe tbody tr th:only-of-type {\n",
       "        vertical-align: middle;\n",
       "    }\n",
       "\n",
       "    .dataframe tbody tr th {\n",
       "        vertical-align: top;\n",
       "    }\n",
       "\n",
       "    .dataframe thead th {\n",
       "        text-align: right;\n",
       "    }\n",
       "</style>\n",
       "<table border=\"1\" class=\"dataframe\">\n",
       "  <thead>\n",
       "    <tr style=\"text-align: right;\">\n",
       "      <th></th>\n",
       "      <th>Source_Banglore</th>\n",
       "      <th>Source_Chennai</th>\n",
       "      <th>Source_Delhi</th>\n",
       "      <th>Source_Kolkata</th>\n",
       "      <th>Source_Mumbai</th>\n",
       "    </tr>\n",
       "  </thead>\n",
       "  <tbody>\n",
       "    <tr>\n",
       "      <th>0</th>\n",
       "      <td>1</td>\n",
       "      <td>0</td>\n",
       "      <td>0</td>\n",
       "      <td>0</td>\n",
       "      <td>0</td>\n",
       "    </tr>\n",
       "    <tr>\n",
       "      <th>1</th>\n",
       "      <td>0</td>\n",
       "      <td>0</td>\n",
       "      <td>0</td>\n",
       "      <td>1</td>\n",
       "      <td>0</td>\n",
       "    </tr>\n",
       "    <tr>\n",
       "      <th>2</th>\n",
       "      <td>0</td>\n",
       "      <td>0</td>\n",
       "      <td>1</td>\n",
       "      <td>0</td>\n",
       "      <td>0</td>\n",
       "    </tr>\n",
       "    <tr>\n",
       "      <th>3</th>\n",
       "      <td>0</td>\n",
       "      <td>0</td>\n",
       "      <td>0</td>\n",
       "      <td>1</td>\n",
       "      <td>0</td>\n",
       "    </tr>\n",
       "    <tr>\n",
       "      <th>4</th>\n",
       "      <td>1</td>\n",
       "      <td>0</td>\n",
       "      <td>0</td>\n",
       "      <td>0</td>\n",
       "      <td>0</td>\n",
       "    </tr>\n",
       "  </tbody>\n",
       "</table>\n",
       "</div>"
      ]
     },
     "metadata": {
      "application/vnd.databricks.v1+output": {
       "addedWidgets": {},
       "arguments": {},
       "data": "<div>\n<style scoped>\n    .dataframe tbody tr th:only-of-type {\n        vertical-align: middle;\n    }\n\n    .dataframe tbody tr th {\n        vertical-align: top;\n    }\n\n    .dataframe thead th {\n        text-align: right;\n    }\n</style>\n<table border=\"1\" class=\"dataframe\">\n  <thead>\n    <tr style=\"text-align: right;\">\n      <th></th>\n      <th>Source_Banglore</th>\n      <th>Source_Chennai</th>\n      <th>Source_Delhi</th>\n      <th>Source_Kolkata</th>\n      <th>Source_Mumbai</th>\n    </tr>\n  </thead>\n  <tbody>\n    <tr>\n      <th>0</th>\n      <td>1</td>\n      <td>0</td>\n      <td>0</td>\n      <td>0</td>\n      <td>0</td>\n    </tr>\n    <tr>\n      <th>1</th>\n      <td>0</td>\n      <td>0</td>\n      <td>0</td>\n      <td>1</td>\n      <td>0</td>\n    </tr>\n    <tr>\n      <th>2</th>\n      <td>0</td>\n      <td>0</td>\n      <td>1</td>\n      <td>0</td>\n      <td>0</td>\n    </tr>\n    <tr>\n      <th>3</th>\n      <td>0</td>\n      <td>0</td>\n      <td>0</td>\n      <td>1</td>\n      <td>0</td>\n    </tr>\n    <tr>\n      <th>4</th>\n      <td>1</td>\n      <td>0</td>\n      <td>0</td>\n      <td>0</td>\n      <td>0</td>\n    </tr>\n  </tbody>\n</table>\n</div>",
       "datasetInfos": [],
       "metadata": {},
       "removedWidgets": [],
       "textData": null,
       "type": "htmlSandbox"
      }
     },
     "output_type": "display_data"
    }
   ],
   "source": [
    "#source\n",
    "Source = dataset[['Source']]\n",
    "Source = pd.get_dummies(Source)\n",
    "Source.head()"
   ]
  },
  {
   "cell_type": "code",
   "execution_count": 0,
   "metadata": {
    "application/vnd.databricks.v1+cell": {
     "cellMetadata": {
      "byteLimit": 2048000,
      "rowLimit": 10000
     },
     "inputWidgets": {},
     "nuid": "dce2f008-ff77-47e4-a9e7-cd04011c59ca",
     "showTitle": false,
     "tableResultSettingsMap": {},
     "title": ""
    }
   },
   "outputs": [
    {
     "output_type": "stream",
     "name": "stdout",
     "output_type": "stream",
     "text": [
      "Out[18]: Cochin       4257\nBanglore     2678\nDelhi        1191\nNew Delhi     867\nHyderabad     647\nKolkata       360\nName: Destination, dtype: int64"
     ]
    }
   ],
   "source": [
    "dataset[\"Destination\"].value_counts()"
   ]
  },
  {
   "cell_type": "code",
   "execution_count": 0,
   "metadata": {
    "application/vnd.databricks.v1+cell": {
     "cellMetadata": {
      "byteLimit": 2048000,
      "rowLimit": 10000
     },
     "inputWidgets": {},
     "nuid": "2804a215-2148-41e7-91a5-dd3c515d5173",
     "showTitle": false,
     "tableResultSettingsMap": {},
     "title": ""
    }
   },
   "outputs": [
    {
     "output_type": "display_data",
     "data": {
      "text/html": [
       "<div>\n",
       "<style scoped>\n",
       "    .dataframe tbody tr th:only-of-type {\n",
       "        vertical-align: middle;\n",
       "    }\n",
       "\n",
       "    .dataframe tbody tr th {\n",
       "        vertical-align: top;\n",
       "    }\n",
       "\n",
       "    .dataframe thead th {\n",
       "        text-align: right;\n",
       "    }\n",
       "</style>\n",
       "<table border=\"1\" class=\"dataframe\">\n",
       "  <thead>\n",
       "    <tr style=\"text-align: right;\">\n",
       "      <th></th>\n",
       "      <th>Destination_Banglore</th>\n",
       "      <th>Destination_Cochin</th>\n",
       "      <th>Destination_Delhi</th>\n",
       "      <th>Destination_Hyderabad</th>\n",
       "      <th>Destination_Kolkata</th>\n",
       "    </tr>\n",
       "  </thead>\n",
       "  <tbody>\n",
       "    <tr>\n",
       "      <th>0</th>\n",
       "      <td>0</td>\n",
       "      <td>0</td>\n",
       "      <td>1</td>\n",
       "      <td>0</td>\n",
       "      <td>0</td>\n",
       "    </tr>\n",
       "    <tr>\n",
       "      <th>1</th>\n",
       "      <td>1</td>\n",
       "      <td>0</td>\n",
       "      <td>0</td>\n",
       "      <td>0</td>\n",
       "      <td>0</td>\n",
       "    </tr>\n",
       "    <tr>\n",
       "      <th>2</th>\n",
       "      <td>0</td>\n",
       "      <td>1</td>\n",
       "      <td>0</td>\n",
       "      <td>0</td>\n",
       "      <td>0</td>\n",
       "    </tr>\n",
       "    <tr>\n",
       "      <th>3</th>\n",
       "      <td>1</td>\n",
       "      <td>0</td>\n",
       "      <td>0</td>\n",
       "      <td>0</td>\n",
       "      <td>0</td>\n",
       "    </tr>\n",
       "    <tr>\n",
       "      <th>4</th>\n",
       "      <td>0</td>\n",
       "      <td>0</td>\n",
       "      <td>1</td>\n",
       "      <td>0</td>\n",
       "      <td>0</td>\n",
       "    </tr>\n",
       "  </tbody>\n",
       "</table>\n",
       "</div>"
      ]
     },
     "metadata": {
      "application/vnd.databricks.v1+output": {
       "addedWidgets": {},
       "arguments": {},
       "data": "<div>\n<style scoped>\n    .dataframe tbody tr th:only-of-type {\n        vertical-align: middle;\n    }\n\n    .dataframe tbody tr th {\n        vertical-align: top;\n    }\n\n    .dataframe thead th {\n        text-align: right;\n    }\n</style>\n<table border=\"1\" class=\"dataframe\">\n  <thead>\n    <tr style=\"text-align: right;\">\n      <th></th>\n      <th>Destination_Banglore</th>\n      <th>Destination_Cochin</th>\n      <th>Destination_Delhi</th>\n      <th>Destination_Hyderabad</th>\n      <th>Destination_Kolkata</th>\n    </tr>\n  </thead>\n  <tbody>\n    <tr>\n      <th>0</th>\n      <td>0</td>\n      <td>0</td>\n      <td>1</td>\n      <td>0</td>\n      <td>0</td>\n    </tr>\n    <tr>\n      <th>1</th>\n      <td>1</td>\n      <td>0</td>\n      <td>0</td>\n      <td>0</td>\n      <td>0</td>\n    </tr>\n    <tr>\n      <th>2</th>\n      <td>0</td>\n      <td>1</td>\n      <td>0</td>\n      <td>0</td>\n      <td>0</td>\n    </tr>\n    <tr>\n      <th>3</th>\n      <td>1</td>\n      <td>0</td>\n      <td>0</td>\n      <td>0</td>\n      <td>0</td>\n    </tr>\n    <tr>\n      <th>4</th>\n      <td>0</td>\n      <td>0</td>\n      <td>1</td>\n      <td>0</td>\n      <td>0</td>\n    </tr>\n  </tbody>\n</table>\n</div>",
       "datasetInfos": [],
       "metadata": {},
       "removedWidgets": [],
       "textData": null,
       "type": "htmlSandbox"
      }
     },
     "output_type": "display_data"
    }
   ],
   "source": [
    "#destination\n",
    "Destination = dataset[[\"Destination\"]].copy()\n",
    "Current_Destination_List = Destination['Destination']\n",
    "New_Destination_List = []\n",
    "\n",
    "for value in Current_Destination_List:\n",
    "    if value in ['New Delhi']:\n",
    "        New_Destination_List.append('Delhi')\n",
    "    else:\n",
    "        New_Destination_List.append(value)\n",
    "Destination['Destination'] = pd.DataFrame(New_Destination_List)\n",
    "Destination = pd.get_dummies(Destination)\n",
    "Destination.head()"
   ]
  },
  {
   "cell_type": "code",
   "execution_count": 0,
   "metadata": {
    "application/vnd.databricks.v1+cell": {
     "cellMetadata": {
      "byteLimit": 2048000,
      "rowLimit": 10000
     },
     "inputWidgets": {},
     "nuid": "63064a06-5d58-429e-9817-18f244207263",
     "showTitle": false,
     "tableResultSettingsMap": {},
     "title": ""
    }
   },
   "outputs": [
    {
     "output_type": "display_data",
     "data": {
      "text/html": [
       "<div>\n",
       "<style scoped>\n",
       "    .dataframe tbody tr th:only-of-type {\n",
       "        vertical-align: middle;\n",
       "    }\n",
       "\n",
       "    .dataframe tbody tr th {\n",
       "        vertical-align: top;\n",
       "    }\n",
       "\n",
       "    .dataframe thead th {\n",
       "        text-align: right;\n",
       "    }\n",
       "</style>\n",
       "<table border=\"1\" class=\"dataframe\">\n",
       "  <thead>\n",
       "    <tr style=\"text-align: right;\">\n",
       "      <th></th>\n",
       "      <th>Total_Stops</th>\n",
       "      <th>Price</th>\n",
       "      <th>journey_day</th>\n",
       "      <th>journey_month</th>\n",
       "      <th>dep_hour</th>\n",
       "      <th>dep_min</th>\n",
       "      <th>arrival_hour</th>\n",
       "      <th>arrival_min</th>\n",
       "      <th>Duration_hours</th>\n",
       "      <th>Duration_mins</th>\n",
       "      <th>Airline_Air Asia</th>\n",
       "      <th>Airline_Air India</th>\n",
       "      <th>Airline_GoAir</th>\n",
       "      <th>Airline_IndiGo</th>\n",
       "      <th>Airline_Jet Airways</th>\n",
       "      <th>Airline_Multiple carriers</th>\n",
       "      <th>Airline_Other</th>\n",
       "      <th>Airline_SpiceJet</th>\n",
       "      <th>Airline_Vistara</th>\n",
       "      <th>Source_Banglore</th>\n",
       "      <th>Source_Chennai</th>\n",
       "      <th>Source_Delhi</th>\n",
       "      <th>Source_Kolkata</th>\n",
       "      <th>Source_Mumbai</th>\n",
       "      <th>Destination_Banglore</th>\n",
       "      <th>Destination_Cochin</th>\n",
       "      <th>Destination_Delhi</th>\n",
       "      <th>Destination_Hyderabad</th>\n",
       "      <th>Destination_Kolkata</th>\n",
       "    </tr>\n",
       "  </thead>\n",
       "  <tbody>\n",
       "    <tr>\n",
       "      <th>0</th>\n",
       "      <td>0</td>\n",
       "      <td>3897.0</td>\n",
       "      <td>24</td>\n",
       "      <td>3</td>\n",
       "      <td>22</td>\n",
       "      <td>20</td>\n",
       "      <td>1</td>\n",
       "      <td>10</td>\n",
       "      <td>2</td>\n",
       "      <td>50</td>\n",
       "      <td>0</td>\n",
       "      <td>0</td>\n",
       "      <td>0</td>\n",
       "      <td>1</td>\n",
       "      <td>0</td>\n",
       "      <td>0</td>\n",
       "      <td>0</td>\n",
       "      <td>0</td>\n",
       "      <td>0</td>\n",
       "      <td>1</td>\n",
       "      <td>0</td>\n",
       "      <td>0</td>\n",
       "      <td>0</td>\n",
       "      <td>0</td>\n",
       "      <td>0</td>\n",
       "      <td>0</td>\n",
       "      <td>1</td>\n",
       "      <td>0</td>\n",
       "      <td>0</td>\n",
       "    </tr>\n",
       "    <tr>\n",
       "      <th>1</th>\n",
       "      <td>2</td>\n",
       "      <td>7662.0</td>\n",
       "      <td>1</td>\n",
       "      <td>5</td>\n",
       "      <td>5</td>\n",
       "      <td>50</td>\n",
       "      <td>13</td>\n",
       "      <td>15</td>\n",
       "      <td>7</td>\n",
       "      <td>25</td>\n",
       "      <td>0</td>\n",
       "      <td>1</td>\n",
       "      <td>0</td>\n",
       "      <td>0</td>\n",
       "      <td>0</td>\n",
       "      <td>0</td>\n",
       "      <td>0</td>\n",
       "      <td>0</td>\n",
       "      <td>0</td>\n",
       "      <td>0</td>\n",
       "      <td>0</td>\n",
       "      <td>0</td>\n",
       "      <td>1</td>\n",
       "      <td>0</td>\n",
       "      <td>1</td>\n",
       "      <td>0</td>\n",
       "      <td>0</td>\n",
       "      <td>0</td>\n",
       "      <td>0</td>\n",
       "    </tr>\n",
       "    <tr>\n",
       "      <th>2</th>\n",
       "      <td>2</td>\n",
       "      <td>13882.0</td>\n",
       "      <td>9</td>\n",
       "      <td>6</td>\n",
       "      <td>9</td>\n",
       "      <td>25</td>\n",
       "      <td>4</td>\n",
       "      <td>25</td>\n",
       "      <td>19</td>\n",
       "      <td>0</td>\n",
       "      <td>0</td>\n",
       "      <td>0</td>\n",
       "      <td>0</td>\n",
       "      <td>0</td>\n",
       "      <td>1</td>\n",
       "      <td>0</td>\n",
       "      <td>0</td>\n",
       "      <td>0</td>\n",
       "      <td>0</td>\n",
       "      <td>0</td>\n",
       "      <td>0</td>\n",
       "      <td>1</td>\n",
       "      <td>0</td>\n",
       "      <td>0</td>\n",
       "      <td>0</td>\n",
       "      <td>1</td>\n",
       "      <td>0</td>\n",
       "      <td>0</td>\n",
       "      <td>0</td>\n",
       "    </tr>\n",
       "    <tr>\n",
       "      <th>3</th>\n",
       "      <td>1</td>\n",
       "      <td>6218.0</td>\n",
       "      <td>12</td>\n",
       "      <td>5</td>\n",
       "      <td>18</td>\n",
       "      <td>5</td>\n",
       "      <td>23</td>\n",
       "      <td>30</td>\n",
       "      <td>5</td>\n",
       "      <td>25</td>\n",
       "      <td>0</td>\n",
       "      <td>0</td>\n",
       "      <td>0</td>\n",
       "      <td>1</td>\n",
       "      <td>0</td>\n",
       "      <td>0</td>\n",
       "      <td>0</td>\n",
       "      <td>0</td>\n",
       "      <td>0</td>\n",
       "      <td>0</td>\n",
       "      <td>0</td>\n",
       "      <td>0</td>\n",
       "      <td>1</td>\n",
       "      <td>0</td>\n",
       "      <td>1</td>\n",
       "      <td>0</td>\n",
       "      <td>0</td>\n",
       "      <td>0</td>\n",
       "      <td>0</td>\n",
       "    </tr>\n",
       "    <tr>\n",
       "      <th>4</th>\n",
       "      <td>1</td>\n",
       "      <td>13302.0</td>\n",
       "      <td>1</td>\n",
       "      <td>3</td>\n",
       "      <td>16</td>\n",
       "      <td>50</td>\n",
       "      <td>21</td>\n",
       "      <td>35</td>\n",
       "      <td>4</td>\n",
       "      <td>45</td>\n",
       "      <td>0</td>\n",
       "      <td>0</td>\n",
       "      <td>0</td>\n",
       "      <td>1</td>\n",
       "      <td>0</td>\n",
       "      <td>0</td>\n",
       "      <td>0</td>\n",
       "      <td>0</td>\n",
       "      <td>0</td>\n",
       "      <td>1</td>\n",
       "      <td>0</td>\n",
       "      <td>0</td>\n",
       "      <td>0</td>\n",
       "      <td>0</td>\n",
       "      <td>0</td>\n",
       "      <td>0</td>\n",
       "      <td>1</td>\n",
       "      <td>0</td>\n",
       "      <td>0</td>\n",
       "    </tr>\n",
       "  </tbody>\n",
       "</table>\n",
       "</div>"
      ]
     },
     "metadata": {
      "application/vnd.databricks.v1+output": {
       "addedWidgets": {},
       "arguments": {},
       "data": "<div>\n<style scoped>\n    .dataframe tbody tr th:only-of-type {\n        vertical-align: middle;\n    }\n\n    .dataframe tbody tr th {\n        vertical-align: top;\n    }\n\n    .dataframe thead th {\n        text-align: right;\n    }\n</style>\n<table border=\"1\" class=\"dataframe\">\n  <thead>\n    <tr style=\"text-align: right;\">\n      <th></th>\n      <th>Total_Stops</th>\n      <th>Price</th>\n      <th>journey_day</th>\n      <th>journey_month</th>\n      <th>dep_hour</th>\n      <th>dep_min</th>\n      <th>arrival_hour</th>\n      <th>arrival_min</th>\n      <th>Duration_hours</th>\n      <th>Duration_mins</th>\n      <th>Airline_Air Asia</th>\n      <th>Airline_Air India</th>\n      <th>Airline_GoAir</th>\n      <th>Airline_IndiGo</th>\n      <th>Airline_Jet Airways</th>\n      <th>Airline_Multiple carriers</th>\n      <th>Airline_Other</th>\n      <th>Airline_SpiceJet</th>\n      <th>Airline_Vistara</th>\n      <th>Source_Banglore</th>\n      <th>Source_Chennai</th>\n      <th>Source_Delhi</th>\n      <th>Source_Kolkata</th>\n      <th>Source_Mumbai</th>\n      <th>Destination_Banglore</th>\n      <th>Destination_Cochin</th>\n      <th>Destination_Delhi</th>\n      <th>Destination_Hyderabad</th>\n      <th>Destination_Kolkata</th>\n    </tr>\n  </thead>\n  <tbody>\n    <tr>\n      <th>0</th>\n      <td>0</td>\n      <td>3897.0</td>\n      <td>24</td>\n      <td>3</td>\n      <td>22</td>\n      <td>20</td>\n      <td>1</td>\n      <td>10</td>\n      <td>2</td>\n      <td>50</td>\n      <td>0</td>\n      <td>0</td>\n      <td>0</td>\n      <td>1</td>\n      <td>0</td>\n      <td>0</td>\n      <td>0</td>\n      <td>0</td>\n      <td>0</td>\n      <td>1</td>\n      <td>0</td>\n      <td>0</td>\n      <td>0</td>\n      <td>0</td>\n      <td>0</td>\n      <td>0</td>\n      <td>1</td>\n      <td>0</td>\n      <td>0</td>\n    </tr>\n    <tr>\n      <th>1</th>\n      <td>2</td>\n      <td>7662.0</td>\n      <td>1</td>\n      <td>5</td>\n      <td>5</td>\n      <td>50</td>\n      <td>13</td>\n      <td>15</td>\n      <td>7</td>\n      <td>25</td>\n      <td>0</td>\n      <td>1</td>\n      <td>0</td>\n      <td>0</td>\n      <td>0</td>\n      <td>0</td>\n      <td>0</td>\n      <td>0</td>\n      <td>0</td>\n      <td>0</td>\n      <td>0</td>\n      <td>0</td>\n      <td>1</td>\n      <td>0</td>\n      <td>1</td>\n      <td>0</td>\n      <td>0</td>\n      <td>0</td>\n      <td>0</td>\n    </tr>\n    <tr>\n      <th>2</th>\n      <td>2</td>\n      <td>13882.0</td>\n      <td>9</td>\n      <td>6</td>\n      <td>9</td>\n      <td>25</td>\n      <td>4</td>\n      <td>25</td>\n      <td>19</td>\n      <td>0</td>\n      <td>0</td>\n      <td>0</td>\n      <td>0</td>\n      <td>0</td>\n      <td>1</td>\n      <td>0</td>\n      <td>0</td>\n      <td>0</td>\n      <td>0</td>\n      <td>0</td>\n      <td>0</td>\n      <td>1</td>\n      <td>0</td>\n      <td>0</td>\n      <td>0</td>\n      <td>1</td>\n      <td>0</td>\n      <td>0</td>\n      <td>0</td>\n    </tr>\n    <tr>\n      <th>3</th>\n      <td>1</td>\n      <td>6218.0</td>\n      <td>12</td>\n      <td>5</td>\n      <td>18</td>\n      <td>5</td>\n      <td>23</td>\n      <td>30</td>\n      <td>5</td>\n      <td>25</td>\n      <td>0</td>\n      <td>0</td>\n      <td>0</td>\n      <td>1</td>\n      <td>0</td>\n      <td>0</td>\n      <td>0</td>\n      <td>0</td>\n      <td>0</td>\n      <td>0</td>\n      <td>0</td>\n      <td>0</td>\n      <td>1</td>\n      <td>0</td>\n      <td>1</td>\n      <td>0</td>\n      <td>0</td>\n      <td>0</td>\n      <td>0</td>\n    </tr>\n    <tr>\n      <th>4</th>\n      <td>1</td>\n      <td>13302.0</td>\n      <td>1</td>\n      <td>3</td>\n      <td>16</td>\n      <td>50</td>\n      <td>21</td>\n      <td>35</td>\n      <td>4</td>\n      <td>45</td>\n      <td>0</td>\n      <td>0</td>\n      <td>0</td>\n      <td>1</td>\n      <td>0</td>\n      <td>0</td>\n      <td>0</td>\n      <td>0</td>\n      <td>0</td>\n      <td>1</td>\n      <td>0</td>\n      <td>0</td>\n      <td>0</td>\n      <td>0</td>\n      <td>0</td>\n      <td>0</td>\n      <td>1</td>\n      <td>0</td>\n      <td>0</td>\n    </tr>\n  </tbody>\n</table>\n</div>",
       "datasetInfos": [],
       "metadata": {},
       "removedWidgets": [],
       "textData": null,
       "type": "htmlSandbox"
      }
     },
     "output_type": "display_data"
    }
   ],
   "source": [
    "#concat\n",
    "data_train = pd.concat([dataset,Airline,Source,Destination], axis=1 )\n",
    "data_train.drop([\"Airline\", \"Source\", \"Destination\"], axis = 1, inplace = True)\n",
    "data_train.head()"
   ]
  },
  {
   "cell_type": "code",
   "execution_count": 0,
   "metadata": {
    "application/vnd.databricks.v1+cell": {
     "cellMetadata": {
      "byteLimit": 2048000,
      "rowLimit": 10000
     },
     "inputWidgets": {},
     "nuid": "61a5306a-4fe3-4c33-97a8-85411b13de95",
     "showTitle": false,
     "tableResultSettingsMap": {},
     "title": ""
    }
   },
   "outputs": [
    {
     "output_type": "stream",
     "name": "stdout",
     "output_type": "stream",
     "text": [
      "Out[21]: (10000, 29)"
     ]
    }
   ],
   "source": [
    "data_train.shape"
   ]
  },
  {
   "cell_type": "code",
   "execution_count": 0,
   "metadata": {
    "application/vnd.databricks.v1+cell": {
     "cellMetadata": {
      "byteLimit": 2048000,
      "rowLimit": 10000
     },
     "inputWidgets": {},
     "nuid": "5aacf163-db16-426b-a55f-61d40ecff693",
     "showTitle": false,
     "tableResultSettingsMap": {},
     "title": ""
    }
   },
   "outputs": [
    {
     "output_type": "stream",
     "name": "stdout",
     "output_type": "stream",
     "text": [
      "Out[22]: Index(['Total_Stops', 'Price', 'journey_day', 'journey_month', 'dep_hour',\n       'dep_min', 'arrival_hour', 'arrival_min', 'Duration_hours',\n       'Duration_mins', 'Airline_Air Asia', 'Airline_Air India',\n       'Airline_GoAir', 'Airline_IndiGo', 'Airline_Jet Airways',\n       'Airline_Multiple carriers', 'Airline_Other', 'Airline_SpiceJet',\n       'Airline_Vistara', 'Source_Banglore', 'Source_Chennai', 'Source_Delhi',\n       'Source_Kolkata', 'Source_Mumbai', 'Destination_Banglore',\n       'Destination_Cochin', 'Destination_Delhi', 'Destination_Hyderabad',\n       'Destination_Kolkata'],\n      dtype='object')"
     ]
    }
   ],
   "source": [
    "data_train.columns"
   ]
  },
  {
   "cell_type": "code",
   "execution_count": 0,
   "metadata": {
    "application/vnd.databricks.v1+cell": {
     "cellMetadata": {
      "byteLimit": 2048000,
      "rowLimit": 10000
     },
     "inputWidgets": {},
     "nuid": "90119753-6952-4643-8970-9f6518611755",
     "showTitle": false,
     "tableResultSettingsMap": {},
     "title": ""
    }
   },
   "outputs": [],
   "source": [
    "X = data_train.loc[:, ['Total_Stops', 'journey_day', 'journey_month', 'dep_hour',\n",
    "       'dep_min', 'arrival_hour', 'arrival_min', 'Duration_hours',\n",
    "       'Duration_mins', 'Airline_Air India', 'Airline_GoAir', 'Airline_IndiGo',\n",
    "       'Airline_Jet Airways', 'Airline_Multiple carriers', 'Airline_Other',\n",
    "       'Airline_SpiceJet', 'Airline_Vistara', 'Source_Banglore',\n",
    "       'Source_Chennai', 'Source_Delhi', 'Source_Kolkata', 'Source_Mumbai',\n",
    "       'Destination_Banglore', 'Destination_Cochin', 'Destination_Delhi',\n",
    "       'Destination_Hyderabad', 'Destination_Kolkata']]\n",
    "y = data_train.iloc[:, 1]"
   ]
  },
  {
   "cell_type": "code",
   "execution_count": 0,
   "metadata": {
    "application/vnd.databricks.v1+cell": {
     "cellMetadata": {
      "byteLimit": 2048000,
      "rowLimit": 10000
     },
     "inputWidgets": {},
     "nuid": "8739cf01-da05-4625-9a2c-8099bb1917b7",
     "showTitle": false,
     "tableResultSettingsMap": {},
     "title": ""
    }
   },
   "outputs": [
    {
     "output_type": "stream",
     "name": "stdout",
     "output_type": "stream",
     "text": [
      "(10000, 27) (10000,)\n"
     ]
    }
   ],
   "source": [
    "print(X.shape, y.shape)"
   ]
  },
  {
   "cell_type": "code",
   "execution_count": 0,
   "metadata": {
    "application/vnd.databricks.v1+cell": {
     "cellMetadata": {
      "byteLimit": 2048000,
      "rowLimit": 10000
     },
     "inputWidgets": {},
     "nuid": "d87ca2ad-d723-4479-856c-70bd68b94d8c",
     "showTitle": false,
     "tableResultSettingsMap": {},
     "title": ""
    }
   },
   "outputs": [
    {
     "output_type": "stream",
     "name": "stdout",
     "output_type": "stream",
     "text": [
      "[0.23029697 0.14126905 0.0601149  0.02927563 0.02373804 0.03501727\n 0.02294061 0.13949873 0.02050061 0.00918864 0.00138255 0.01131425\n 0.12117003 0.01796722 0.02762461 0.00367975 0.00328678 0.02498673\n 0.00092927 0.02398586 0.00580725 0.01775221 0.00350536 0.00649575\n 0.01315744 0.00347629 0.0016382 ]\n"
     ]
    }
   ],
   "source": [
    "#imp features\n",
    "from sklearn.ensemble import ExtraTreesRegressor\n",
    "selection =ExtraTreesRegressor()\n",
    "selection.fit(X,y)\n",
    "print(selection.feature_importances_)\n"
   ]
  },
  {
   "cell_type": "code",
   "execution_count": 0,
   "metadata": {
    "application/vnd.databricks.v1+cell": {
     "cellMetadata": {
      "byteLimit": 2048000,
      "rowLimit": 10000
     },
     "inputWidgets": {},
     "nuid": "e228d7f2-cbdd-47cb-bf7e-ae5edd8c5c5b",
     "showTitle": false,
     "tableResultSettingsMap": {},
     "title": ""
    }
   },
   "outputs": [
    {
     "output_type": "display_data",
     "data": {
      "image/png": "[encoded data removed]"
     },
     "metadata": {
      "application/vnd.databricks.v1+output": {
       "addedWidgets": {},
       "arguments": {},
       "data": "data:image/png;base64,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\n",
       "datasetInfos": [],
       "metadata": {},
       "removedWidgets": [],
       "type": "image"
      }
     },
     "output_type": "display_data"
    }
   ],
   "source": [
    "#plotiing\n",
    "import matplotlib.pyplot as plt\n",
    "plt.figure(figsize = (12,8))\n",
    "feat_importance = pd.Series(selection.feature_importances_,index=X.columns)\n",
    "feat_importance.nlargest(27).plot(kind='barh')\n",
    "plt.show()"
   ]
  },
  {
   "cell_type": "code",
   "execution_count": 0,
   "metadata": {
    "application/vnd.databricks.v1+cell": {
     "cellMetadata": {
      "byteLimit": 2048000,
      "rowLimit": 10000
     },
     "inputWidgets": {},
     "nuid": "abdee5b5-aedb-4a34-973c-a37599dae652",
     "showTitle": false,
     "tableResultSettingsMap": {},
     "title": ""
    }
   },
   "outputs": [
    {
     "output_type": "display_data",
     "data": {
      "text/html": [
       "<div>\n",
       "<style scoped>\n",
       "    .dataframe tbody tr th:only-of-type {\n",
       "        vertical-align: middle;\n",
       "    }\n",
       "\n",
       "    .dataframe tbody tr th {\n",
       "        vertical-align: top;\n",
       "    }\n",
       "\n",
       "    .dataframe thead th {\n",
       "        text-align: right;\n",
       "    }\n",
       "</style>\n",
       "<table border=\"1\" class=\"dataframe\">\n",
       "  <thead>\n",
       "    <tr style=\"text-align: right;\">\n",
       "      <th></th>\n",
       "      <th>Variables</th>\n",
       "      <th>VIF</th>\n",
       "    </tr>\n",
       "  </thead>\n",
       "  <tbody>\n",
       "    <tr>\n",
       "      <th>0</th>\n",
       "      <td>Total_Stops</td>\n",
       "      <td>3.022364</td>\n",
       "    </tr>\n",
       "    <tr>\n",
       "      <th>1</th>\n",
       "      <td>journey_day</td>\n",
       "      <td>1.021296</td>\n",
       "    </tr>\n",
       "    <tr>\n",
       "      <th>2</th>\n",
       "      <td>journey_month</td>\n",
       "      <td>1.105632</td>\n",
       "    </tr>\n",
       "    <tr>\n",
       "      <th>3</th>\n",
       "      <td>dep_hour</td>\n",
       "      <td>1.056345</td>\n",
       "    </tr>\n",
       "    <tr>\n",
       "      <th>4</th>\n",
       "      <td>dep_min</td>\n",
       "      <td>1.090589</td>\n",
       "    </tr>\n",
       "    <tr>\n",
       "      <th>5</th>\n",
       "      <td>arrival_hour</td>\n",
       "      <td>1.074826</td>\n",
       "    </tr>\n",
       "    <tr>\n",
       "      <th>6</th>\n",
       "      <td>arrival_min</td>\n",
       "      <td>1.127890</td>\n",
       "    </tr>\n",
       "    <tr>\n",
       "      <th>7</th>\n",
       "      <td>Duration_hours</td>\n",
       "      <td>2.518524</td>\n",
       "    </tr>\n",
       "    <tr>\n",
       "      <th>8</th>\n",
       "      <td>Duration_mins</td>\n",
       "      <td>1.138308</td>\n",
       "    </tr>\n",
       "    <tr>\n",
       "      <th>9</th>\n",
       "      <td>Airline_Air India</td>\n",
       "      <td>6.021425</td>\n",
       "    </tr>\n",
       "    <tr>\n",
       "      <th>10</th>\n",
       "      <td>Airline_GoAir</td>\n",
       "      <td>1.598337</td>\n",
       "    </tr>\n",
       "    <tr>\n",
       "      <th>11</th>\n",
       "      <td>Airline_IndiGo</td>\n",
       "      <td>6.328454</td>\n",
       "    </tr>\n",
       "    <tr>\n",
       "      <th>12</th>\n",
       "      <td>Airline_Jet Airways</td>\n",
       "      <td>9.060389</td>\n",
       "    </tr>\n",
       "    <tr>\n",
       "      <th>13</th>\n",
       "      <td>Airline_Multiple carriers</td>\n",
       "      <td>4.829932</td>\n",
       "    </tr>\n",
       "    <tr>\n",
       "      <th>14</th>\n",
       "      <td>Airline_Other</td>\n",
       "      <td>1.084752</td>\n",
       "    </tr>\n",
       "    <tr>\n",
       "      <th>15</th>\n",
       "      <td>Airline_SpiceJet</td>\n",
       "      <td>3.462402</td>\n",
       "    </tr>\n",
       "    <tr>\n",
       "      <th>16</th>\n",
       "      <td>Airline_Vistara</td>\n",
       "      <td>2.524567</td>\n",
       "    </tr>\n",
       "    <tr>\n",
       "      <th>17</th>\n",
       "      <td>Source_Banglore</td>\n",
       "      <td>2076.493991</td>\n",
       "    </tr>\n",
       "    <tr>\n",
       "      <th>18</th>\n",
       "      <td>Source_Chennai</td>\n",
       "      <td>367.335347</td>\n",
       "    </tr>\n",
       "    <tr>\n",
       "      <th>19</th>\n",
       "      <td>Source_Delhi</td>\n",
       "      <td>4282.359041</td>\n",
       "    </tr>\n",
       "    <tr>\n",
       "      <th>20</th>\n",
       "      <td>Source_Kolkata</td>\n",
       "      <td>2702.719589</td>\n",
       "    </tr>\n",
       "    <tr>\n",
       "      <th>21</th>\n",
       "      <td>Source_Mumbai</td>\n",
       "      <td>656.521595</td>\n",
       "    </tr>\n",
       "    <tr>\n",
       "      <th>22</th>\n",
       "      <td>Destination_Banglore</td>\n",
       "      <td>1974.969510</td>\n",
       "    </tr>\n",
       "    <tr>\n",
       "      <th>23</th>\n",
       "      <td>Destination_Cochin</td>\n",
       "      <td>2455.642604</td>\n",
       "    </tr>\n",
       "    <tr>\n",
       "      <th>24</th>\n",
       "      <td>Destination_Delhi</td>\n",
       "      <td>1647.289260</td>\n",
       "    </tr>\n",
       "    <tr>\n",
       "      <th>25</th>\n",
       "      <td>Destination_Hyderabad</td>\n",
       "      <td>613.611411</td>\n",
       "    </tr>\n",
       "    <tr>\n",
       "      <th>26</th>\n",
       "      <td>Destination_Kolkata</td>\n",
       "      <td>353.837035</td>\n",
       "    </tr>\n",
       "  </tbody>\n",
       "</table>\n",
       "</div>"
      ]
     },
     "metadata": {
      "application/vnd.databricks.v1+output": {
       "addedWidgets": {},
       "arguments": {},
       "data": "<div>\n<style scoped>\n    .dataframe tbody tr th:only-of-type {\n        vertical-align: middle;\n    }\n\n    .dataframe tbody tr th {\n        vertical-align: top;\n    }\n\n    .dataframe thead th {\n        text-align: right;\n    }\n</style>\n<table border=\"1\" class=\"dataframe\">\n  <thead>\n    <tr style=\"text-align: right;\">\n      <th></th>\n      <th>Variables</th>\n      <th>VIF</th>\n    </tr>\n  </thead>\n  <tbody>\n    <tr>\n      <th>0</th>\n      <td>Total_Stops</td>\n      <td>3.022364</td>\n    </tr>\n    <tr>\n      <th>1</th>\n      <td>journey_day</td>\n      <td>1.021296</td>\n    </tr>\n    <tr>\n      <th>2</th>\n      <td>journey_month</td>\n      <td>1.105632</td>\n    </tr>\n    <tr>\n      <th>3</th>\n      <td>dep_hour</td>\n      <td>1.056345</td>\n    </tr>\n    <tr>\n      <th>4</th>\n      <td>dep_min</td>\n      <td>1.090589</td>\n    </tr>\n    <tr>\n      <th>5</th>\n      <td>arrival_hour</td>\n      <td>1.074826</td>\n    </tr>\n    <tr>\n      <th>6</th>\n      <td>arrival_min</td>\n      <td>1.127890</td>\n    </tr>\n    <tr>\n      <th>7</th>\n      <td>Duration_hours</td>\n      <td>2.518524</td>\n    </tr>\n    <tr>\n      <th>8</th>\n      <td>Duration_mins</td>\n      <td>1.138308</td>\n    </tr>\n    <tr>\n      <th>9</th>\n      <td>Airline_Air India</td>\n      <td>6.021425</td>\n    </tr>\n    <tr>\n      <th>10</th>\n      <td>Airline_GoAir</td>\n      <td>1.598337</td>\n    </tr>\n    <tr>\n      <th>11</th>\n      <td>Airline_IndiGo</td>\n      <td>6.328454</td>\n    </tr>\n    <tr>\n      <th>12</th>\n      <td>Airline_Jet Airways</td>\n      <td>9.060389</td>\n    </tr>\n    <tr>\n      <th>13</th>\n      <td>Airline_Multiple carriers</td>\n      <td>4.829932</td>\n    </tr>\n    <tr>\n      <th>14</th>\n      <td>Airline_Other</td>\n      <td>1.084752</td>\n    </tr>\n    <tr>\n      <th>15</th>\n      <td>Airline_SpiceJet</td>\n      <td>3.462402</td>\n    </tr>\n    <tr>\n      <th>16</th>\n      <td>Airline_Vistara</td>\n      <td>2.524567</td>\n    </tr>\n    <tr>\n      <th>17</th>\n      <td>Source_Banglore</td>\n      <td>2076.493991</td>\n    </tr>\n    <tr>\n      <th>18</th>\n      <td>Source_Chennai</td>\n      <td>367.335347</td>\n    </tr>\n    <tr>\n      <th>19</th>\n      <td>Source_Delhi</td>\n      <td>4282.359041</td>\n    </tr>\n    <tr>\n      <th>20</th>\n      <td>Source_Kolkata</td>\n      <td>2702.719589</td>\n    </tr>\n    <tr>\n      <th>21</th>\n      <td>Source_Mumbai</td>\n      <td>656.521595</td>\n    </tr>\n    <tr>\n      <th>22</th>\n      <td>Destination_Banglore</td>\n      <td>1974.969510</td>\n    </tr>\n    <tr>\n      <th>23</th>\n      <td>Destination_Cochin</td>\n      <td>2455.642604</td>\n    </tr>\n    <tr>\n      <th>24</th>\n      <td>Destination_Delhi</td>\n      <td>1647.289260</td>\n    </tr>\n    <tr>\n      <th>25</th>\n      <td>Destination_Hyderabad</td>\n      <td>613.611411</td>\n    </tr>\n    <tr>\n      <th>26</th>\n      <td>Destination_Kolkata</td>\n      <td>353.837035</td>\n    </tr>\n  </tbody>\n</table>\n</div>",
       "datasetInfos": [],
       "metadata": {},
       "removedWidgets": [],
       "textData": null,
       "type": "htmlSandbox"
      }
     },
     "output_type": "display_data"
    }
   ],
   "source": [
    "#check for multicollinearity\n",
    "from statsmodels.stats.outliers_influence import variance_inflation_factor\n",
    "def cal_vif(data):\n",
    "    vif = pd.DataFrame()\n",
    "    vif['Variables'] = data.columns\n",
    "    vif[\"VIF\"] = [variance_inflation_factor(data.values,i) for i in range (data.shape[1])]\n",
    "    return vif\n",
    "cal_vif(X)"
   ]
  },
  {
   "cell_type": "markdown",
   "metadata": {
    "application/vnd.databricks.v1+cell": {
     "cellMetadata": {
      "byteLimit": 2048000,
      "rowLimit": 10000
     },
     "inputWidgets": {},
     "nuid": "e84e02f5-9104-4260-9d04-562188b05216",
     "showTitle": false,
     "tableResultSettingsMap": {},
     "title": ""
    }
   },
   "source": [
    "There is **Severe** Multicollinearity in **Source** and **Destination** Variables.\n",
    "\n",
    "Hence dropping one column per set of one-hot encoded variables (Source and Destination) to reduce redundancy.\n",
    "Dropping Source_Banglore and Destination_Banglore.\n"
   ]
  },
  {
   "cell_type": "code",
   "execution_count": 0,
   "metadata": {
    "application/vnd.databricks.v1+cell": {
     "cellMetadata": {
      "byteLimit": 2048000,
      "rowLimit": 10000
     },
     "inputWidgets": {},
     "nuid": "d74b7c86-7928-43f6-b4f2-4f2f1e2b0c6a",
     "showTitle": false,
     "tableResultSettingsMap": {},
     "title": ""
    }
   },
   "outputs": [
    {
     "output_type": "display_data",
     "data": {
      "text/html": [
       "<div>\n",
       "<style scoped>\n",
       "    .dataframe tbody tr th:only-of-type {\n",
       "        vertical-align: middle;\n",
       "    }\n",
       "\n",
       "    .dataframe tbody tr th {\n",
       "        vertical-align: top;\n",
       "    }\n",
       "\n",
       "    .dataframe thead th {\n",
       "        text-align: right;\n",
       "    }\n",
       "</style>\n",
       "<table border=\"1\" class=\"dataframe\">\n",
       "  <thead>\n",
       "    <tr style=\"text-align: right;\">\n",
       "      <th></th>\n",
       "      <th>Variables</th>\n",
       "      <th>VIF</th>\n",
       "    </tr>\n",
       "  </thead>\n",
       "  <tbody>\n",
       "    <tr>\n",
       "      <th>0</th>\n",
       "      <td>Total_Stops</td>\n",
       "      <td>7.533035</td>\n",
       "    </tr>\n",
       "    <tr>\n",
       "      <th>1</th>\n",
       "      <td>journey_day</td>\n",
       "      <td>3.511805</td>\n",
       "    </tr>\n",
       "    <tr>\n",
       "      <th>2</th>\n",
       "      <td>journey_month</td>\n",
       "      <td>16.470796</td>\n",
       "    </tr>\n",
       "    <tr>\n",
       "      <th>3</th>\n",
       "      <td>dep_hour</td>\n",
       "      <td>5.790951</td>\n",
       "    </tr>\n",
       "    <tr>\n",
       "      <th>4</th>\n",
       "      <td>dep_min</td>\n",
       "      <td>2.804206</td>\n",
       "    </tr>\n",
       "    <tr>\n",
       "      <th>5</th>\n",
       "      <td>arrival_hour</td>\n",
       "      <td>4.923106</td>\n",
       "    </tr>\n",
       "    <tr>\n",
       "      <th>6</th>\n",
       "      <td>arrival_min</td>\n",
       "      <td>3.455823</td>\n",
       "    </tr>\n",
       "    <tr>\n",
       "      <th>7</th>\n",
       "      <td>Duration_hours</td>\n",
       "      <td>6.183394</td>\n",
       "    </tr>\n",
       "    <tr>\n",
       "      <th>8</th>\n",
       "      <td>Duration_mins</td>\n",
       "      <td>4.106901</td>\n",
       "    </tr>\n",
       "    <tr>\n",
       "      <th>9</th>\n",
       "      <td>Airline_Air India</td>\n",
       "      <td>5.381726</td>\n",
       "    </tr>\n",
       "    <tr>\n",
       "      <th>10</th>\n",
       "      <td>Airline_GoAir</td>\n",
       "      <td>1.472982</td>\n",
       "    </tr>\n",
       "    <tr>\n",
       "      <th>11</th>\n",
       "      <td>Airline_IndiGo</td>\n",
       "      <td>5.614514</td>\n",
       "    </tr>\n",
       "    <tr>\n",
       "      <th>12</th>\n",
       "      <td>Airline_Jet Airways</td>\n",
       "      <td>10.191202</td>\n",
       "    </tr>\n",
       "    <tr>\n",
       "      <th>13</th>\n",
       "      <td>Airline_Multiple carriers</td>\n",
       "      <td>4.055041</td>\n",
       "    </tr>\n",
       "    <tr>\n",
       "      <th>14</th>\n",
       "      <td>Airline_Other</td>\n",
       "      <td>1.053908</td>\n",
       "    </tr>\n",
       "    <tr>\n",
       "      <th>15</th>\n",
       "      <td>Airline_SpiceJet</td>\n",
       "      <td>2.837424</td>\n",
       "    </tr>\n",
       "    <tr>\n",
       "      <th>16</th>\n",
       "      <td>Airline_Vistara</td>\n",
       "      <td>2.152238</td>\n",
       "    </tr>\n",
       "    <tr>\n",
       "      <th>17</th>\n",
       "      <td>Source_Chennai</td>\n",
       "      <td>5.734129</td>\n",
       "    </tr>\n",
       "    <tr>\n",
       "      <th>18</th>\n",
       "      <td>Source_Delhi</td>\n",
       "      <td>16.511266</td>\n",
       "    </tr>\n",
       "    <tr>\n",
       "      <th>19</th>\n",
       "      <td>Source_Kolkata</td>\n",
       "      <td>9.128518</td>\n",
       "    </tr>\n",
       "    <tr>\n",
       "      <th>20</th>\n",
       "      <td>Source_Mumbai</td>\n",
       "      <td>6.706567</td>\n",
       "    </tr>\n",
       "    <tr>\n",
       "      <th>21</th>\n",
       "      <td>Destination_Cochin</td>\n",
       "      <td>13.436653</td>\n",
       "    </tr>\n",
       "    <tr>\n",
       "      <th>22</th>\n",
       "      <td>Destination_Delhi</td>\n",
       "      <td>6.306253</td>\n",
       "    </tr>\n",
       "    <tr>\n",
       "      <th>23</th>\n",
       "      <td>Destination_Hyderabad</td>\n",
       "      <td>6.758068</td>\n",
       "    </tr>\n",
       "    <tr>\n",
       "      <th>24</th>\n",
       "      <td>Destination_Kolkata</td>\n",
       "      <td>5.592729</td>\n",
       "    </tr>\n",
       "  </tbody>\n",
       "</table>\n",
       "</div>"
      ]
     },
     "metadata": {
      "application/vnd.databricks.v1+output": {
       "addedWidgets": {},
       "arguments": {},
       "data": "<div>\n<style scoped>\n    .dataframe tbody tr th:only-of-type {\n        vertical-align: middle;\n    }\n\n    .dataframe tbody tr th {\n        vertical-align: top;\n    }\n\n    .dataframe thead th {\n        text-align: right;\n    }\n</style>\n<table border=\"1\" class=\"dataframe\">\n  <thead>\n    <tr style=\"text-align: right;\">\n      <th></th>\n      <th>Variables</th>\n      <th>VIF</th>\n    </tr>\n  </thead>\n  <tbody>\n    <tr>\n      <th>0</th>\n      <td>Total_Stops</td>\n      <td>7.533035</td>\n    </tr>\n    <tr>\n      <th>1</th>\n      <td>journey_day</td>\n      <td>3.511805</td>\n    </tr>\n    <tr>\n      <th>2</th>\n      <td>journey_month</td>\n      <td>16.470796</td>\n    </tr>\n    <tr>\n      <th>3</th>\n      <td>dep_hour</td>\n      <td>5.790951</td>\n    </tr>\n    <tr>\n      <th>4</th>\n      <td>dep_min</td>\n      <td>2.804206</td>\n    </tr>\n    <tr>\n      <th>5</th>\n      <td>arrival_hour</td>\n      <td>4.923106</td>\n    </tr>\n    <tr>\n      <th>6</th>\n      <td>arrival_min</td>\n      <td>3.455823</td>\n    </tr>\n    <tr>\n      <th>7</th>\n      <td>Duration_hours</td>\n      <td>6.183394</td>\n    </tr>\n    <tr>\n      <th>8</th>\n      <td>Duration_mins</td>\n      <td>4.106901</td>\n    </tr>\n    <tr>\n      <th>9</th>\n      <td>Airline_Air India</td>\n      <td>5.381726</td>\n    </tr>\n    <tr>\n      <th>10</th>\n      <td>Airline_GoAir</td>\n      <td>1.472982</td>\n    </tr>\n    <tr>\n      <th>11</th>\n      <td>Airline_IndiGo</td>\n      <td>5.614514</td>\n    </tr>\n    <tr>\n      <th>12</th>\n      <td>Airline_Jet Airways</td>\n      <td>10.191202</td>\n    </tr>\n    <tr>\n      <th>13</th>\n      <td>Airline_Multiple carriers</td>\n      <td>4.055041</td>\n    </tr>\n    <tr>\n      <th>14</th>\n      <td>Airline_Other</td>\n      <td>1.053908</td>\n    </tr>\n    <tr>\n      <th>15</th>\n      <td>Airline_SpiceJet</td>\n      <td>2.837424</td>\n    </tr>\n    <tr>\n      <th>16</th>\n      <td>Airline_Vistara</td>\n      <td>2.152238</td>\n    </tr>\n    <tr>\n      <th>17</th>\n      <td>Source_Chennai</td>\n      <td>5.734129</td>\n    </tr>\n    <tr>\n      <th>18</th>\n      <td>Source_Delhi</td>\n      <td>16.511266</td>\n    </tr>\n    <tr>\n      <th>19</th>\n      <td>Source_Kolkata</td>\n      <td>9.128518</td>\n    </tr>\n    <tr>\n      <th>20</th>\n      <td>Source_Mumbai</td>\n      <td>6.706567</td>\n    </tr>\n    <tr>\n      <th>21</th>\n      <td>Destination_Cochin</td>\n      <td>13.436653</td>\n    </tr>\n    <tr>\n      <th>22</th>\n      <td>Destination_Delhi</td>\n      <td>6.306253</td>\n    </tr>\n    <tr>\n      <th>23</th>\n      <td>Destination_Hyderabad</td>\n      <td>6.758068</td>\n    </tr>\n    <tr>\n      <th>24</th>\n      <td>Destination_Kolkata</td>\n      <td>5.592729</td>\n    </tr>\n  </tbody>\n</table>\n</div>",
       "datasetInfos": [],
       "metadata": {},
       "removedWidgets": [],
       "textData": null,
       "type": "htmlSandbox"
      }
     },
     "output_type": "display_data"
    }
   ],
   "source": [
    "X = data_train.loc[:, ['Total_Stops', 'journey_day', 'journey_month', 'dep_hour',\n",
    "       'dep_min', 'arrival_hour', 'arrival_min', 'Duration_hours',\n",
    "       'Duration_mins', 'Airline_Air India', 'Airline_GoAir', 'Airline_IndiGo',\n",
    "       'Airline_Jet Airways', 'Airline_Multiple carriers', 'Airline_Other',\n",
    "       'Airline_SpiceJet', 'Airline_Vistara', 'Source_Chennai', 'Source_Delhi',\n",
    "       'Source_Kolkata', 'Source_Mumbai', 'Destination_Cochin',\n",
    "       'Destination_Delhi', 'Destination_Hyderabad', 'Destination_Kolkata']]\n",
    "y = data_train.iloc[:, 1]\n",
    "cal_vif(X)"
   ]
  },
  {
   "cell_type": "markdown",
   "metadata": {
    "application/vnd.databricks.v1+cell": {
     "cellMetadata": {
      "byteLimit": 2048000,
      "rowLimit": 10000
     },
     "inputWidgets": {},
     "nuid": "8e9bc059-4bfd-4f06-99be-ffc21e8101bb",
     "showTitle": false,
     "tableResultSettingsMap": {},
     "title": ""
    }
   },
   "source": [
    "Again High VIF for\n",
    "journey_month (16.47)\n",
    "Source_Delhi (16.51)\n",
    "Airline_Jet Airways (10.19)\n",
    "Destination_Cochin (13.43)\n",
    "Therefore Dropping Source_Delhi"
   ]
  },
  {
   "cell_type": "code",
   "execution_count": 0,
   "metadata": {
    "application/vnd.databricks.v1+cell": {
     "cellMetadata": {
      "byteLimit": 2048000,
      "rowLimit": 10000
     },
     "inputWidgets": {},
     "nuid": "c83654cf-3e1c-41cf-9f1e-249bbb27bbcd",
     "showTitle": false,
     "tableResultSettingsMap": {},
     "title": ""
    }
   },
   "outputs": [
    {
     "output_type": "display_data",
     "data": {
      "text/html": [
       "<div>\n",
       "<style scoped>\n",
       "    .dataframe tbody tr th:only-of-type {\n",
       "        vertical-align: middle;\n",
       "    }\n",
       "\n",
       "    .dataframe tbody tr th {\n",
       "        vertical-align: top;\n",
       "    }\n",
       "\n",
       "    .dataframe thead th {\n",
       "        text-align: right;\n",
       "    }\n",
       "</style>\n",
       "<table border=\"1\" class=\"dataframe\">\n",
       "  <thead>\n",
       "    <tr style=\"text-align: right;\">\n",
       "      <th></th>\n",
       "      <th>Variables</th>\n",
       "      <th>VIF</th>\n",
       "    </tr>\n",
       "  </thead>\n",
       "  <tbody>\n",
       "    <tr>\n",
       "      <th>0</th>\n",
       "      <td>Total_Stops</td>\n",
       "      <td>7.066192</td>\n",
       "    </tr>\n",
       "    <tr>\n",
       "      <th>1</th>\n",
       "      <td>journey_day</td>\n",
       "      <td>3.460860</td>\n",
       "    </tr>\n",
       "    <tr>\n",
       "      <th>2</th>\n",
       "      <td>journey_month</td>\n",
       "      <td>15.002639</td>\n",
       "    </tr>\n",
       "    <tr>\n",
       "      <th>3</th>\n",
       "      <td>dep_hour</td>\n",
       "      <td>5.762068</td>\n",
       "    </tr>\n",
       "    <tr>\n",
       "      <th>4</th>\n",
       "      <td>dep_min</td>\n",
       "      <td>2.803870</td>\n",
       "    </tr>\n",
       "    <tr>\n",
       "      <th>5</th>\n",
       "      <td>arrival_hour</td>\n",
       "      <td>4.901456</td>\n",
       "    </tr>\n",
       "    <tr>\n",
       "      <th>6</th>\n",
       "      <td>arrival_min</td>\n",
       "      <td>3.454707</td>\n",
       "    </tr>\n",
       "    <tr>\n",
       "      <th>7</th>\n",
       "      <td>Duration_hours</td>\n",
       "      <td>6.178091</td>\n",
       "    </tr>\n",
       "    <tr>\n",
       "      <th>8</th>\n",
       "      <td>Duration_mins</td>\n",
       "      <td>4.106244</td>\n",
       "    </tr>\n",
       "    <tr>\n",
       "      <th>9</th>\n",
       "      <td>Airline_Air India</td>\n",
       "      <td>5.294051</td>\n",
       "    </tr>\n",
       "    <tr>\n",
       "      <th>10</th>\n",
       "      <td>Airline_GoAir</td>\n",
       "      <td>1.456807</td>\n",
       "    </tr>\n",
       "    <tr>\n",
       "      <th>11</th>\n",
       "      <td>Airline_IndiGo</td>\n",
       "      <td>5.366422</td>\n",
       "    </tr>\n",
       "    <tr>\n",
       "      <th>12</th>\n",
       "      <td>Airline_Jet Airways</td>\n",
       "      <td>9.974795</td>\n",
       "    </tr>\n",
       "    <tr>\n",
       "      <th>13</th>\n",
       "      <td>Airline_Multiple carriers</td>\n",
       "      <td>3.936936</td>\n",
       "    </tr>\n",
       "    <tr>\n",
       "      <th>14</th>\n",
       "      <td>Airline_Other</td>\n",
       "      <td>1.050060</td>\n",
       "    </tr>\n",
       "    <tr>\n",
       "      <th>15</th>\n",
       "      <td>Airline_SpiceJet</td>\n",
       "      <td>2.730549</td>\n",
       "    </tr>\n",
       "    <tr>\n",
       "      <th>16</th>\n",
       "      <td>Airline_Vistara</td>\n",
       "      <td>2.109338</td>\n",
       "    </tr>\n",
       "    <tr>\n",
       "      <th>17</th>\n",
       "      <td>Source_Chennai</td>\n",
       "      <td>5.389241</td>\n",
       "    </tr>\n",
       "    <tr>\n",
       "      <th>18</th>\n",
       "      <td>Source_Kolkata</td>\n",
       "      <td>6.292066</td>\n",
       "    </tr>\n",
       "    <tr>\n",
       "      <th>19</th>\n",
       "      <td>Source_Mumbai</td>\n",
       "      <td>6.106446</td>\n",
       "    </tr>\n",
       "    <tr>\n",
       "      <th>20</th>\n",
       "      <td>Destination_Cochin</td>\n",
       "      <td>10.616938</td>\n",
       "    </tr>\n",
       "    <tr>\n",
       "      <th>21</th>\n",
       "      <td>Destination_Delhi</td>\n",
       "      <td>5.192319</td>\n",
       "    </tr>\n",
       "    <tr>\n",
       "      <th>22</th>\n",
       "      <td>Destination_Hyderabad</td>\n",
       "      <td>6.748551</td>\n",
       "    </tr>\n",
       "    <tr>\n",
       "      <th>23</th>\n",
       "      <td>Destination_Kolkata</td>\n",
       "      <td>5.589394</td>\n",
       "    </tr>\n",
       "  </tbody>\n",
       "</table>\n",
       "</div>"
      ]
     },
     "metadata": {
      "application/vnd.databricks.v1+output": {
       "addedWidgets": {},
       "arguments": {},
       "data": "<div>\n<style scoped>\n    .dataframe tbody tr th:only-of-type {\n        vertical-align: middle;\n    }\n\n    .dataframe tbody tr th {\n        vertical-align: top;\n    }\n\n    .dataframe thead th {\n        text-align: right;\n    }\n</style>\n<table border=\"1\" class=\"dataframe\">\n  <thead>\n    <tr style=\"text-align: right;\">\n      <th></th>\n      <th>Variables</th>\n      <th>VIF</th>\n    </tr>\n  </thead>\n  <tbody>\n    <tr>\n      <th>0</th>\n      <td>Total_Stops</td>\n      <td>7.066192</td>\n    </tr>\n    <tr>\n      <th>1</th>\n      <td>journey_day</td>\n      <td>3.460860</td>\n    </tr>\n    <tr>\n      <th>2</th>\n      <td>journey_month</td>\n      <td>15.002639</td>\n    </tr>\n    <tr>\n      <th>3</th>\n      <td>dep_hour</td>\n      <td>5.762068</td>\n    </tr>\n    <tr>\n      <th>4</th>\n      <td>dep_min</td>\n      <td>2.803870</td>\n    </tr>\n    <tr>\n      <th>5</th>\n      <td>arrival_hour</td>\n      <td>4.901456</td>\n    </tr>\n    <tr>\n      <th>6</th>\n      <td>arrival_min</td>\n      <td>3.454707</td>\n    </tr>\n    <tr>\n      <th>7</th>\n      <td>Duration_hours</td>\n      <td>6.178091</td>\n    </tr>\n    <tr>\n      <th>8</th>\n      <td>Duration_mins</td>\n      <td>4.106244</td>\n    </tr>\n    <tr>\n      <th>9</th>\n      <td>Airline_Air India</td>\n      <td>5.294051</td>\n    </tr>\n    <tr>\n      <th>10</th>\n      <td>Airline_GoAir</td>\n      <td>1.456807</td>\n    </tr>\n    <tr>\n      <th>11</th>\n      <td>Airline_IndiGo</td>\n      <td>5.366422</td>\n    </tr>\n    <tr>\n      <th>12</th>\n      <td>Airline_Jet Airways</td>\n      <td>9.974795</td>\n    </tr>\n    <tr>\n      <th>13</th>\n      <td>Airline_Multiple carriers</td>\n      <td>3.936936</td>\n    </tr>\n    <tr>\n      <th>14</th>\n      <td>Airline_Other</td>\n      <td>1.050060</td>\n    </tr>\n    <tr>\n      <th>15</th>\n      <td>Airline_SpiceJet</td>\n      <td>2.730549</td>\n    </tr>\n    <tr>\n      <th>16</th>\n      <td>Airline_Vistara</td>\n      <td>2.109338</td>\n    </tr>\n    <tr>\n      <th>17</th>\n      <td>Source_Chennai</td>\n      <td>5.389241</td>\n    </tr>\n    <tr>\n      <th>18</th>\n      <td>Source_Kolkata</td>\n      <td>6.292066</td>\n    </tr>\n    <tr>\n      <th>19</th>\n      <td>Source_Mumbai</td>\n      <td>6.106446</td>\n    </tr>\n    <tr>\n      <th>20</th>\n      <td>Destination_Cochin</td>\n      <td>10.616938</td>\n    </tr>\n    <tr>\n      <th>21</th>\n      <td>Destination_Delhi</td>\n      <td>5.192319</td>\n    </tr>\n    <tr>\n      <th>22</th>\n      <td>Destination_Hyderabad</td>\n      <td>6.748551</td>\n    </tr>\n    <tr>\n      <th>23</th>\n      <td>Destination_Kolkata</td>\n      <td>5.589394</td>\n    </tr>\n  </tbody>\n</table>\n</div>",
       "datasetInfos": [],
       "metadata": {},
       "removedWidgets": [],
       "textData": null,
       "type": "htmlSandbox"
      }
     },
     "output_type": "display_data"
    }
   ],
   "source": [
    "# Drop 'Source_Delhi'\n",
    "X = data_train.loc[:, ['Total_Stops', 'journey_day', 'journey_month', 'dep_hour',\n",
    "       'dep_min', 'arrival_hour', 'arrival_min', 'Duration_hours',\n",
    "       'Duration_mins', 'Airline_Air India', 'Airline_GoAir', 'Airline_IndiGo',\n",
    "       'Airline_Jet Airways', 'Airline_Multiple carriers', 'Airline_Other',\n",
    "       'Airline_SpiceJet', 'Airline_Vistara', 'Source_Chennai',\n",
    "       'Source_Kolkata', 'Source_Mumbai', 'Destination_Cochin',\n",
    "       'Destination_Delhi', 'Destination_Hyderabad', 'Destination_Kolkata']]\n",
    "cal_vif(X)"
   ]
  },
  {
   "cell_type": "code",
   "execution_count": 0,
   "metadata": {
    "application/vnd.databricks.v1+cell": {
     "cellMetadata": {
      "byteLimit": 2048000,
      "rowLimit": 10000
     },
     "inputWidgets": {},
     "nuid": "c2104360-fc95-42ee-9551-8d3d92f85458",
     "showTitle": false,
     "tableResultSettingsMap": {},
     "title": ""
    }
   },
   "outputs": [],
   "source": [
    "# # Drop 'Destination_Cochin'\n",
    "# X = data_train.loc[:, ['Total_Stops', 'journey_day', 'journey_month', 'dep_hour',\n",
    "#        'dep_min', 'arrival_hour', 'arrival_min', 'Duration_hours',\n",
    "#        'Duration_mins', 'Airline_Air India', 'Airline_GoAir', 'Airline_IndiGo',\n",
    "#        'Airline_Jet Airways', 'Airline_Multiple carriers', 'Airline_Other',\n",
    "#        'Airline_SpiceJet', 'Airline_Vistara', 'Source_Chennai',\n",
    "#        'Source_Kolkata', 'Source_Mumbai',\n",
    "#        'Destination_Delhi', 'Destination_Hyderabad', 'Destination_Kolkata']]\n",
    "# cal_vif(X)"
   ]
  },
  {
   "cell_type": "code",
   "execution_count": 0,
   "metadata": {
    "application/vnd.databricks.v1+cell": {
     "cellMetadata": {
      "byteLimit": 2048000,
      "rowLimit": 10000
     },
     "inputWidgets": {},
     "nuid": "664891d8-c9ad-4936-86b3-43d79c14ef0f",
     "showTitle": false,
     "tableResultSettingsMap": {},
     "title": ""
    }
   },
   "outputs": [],
   "source": [
    "from sklearn.model_selection import train_test_split\n",
    "X_train, X_test, y_train, y_test = train_test_split(X, y, test_size = 0.2, random_state = 42)"
   ]
  },
  {
   "cell_type": "code",
   "execution_count": 0,
   "metadata": {
    "application/vnd.databricks.v1+cell": {
     "cellMetadata": {
      "byteLimit": 2048000,
      "rowLimit": 10000
     },
     "inputWidgets": {},
     "nuid": "d63ab502-4db1-4b4e-8060-a9cf2364e9c1",
     "showTitle": false,
     "tableResultSettingsMap": {},
     "title": ""
    }
   },
   "outputs": [
    {
     "output_type": "stream",
     "name": "stdout",
     "output_type": "stream",
     "text": [
      "Out[32]: RandomForestRegressor()"
     ]
    }
   ],
   "source": [
    "from sklearn.ensemble import RandomForestRegressor\n",
    "randomForest_regressor = RandomForestRegressor()\n",
    "randomForest_regressor.fit(X_train,y_train)"
   ]
  },
  {
   "cell_type": "code",
   "execution_count": 0,
   "metadata": {
    "application/vnd.databricks.v1+cell": {
     "cellMetadata": {
      "byteLimit": 2048000,
      "rowLimit": 10000
     },
     "inputWidgets": {},
     "nuid": "0d9f3621-4186-4eec-8e91-1dbfccc45771",
     "showTitle": false,
     "tableResultSettingsMap": {},
     "title": ""
    }
   },
   "outputs": [
    {
     "output_type": "stream",
     "name": "stdout",
     "output_type": "stream",
     "text": [
      "Model Performance on Training Set: 95.43\nModel Performance on Test Set: 82.49\n"
     ]
    }
   ],
   "source": [
    "print('Model Performance on Training Set:', round(randomForest_regressor.score(X_train, y_train)*100,2))\n",
    "print('Model Performance on Test Set:', round(randomForest_regressor.score(X_test, y_test)*100,2))"
   ]
  },
  {
   "cell_type": "code",
   "execution_count": 0,
   "metadata": {
    "application/vnd.databricks.v1+cell": {
     "cellMetadata": {
      "byteLimit": 2048000,
      "rowLimit": 10000
     },
     "inputWidgets": {},
     "nuid": "d7ef0c26-e62e-4927-a68c-e473dbfbcee8",
     "showTitle": false,
     "tableResultSettingsMap": {},
     "title": ""
    }
   },
   "outputs": [
    {
     "output_type": "display_data",
     "data": {
      "image/png": "[encoded data removed]"
     },
     "metadata": {
      "application/vnd.databricks.v1+output": {
       "addedWidgets": {},
       "arguments": {},
       "data": "data:image/png;base64,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\n",
       "datasetInfos": [],
       "metadata": {},
       "removedWidgets": [],
       "type": "image"
      }
     },
     "output_type": "display_data"
    }
   ],
   "source": [
    "y_pred = randomForest_regressor.predict(X_test)\n",
    "plt.scatter(y_test, y_pred, alpha = 0.5)\n",
    "plt.xlabel(\"y_test\")\n",
    "plt.ylabel(\"y_pred\")\n",
    "plt.show()"
   ]
  },
  {
   "cell_type": "code",
   "execution_count": 0,
   "metadata": {
    "application/vnd.databricks.v1+cell": {
     "cellMetadata": {
      "byteLimit": 2048000,
      "rowLimit": 10000
     },
     "inputWidgets": {},
     "nuid": "c87e4e64-b73d-4aad-8a91-1dc7c04f0386",
     "showTitle": false,
     "tableResultSettingsMap": {},
     "title": ""
    }
   },
   "outputs": [
    {
     "output_type": "stream",
     "name": "stdout",
     "output_type": "stream",
     "text": [
      "MAE: 1186.3693373152958\nMSE: 3479446.5838865703\nRMSE: 1865.3274736320618\n"
     ]
    }
   ],
   "source": [
    "#Error Metrics\n",
    "from sklearn import metrics\n",
    "import numpy as np\n",
    "print('MAE:', metrics.mean_absolute_error(y_test, y_pred))\n",
    "print('MSE:', metrics.mean_squared_error(y_test, y_pred))\n",
    "print('RMSE:', np.sqrt(metrics.mean_squared_error(y_test, y_pred)))"
   ]
  },
  {
   "cell_type": "code",
   "execution_count": 0,
   "metadata": {
    "application/vnd.databricks.v1+cell": {
     "cellMetadata": {
      "byteLimit": 2048000,
      "rowLimit": 10000
     },
     "inputWidgets": {},
     "nuid": "878194c9-5704-47f8-92ca-5242a3eec063",
     "showTitle": false,
     "tableResultSettingsMap": {},
     "title": ""
    }
   },
   "outputs": [
    {
     "output_type": "stream",
     "name": "stdout",
     "output_type": "stream",
     "text": [
      "Normalized RMSE  0.06\nMax Value:  79512.0 \nMin Value:  1759.0\n"
     ]
    }
   ],
   "source": [
    "#RMSE = sqrt((PV-OV)^2/n)\n",
    "#RMSE/(max(DV)-min(DV))\n",
    "print('Normalized RMSE ', round(np.sqrt(metrics.mean_squared_error(y_test, y_pred))/(max(y_test)-min(y_test)),2))\n",
    "print('Max Value: ', max(y), '\\nMin Value: ', min(y))"
   ]
  },
  {
   "cell_type": "code",
   "execution_count": 0,
   "metadata": {
    "application/vnd.databricks.v1+cell": {
     "cellMetadata": {
      "byteLimit": 2048000,
      "rowLimit": 10000
     },
     "inputWidgets": {},
     "nuid": "52461754-df3f-42fc-bf95-8deb2d99de8d",
     "showTitle": false,
     "tableResultSettingsMap": {},
     "title": ""
    }
   },
   "outputs": [
    {
     "output_type": "stream",
     "name": "stdout",
     "output_type": "stream",
     "text": [
      "Model saved successfully!\n"
     ]
    }
   ],
   "source": [
    "import pickle\n",
    "\n",
    "# Saving the random forest regressor model\n",
    "with open('c2_flight_rf.pkl', 'wb') as file:\n",
    "    pickle.dump(randomForest_regressor, file)\n",
    "\n",
    "print(\"Model saved successfully!\")"
   ]
  },
  {
   "cell_type": "markdown",
   "metadata": {
    "application/vnd.databricks.v1+cell": {
     "cellMetadata": {
      "byteLimit": 2048000,
      "rowLimit": 10000
     },
     "inputWidgets": {},
     "nuid": "caf3e255-f437-46db-beab-22924e6f3a18",
     "showTitle": false,
     "tableResultSettingsMap": {},
     "title": ""
    }
   },
   "source": [
    "Testing on unseen Data"
   ]
  },
  {
   "cell_type": "code",
   "execution_count": 0,
   "metadata": {
    "application/vnd.databricks.v1+cell": {
     "cellMetadata": {
      "byteLimit": 2048000,
      "rowLimit": 10000
     },
     "inputWidgets": {},
     "nuid": "c9481ddc-ea70-4a71-8029-211da558adee",
     "showTitle": false,
     "tableResultSettingsMap": {},
     "title": ""
    }
   },
   "outputs": [
    {
     "output_type": "stream",
     "name": "stdout",
     "output_type": "stream",
     "text": [
      "Model loaded successfully!\n"
     ]
    }
   ],
   "source": [
    "# Loading the model\n",
    "with open('c2_flight_rf.pkl', 'rb') as file:\n",
    "    loaded_model = pickle.load(file)\n",
    "\n",
    "print(\"Model loaded successfully!\")\n"
   ]
  },
  {
   "cell_type": "code",
   "execution_count": 0,
   "metadata": {
    "application/vnd.databricks.v1+cell": {
     "cellMetadata": {
      "byteLimit": 2048000,
      "rowLimit": 10000
     },
     "inputWidgets": {},
     "nuid": "4b075c0e-c633-44e4-b7b3-41d82e4418f8",
     "showTitle": false,
     "tableResultSettingsMap": {},
     "title": ""
    }
   },
   "outputs": [
    {
     "output_type": "stream",
     "name": "stdout",
     "output_type": "stream",
     "text": [
      "Out[39]: True"
     ]
    }
   ],
   "source": [
    "# Copy the file to a local path for Pandas\n",
    "dbutils.fs.cp(\n",
    "    \"dbfs:/FileStore/shared_uploads/choudharynarendra1361s@gmail.com/a2_Unseen_Dataset.xlsx\",\n",
    "    \"file:/tmp/a2_FlightFare_Dataset.xlsx\"\n",
    ")\n"
   ]
  },
  {
   "cell_type": "code",
   "execution_count": 0,
   "metadata": {
    "application/vnd.databricks.v1+cell": {
     "cellMetadata": {
      "byteLimit": 2048000,
      "rowLimit": 10000
     },
     "inputWidgets": {},
     "nuid": "0ef07d35-bd3c-4e6d-96a1-18a873f2c83e",
     "showTitle": false,
     "tableResultSettingsMap": {},
     "title": ""
    }
   },
   "outputs": [
    {
     "output_type": "display_data",
     "data": {
      "text/html": [
       "<div>\n",
       "<style scoped>\n",
       "    .dataframe tbody tr th:only-of-type {\n",
       "        vertical-align: middle;\n",
       "    }\n",
       "\n",
       "    .dataframe tbody tr th {\n",
       "        vertical-align: top;\n",
       "    }\n",
       "\n",
       "    .dataframe thead th {\n",
       "        text-align: right;\n",
       "    }\n",
       "</style>\n",
       "<table border=\"1\" class=\"dataframe\">\n",
       "  <thead>\n",
       "    <tr style=\"text-align: right;\">\n",
       "      <th></th>\n",
       "      <th>Airline</th>\n",
       "      <th>Date_of_Journey</th>\n",
       "      <th>Source</th>\n",
       "      <th>Destination</th>\n",
       "      <th>Route</th>\n",
       "      <th>Dep_Time</th>\n",
       "      <th>Arrival_Time</th>\n",
       "      <th>Duration</th>\n",
       "      <th>Total_Stops</th>\n",
       "      <th>Additional_Info</th>\n",
       "      <th>Price</th>\n",
       "    </tr>\n",
       "  </thead>\n",
       "  <tbody>\n",
       "    <tr>\n",
       "      <th>0</th>\n",
       "      <td>Jet Airways</td>\n",
       "      <td>27/05/2019</td>\n",
       "      <td>Delhi</td>\n",
       "      <td>Cochin</td>\n",
       "      <td>DEL → BOM → COK</td>\n",
       "      <td>07:05</td>\n",
       "      <td>19:00</td>\n",
       "      <td>11h 55m</td>\n",
       "      <td>1 stop</td>\n",
       "      <td>In-flight meal not included</td>\n",
       "      <td>12898.0</td>\n",
       "    </tr>\n",
       "    <tr>\n",
       "      <th>1</th>\n",
       "      <td>IndiGo</td>\n",
       "      <td>6/03/2019</td>\n",
       "      <td>Delhi</td>\n",
       "      <td>Cochin</td>\n",
       "      <td>DEL → MAA → COK</td>\n",
       "      <td>02:05</td>\n",
       "      <td>07:25</td>\n",
       "      <td>5h 20m</td>\n",
       "      <td>1 stop</td>\n",
       "      <td>No info</td>\n",
       "      <td>10851.0</td>\n",
       "    </tr>\n",
       "    <tr>\n",
       "      <th>2</th>\n",
       "      <td>Air India</td>\n",
       "      <td>21/03/2019</td>\n",
       "      <td>Delhi</td>\n",
       "      <td>Cochin</td>\n",
       "      <td>DEL → BLR → COK</td>\n",
       "      <td>09:45</td>\n",
       "      <td>23:00</td>\n",
       "      <td>13h 15m</td>\n",
       "      <td>1 stop</td>\n",
       "      <td>No info</td>\n",
       "      <td>5704.0</td>\n",
       "    </tr>\n",
       "    <tr>\n",
       "      <th>3</th>\n",
       "      <td>Vistara</td>\n",
       "      <td>18/03/2019</td>\n",
       "      <td>Banglore</td>\n",
       "      <td>New Delhi</td>\n",
       "      <td>BLR → DEL</td>\n",
       "      <td>21:10</td>\n",
       "      <td>00:05 16 Mar</td>\n",
       "      <td>2h 55m</td>\n",
       "      <td>non-stop</td>\n",
       "      <td>No info</td>\n",
       "      <td>11598.0</td>\n",
       "    </tr>\n",
       "    <tr>\n",
       "      <th>4</th>\n",
       "      <td>Multiple carriers</td>\n",
       "      <td>27/05/2019</td>\n",
       "      <td>Delhi</td>\n",
       "      <td>Cochin</td>\n",
       "      <td>DEL → BOM → COK</td>\n",
       "      <td>08:30</td>\n",
       "      <td>19:15</td>\n",
       "      <td>10h 45m</td>\n",
       "      <td>1 stop</td>\n",
       "      <td>No info</td>\n",
       "      <td>9149.0</td>\n",
       "    </tr>\n",
       "  </tbody>\n",
       "</table>\n",
       "</div>"
      ]
     },
     "metadata": {
      "application/vnd.databricks.v1+output": {
       "addedWidgets": {},
       "arguments": {},
       "data": "<div>\n<style scoped>\n    .dataframe tbody tr th:only-of-type {\n        vertical-align: middle;\n    }\n\n    .dataframe tbody tr th {\n        vertical-align: top;\n    }\n\n    .dataframe thead th {\n        text-align: right;\n    }\n</style>\n<table border=\"1\" class=\"dataframe\">\n  <thead>\n    <tr style=\"text-align: right;\">\n      <th></th>\n      <th>Airline</th>\n      <th>Date_of_Journey</th>\n      <th>Source</th>\n      <th>Destination</th>\n      <th>Route</th>\n      <th>Dep_Time</th>\n      <th>Arrival_Time</th>\n      <th>Duration</th>\n      <th>Total_Stops</th>\n      <th>Additional_Info</th>\n      <th>Price</th>\n    </tr>\n  </thead>\n  <tbody>\n    <tr>\n      <th>0</th>\n      <td>Jet Airways</td>\n      <td>27/05/2019</td>\n      <td>Delhi</td>\n      <td>Cochin</td>\n      <td>DEL → BOM → COK</td>\n      <td>07:05</td>\n      <td>19:00</td>\n      <td>11h 55m</td>\n      <td>1 stop</td>\n      <td>In-flight meal not included</td>\n      <td>12898.0</td>\n    </tr>\n    <tr>\n      <th>1</th>\n      <td>IndiGo</td>\n      <td>6/03/2019</td>\n      <td>Delhi</td>\n      <td>Cochin</td>\n      <td>DEL → MAA → COK</td>\n      <td>02:05</td>\n      <td>07:25</td>\n      <td>5h 20m</td>\n      <td>1 stop</td>\n      <td>No info</td>\n      <td>10851.0</td>\n    </tr>\n    <tr>\n      <th>2</th>\n      <td>Air India</td>\n      <td>21/03/2019</td>\n      <td>Delhi</td>\n      <td>Cochin</td>\n      <td>DEL → BLR → COK</td>\n      <td>09:45</td>\n      <td>23:00</td>\n      <td>13h 15m</td>\n      <td>1 stop</td>\n      <td>No info</td>\n      <td>5704.0</td>\n    </tr>\n    <tr>\n      <th>3</th>\n      <td>Vistara</td>\n      <td>18/03/2019</td>\n      <td>Banglore</td>\n      <td>New Delhi</td>\n      <td>BLR → DEL</td>\n      <td>21:10</td>\n      <td>00:05 16 Mar</td>\n      <td>2h 55m</td>\n      <td>non-stop</td>\n      <td>No info</td>\n      <td>11598.0</td>\n    </tr>\n    <tr>\n      <th>4</th>\n      <td>Multiple carriers</td>\n      <td>27/05/2019</td>\n      <td>Delhi</td>\n      <td>Cochin</td>\n      <td>DEL → BOM → COK</td>\n      <td>08:30</td>\n      <td>19:15</td>\n      <td>10h 45m</td>\n      <td>1 stop</td>\n      <td>No info</td>\n      <td>9149.0</td>\n    </tr>\n  </tbody>\n</table>\n</div>",
       "datasetInfos": [],
       "metadata": {},
       "removedWidgets": [],
       "textData": null,
       "type": "htmlSandbox"
      }
     },
     "output_type": "display_data"
    }
   ],
   "source": [
    "import pandas as pd\n",
    "# Local file path\n",
    "local_path_new = \"/tmp/a2_FlightFare_Dataset.xlsx\"\n",
    "unseen_dataset = pd.read_excel(local_path_new)\n",
    "pd.set_option('display.max_columns', None)\n",
    "\n",
    "unseen_dataset.head()"
   ]
  },
  {
   "cell_type": "code",
   "execution_count": 0,
   "metadata": {
    "application/vnd.databricks.v1+cell": {
     "cellMetadata": {
      "byteLimit": 2048000,
      "rowLimit": 10000
     },
     "inputWidgets": {},
     "nuid": "5c75e85d-dbeb-4cd0-88b9-a17f7d84a587",
     "showTitle": false,
     "tableResultSettingsMap": {},
     "title": ""
    }
   },
   "outputs": [
    {
     "output_type": "display_data",
     "data": {
      "text/html": [
       "<div>\n",
       "<style scoped>\n",
       "    .dataframe tbody tr th:only-of-type {\n",
       "        vertical-align: middle;\n",
       "    }\n",
       "\n",
       "    .dataframe tbody tr th {\n",
       "        vertical-align: top;\n",
       "    }\n",
       "\n",
       "    .dataframe thead th {\n",
       "        text-align: right;\n",
       "    }\n",
       "</style>\n",
       "<table border=\"1\" class=\"dataframe\">\n",
       "  <thead>\n",
       "    <tr style=\"text-align: right;\">\n",
       "      <th></th>\n",
       "      <th>Total_Stops</th>\n",
       "      <th>Price</th>\n",
       "      <th>journey_day</th>\n",
       "      <th>journey_month</th>\n",
       "      <th>dep_hour</th>\n",
       "      <th>dep_min</th>\n",
       "      <th>arrival_hour</th>\n",
       "      <th>arrival_min</th>\n",
       "      <th>Duration_hours</th>\n",
       "      <th>Duration_mins</th>\n",
       "      <th>Airline_Air India</th>\n",
       "      <th>Airline_GoAir</th>\n",
       "      <th>Airline_IndiGo</th>\n",
       "      <th>Airline_Jet Airways</th>\n",
       "      <th>Airline_Multiple carriers</th>\n",
       "      <th>Airline_Other</th>\n",
       "      <th>Airline_SpiceJet</th>\n",
       "      <th>Airline_Vistara</th>\n",
       "      <th>Source_Chennai</th>\n",
       "      <th>Source_Delhi</th>\n",
       "      <th>Source_Kolkata</th>\n",
       "      <th>Source_Mumbai</th>\n",
       "      <th>Destination_Cochin</th>\n",
       "      <th>Destination_Delhi</th>\n",
       "      <th>Destination_Hyderabad</th>\n",
       "      <th>Destination_Kolkata</th>\n",
       "    </tr>\n",
       "  </thead>\n",
       "  <tbody>\n",
       "    <tr>\n",
       "      <th>0</th>\n",
       "      <td>1</td>\n",
       "      <td>12898.0</td>\n",
       "      <td>27</td>\n",
       "      <td>5</td>\n",
       "      <td>7</td>\n",
       "      <td>5</td>\n",
       "      <td>19</td>\n",
       "      <td>0</td>\n",
       "      <td>11</td>\n",
       "      <td>55</td>\n",
       "      <td>0</td>\n",
       "      <td>0</td>\n",
       "      <td>0</td>\n",
       "      <td>1</td>\n",
       "      <td>0</td>\n",
       "      <td>0</td>\n",
       "      <td>0</td>\n",
       "      <td>0</td>\n",
       "      <td>0</td>\n",
       "      <td>1</td>\n",
       "      <td>0</td>\n",
       "      <td>0</td>\n",
       "      <td>1</td>\n",
       "      <td>0</td>\n",
       "      <td>0</td>\n",
       "      <td>0</td>\n",
       "    </tr>\n",
       "    <tr>\n",
       "      <th>1</th>\n",
       "      <td>1</td>\n",
       "      <td>10851.0</td>\n",
       "      <td>6</td>\n",
       "      <td>3</td>\n",
       "      <td>2</td>\n",
       "      <td>5</td>\n",
       "      <td>7</td>\n",
       "      <td>25</td>\n",
       "      <td>5</td>\n",
       "      <td>20</td>\n",
       "      <td>0</td>\n",
       "      <td>0</td>\n",
       "      <td>1</td>\n",
       "      <td>0</td>\n",
       "      <td>0</td>\n",
       "      <td>0</td>\n",
       "      <td>0</td>\n",
       "      <td>0</td>\n",
       "      <td>0</td>\n",
       "      <td>1</td>\n",
       "      <td>0</td>\n",
       "      <td>0</td>\n",
       "      <td>1</td>\n",
       "      <td>0</td>\n",
       "      <td>0</td>\n",
       "      <td>0</td>\n",
       "    </tr>\n",
       "    <tr>\n",
       "      <th>2</th>\n",
       "      <td>1</td>\n",
       "      <td>5704.0</td>\n",
       "      <td>21</td>\n",
       "      <td>3</td>\n",
       "      <td>9</td>\n",
       "      <td>45</td>\n",
       "      <td>23</td>\n",
       "      <td>0</td>\n",
       "      <td>13</td>\n",
       "      <td>15</td>\n",
       "      <td>1</td>\n",
       "      <td>0</td>\n",
       "      <td>0</td>\n",
       "      <td>0</td>\n",
       "      <td>0</td>\n",
       "      <td>0</td>\n",
       "      <td>0</td>\n",
       "      <td>0</td>\n",
       "      <td>0</td>\n",
       "      <td>1</td>\n",
       "      <td>0</td>\n",
       "      <td>0</td>\n",
       "      <td>1</td>\n",
       "      <td>0</td>\n",
       "      <td>0</td>\n",
       "      <td>0</td>\n",
       "    </tr>\n",
       "    <tr>\n",
       "      <th>3</th>\n",
       "      <td>0</td>\n",
       "      <td>11598.0</td>\n",
       "      <td>18</td>\n",
       "      <td>3</td>\n",
       "      <td>21</td>\n",
       "      <td>10</td>\n",
       "      <td>0</td>\n",
       "      <td>5</td>\n",
       "      <td>2</td>\n",
       "      <td>55</td>\n",
       "      <td>0</td>\n",
       "      <td>0</td>\n",
       "      <td>0</td>\n",
       "      <td>0</td>\n",
       "      <td>0</td>\n",
       "      <td>0</td>\n",
       "      <td>0</td>\n",
       "      <td>1</td>\n",
       "      <td>0</td>\n",
       "      <td>0</td>\n",
       "      <td>0</td>\n",
       "      <td>0</td>\n",
       "      <td>0</td>\n",
       "      <td>1</td>\n",
       "      <td>0</td>\n",
       "      <td>0</td>\n",
       "    </tr>\n",
       "    <tr>\n",
       "      <th>4</th>\n",
       "      <td>1</td>\n",
       "      <td>9149.0</td>\n",
       "      <td>27</td>\n",
       "      <td>5</td>\n",
       "      <td>8</td>\n",
       "      <td>30</td>\n",
       "      <td>19</td>\n",
       "      <td>15</td>\n",
       "      <td>10</td>\n",
       "      <td>45</td>\n",
       "      <td>0</td>\n",
       "      <td>0</td>\n",
       "      <td>0</td>\n",
       "      <td>0</td>\n",
       "      <td>1</td>\n",
       "      <td>0</td>\n",
       "      <td>0</td>\n",
       "      <td>0</td>\n",
       "      <td>0</td>\n",
       "      <td>1</td>\n",
       "      <td>0</td>\n",
       "      <td>0</td>\n",
       "      <td>1</td>\n",
       "      <td>0</td>\n",
       "      <td>0</td>\n",
       "      <td>0</td>\n",
       "    </tr>\n",
       "  </tbody>\n",
       "</table>\n",
       "</div>"
      ]
     },
     "metadata": {
      "application/vnd.databricks.v1+output": {
       "addedWidgets": {},
       "arguments": {},
       "data": "<div>\n<style scoped>\n    .dataframe tbody tr th:only-of-type {\n        vertical-align: middle;\n    }\n\n    .dataframe tbody tr th {\n        vertical-align: top;\n    }\n\n    .dataframe thead th {\n        text-align: right;\n    }\n</style>\n<table border=\"1\" class=\"dataframe\">\n  <thead>\n    <tr style=\"text-align: right;\">\n      <th></th>\n      <th>Total_Stops</th>\n      <th>Price</th>\n      <th>journey_day</th>\n      <th>journey_month</th>\n      <th>dep_hour</th>\n      <th>dep_min</th>\n      <th>arrival_hour</th>\n      <th>arrival_min</th>\n      <th>Duration_hours</th>\n      <th>Duration_mins</th>\n      <th>Airline_Air India</th>\n      <th>Airline_GoAir</th>\n      <th>Airline_IndiGo</th>\n      <th>Airline_Jet Airways</th>\n      <th>Airline_Multiple carriers</th>\n      <th>Airline_Other</th>\n      <th>Airline_SpiceJet</th>\n      <th>Airline_Vistara</th>\n      <th>Source_Chennai</th>\n      <th>Source_Delhi</th>\n      <th>Source_Kolkata</th>\n      <th>Source_Mumbai</th>\n      <th>Destination_Cochin</th>\n      <th>Destination_Delhi</th>\n      <th>Destination_Hyderabad</th>\n      <th>Destination_Kolkata</th>\n    </tr>\n  </thead>\n  <tbody>\n    <tr>\n      <th>0</th>\n      <td>1</td>\n      <td>12898.0</td>\n      <td>27</td>\n      <td>5</td>\n      <td>7</td>\n      <td>5</td>\n      <td>19</td>\n      <td>0</td>\n      <td>11</td>\n      <td>55</td>\n      <td>0</td>\n      <td>0</td>\n      <td>0</td>\n      <td>1</td>\n      <td>0</td>\n      <td>0</td>\n      <td>0</td>\n      <td>0</td>\n      <td>0</td>\n      <td>1</td>\n      <td>0</td>\n      <td>0</td>\n      <td>1</td>\n      <td>0</td>\n      <td>0</td>\n      <td>0</td>\n    </tr>\n    <tr>\n      <th>1</th>\n      <td>1</td>\n      <td>10851.0</td>\n      <td>6</td>\n      <td>3</td>\n      <td>2</td>\n      <td>5</td>\n      <td>7</td>\n      <td>25</td>\n      <td>5</td>\n      <td>20</td>\n      <td>0</td>\n      <td>0</td>\n      <td>1</td>\n      <td>0</td>\n      <td>0</td>\n      <td>0</td>\n      <td>0</td>\n      <td>0</td>\n      <td>0</td>\n      <td>1</td>\n      <td>0</td>\n      <td>0</td>\n      <td>1</td>\n      <td>0</td>\n      <td>0</td>\n      <td>0</td>\n    </tr>\n    <tr>\n      <th>2</th>\n      <td>1</td>\n      <td>5704.0</td>\n      <td>21</td>\n      <td>3</td>\n      <td>9</td>\n      <td>45</td>\n      <td>23</td>\n      <td>0</td>\n      <td>13</td>\n      <td>15</td>\n      <td>1</td>\n      <td>0</td>\n      <td>0</td>\n      <td>0</td>\n      <td>0</td>\n      <td>0</td>\n      <td>0</td>\n      <td>0</td>\n      <td>0</td>\n      <td>1</td>\n      <td>0</td>\n      <td>0</td>\n      <td>1</td>\n      <td>0</td>\n      <td>0</td>\n      <td>0</td>\n    </tr>\n    <tr>\n      <th>3</th>\n      <td>0</td>\n      <td>11598.0</td>\n      <td>18</td>\n      <td>3</td>\n      <td>21</td>\n      <td>10</td>\n      <td>0</td>\n      <td>5</td>\n      <td>2</td>\n      <td>55</td>\n      <td>0</td>\n      <td>0</td>\n      <td>0</td>\n      <td>0</td>\n      <td>0</td>\n      <td>0</td>\n      <td>0</td>\n      <td>1</td>\n      <td>0</td>\n      <td>0</td>\n      <td>0</td>\n      <td>0</td>\n      <td>0</td>\n      <td>1</td>\n      <td>0</td>\n      <td>0</td>\n    </tr>\n    <tr>\n      <th>4</th>\n      <td>1</td>\n      <td>9149.0</td>\n      <td>27</td>\n      <td>5</td>\n      <td>8</td>\n      <td>30</td>\n      <td>19</td>\n      <td>15</td>\n      <td>10</td>\n      <td>45</td>\n      <td>0</td>\n      <td>0</td>\n      <td>0</td>\n      <td>0</td>\n      <td>1</td>\n      <td>0</td>\n      <td>0</td>\n      <td>0</td>\n      <td>0</td>\n      <td>1</td>\n      <td>0</td>\n      <td>0</td>\n      <td>1</td>\n      <td>0</td>\n      <td>0</td>\n      <td>0</td>\n    </tr>\n  </tbody>\n</table>\n</div>",
       "datasetInfos": [],
       "metadata": {},
       "removedWidgets": [],
       "textData": null,
       "type": "htmlSandbox"
      }
     },
     "output_type": "display_data"
    }
   ],
   "source": [
    "#feature engineering on unseen data\n",
    "# Feature Engineering on: 'Date_of_Journey'\n",
    "unseen_dataset[\"journey_day\"] = pd.to_datetime(unseen_dataset.Date_of_Journey, format=\"%d/%m/%Y\").dt.day\n",
    "unseen_dataset[\"journey_month\"] = pd.to_datetime(unseen_dataset[\"Date_of_Journey\"], format = \"%d/%m/%Y\").dt.month\n",
    "unseen_dataset.drop([\"Date_of_Journey\"], axis = 1, inplace = True)\n",
    "\n",
    "# Feature Engineering on: 'Dep_Time'\n",
    "unseen_dataset[\"dep_hour\"] = pd.to_datetime(unseen_dataset[\"Dep_Time\"]).dt.hour\n",
    "unseen_dataset[\"dep_min\"] = pd.to_datetime(unseen_dataset[\"Dep_Time\"]).dt.minute\n",
    "unseen_dataset.drop([\"Dep_Time\"], axis = 1, inplace = True)\n",
    "\n",
    "# Feature Engineering on: 'Arrival_Time'\n",
    "unseen_dataset[\"arrival_hour\"] = pd.to_datetime(unseen_dataset[\"Arrival_Time\"]).dt.hour\n",
    "unseen_dataset[\"arrival_min\"] = pd.to_datetime(unseen_dataset[\"Arrival_Time\"]).dt.minute\n",
    "unseen_dataset.drop([\"Arrival_Time\"], axis = 1, inplace = True)\n",
    "\n",
    "# Feature Engineering on: 'Duration'\n",
    "duration = list(unseen_dataset[\"Duration\"])\n",
    "for i in range(len(duration)):\n",
    "    if len(duration[i].split()) != 2:    # Check if duration contains only hour or mins\n",
    "        if \"h\" in duration[i]:\n",
    "            duration[i] = duration[i].strip() + \" 0m\"   # Adds 0 minute\n",
    "        else:\n",
    "            duration[i] = \"0h \" + duration[i]           # Adds 0 hour\n",
    "duration_hours = []\n",
    "duration_mins = []\n",
    "for i in range(len(duration)):\n",
    "    duration_hours.append(int(duration[i].split(sep = \"h\")[0]))    # Extract hours from duration\n",
    "    duration_mins.append(int(duration[i].split(sep = \"m\")[0].split()[-1]))   # Extracts only minutes from duration\n",
    "unseen_dataset[\"Duration_hours\"] = duration_hours\n",
    "unseen_dataset[\"Duration_mins\"] = duration_mins\n",
    "unseen_dataset.drop([\"Duration\"], axis = 1, inplace = True)\n",
    "\n",
    "\n",
    "# Perform feature engineering on Categorical dt variables\n",
    "# Feature Engineering on: 'Airline'\n",
    "Airline = unseen_dataset[[\"Airline\"]].copy()\n",
    "New_Airline_List = []\n",
    "Current_Airline_List = Airline['Airline']\n",
    "for carrier in Current_Airline_List:\n",
    "  if carrier in ['IndiGo', 'Air India', 'Jet Airways', 'SpiceJet',\n",
    "       'Multiple carriers', 'GoAir', 'Vistara', 'Air Asia']:\n",
    "    New_Airline_List.append(carrier)\n",
    "  else:\n",
    "    New_Airline_List.append('Other')\n",
    "Airline['Airline'] = pd.DataFrame(New_Airline_List)\n",
    "Airline = pd.get_dummies(Airline, drop_first= True)\n",
    "\n",
    "# Feature Engineering on: 'Source'\n",
    "Source = unseen_dataset[[\"Source\"]]\n",
    "Source = pd.get_dummies(Source, drop_first= True)\n",
    "Source.head()\n",
    "\n",
    "# Feature Engineering on: 'Destination'\n",
    "Destination = unseen_dataset[[\"Destination\"]].copy()\n",
    "Current_Destination_List = Destination['Destination']\n",
    "New_Destination_List = []\n",
    "for value in Current_Destination_List:\n",
    "  if value in ['New Delhi']:\n",
    "    New_Destination_List.append('Delhi')\n",
    "  else:\n",
    "    New_Destination_List.append(value)\n",
    "Destination['Destination'] = pd.DataFrame(New_Destination_List)\n",
    "Destination['Destination'].value_counts()\n",
    "Destination = pd.get_dummies(Destination, drop_first = True)\n",
    "Destination.head()\n",
    "\n",
    "# Feature Engineering on: 'Route', 'Additional_Info\n",
    "unseen_dataset.drop([\"Route\", \"Additional_Info\"], axis = 1, inplace = True)\n",
    "\n",
    "# Feature Engineering on: 'Total_Stops'\n",
    "unseen_dataset.replace({\"non-stop\": 0, \"1 stop\": 1, \"2 stops\": 2, \"3 stops\": 3, \"4 stops\": 4}, inplace = True)\n",
    "\n",
    "# Concatenate dataframe --> train_data + Airline + Source + Destination\n",
    "data_test = pd.concat([unseen_dataset, Airline, Source, Destination], axis = 1)\n",
    "data_test.drop([\"Airline\", \"Source\", \"Destination\"], axis = 1, inplace = True)\n",
    "\n",
    "# See how the test dataset looks\n",
    "data_test.head()\n"
   ]
  },
  {
   "cell_type": "code",
   "execution_count": 0,
   "metadata": {
    "application/vnd.databricks.v1+cell": {
     "cellMetadata": {
      "byteLimit": 2048000,
      "rowLimit": 10000
     },
     "inputWidgets": {},
     "nuid": "f0aa415c-7749-4374-9951-8f38487c1724",
     "showTitle": false,
     "tableResultSettingsMap": {},
     "title": ""
    }
   },
   "outputs": [],
   "source": [
    "#dropping Source_Delhi\n",
    "#testing with droping Destination_Cochin\n",
    "X_unseen = data_test.loc[:, ['Total_Stops', 'journey_day', 'journey_month', 'dep_hour',\n",
    "       'dep_min', 'arrival_hour', 'arrival_min', 'Duration_hours',\n",
    "       'Duration_mins', 'Airline_Air India', 'Airline_GoAir', 'Airline_IndiGo',\n",
    "       'Airline_Jet Airways', 'Airline_Multiple carriers', 'Airline_Other',\n",
    "       'Airline_SpiceJet', 'Airline_Vistara', 'Source_Chennai',\n",
    "       'Source_Kolkata', 'Source_Mumbai', 'Destination_Cochin',\n",
    "       'Destination_Delhi', 'Destination_Hyderabad', 'Destination_Kolkata']]\n",
    "y_unseen = data_test.iloc[:, 1]"
   ]
  },
  {
   "cell_type": "code",
   "execution_count": 0,
   "metadata": {
    "application/vnd.databricks.v1+cell": {
     "cellMetadata": {
      "byteLimit": 2048000,
      "rowLimit": 10000
     },
     "inputWidgets": {},
     "nuid": "961a7084-d5ea-4094-8971-312342710cf4",
     "showTitle": false,
     "tableResultSettingsMap": {},
     "title": ""
    }
   },
   "outputs": [],
   "source": [
    "y_pred = randomForest_regressor.predict(X_unseen)"
   ]
  },
  {
   "cell_type": "code",
   "execution_count": 0,
   "metadata": {
    "application/vnd.databricks.v1+cell": {
     "cellMetadata": {
      "byteLimit": 2048000,
      "rowLimit": 10000
     },
     "inputWidgets": {},
     "nuid": "3bf5eb13-b80d-4682-83a9-2e4d993c5c04",
     "showTitle": false,
     "tableResultSettingsMap": {},
     "title": ""
    }
   },
   "outputs": [
    {
     "output_type": "stream",
     "name": "stdout",
     "output_type": "stream",
     "text": [
      "R2 value:  0.65\nNormalized RMSE:  0.05\nMax Value:  57209.0 \nMin Value:  1759.0\n"
     ]
    }
   ],
   "source": [
    "print('R2 value: ', round(metrics.r2_score(y_unseen, y_pred),2))\n",
    "print('Normalized RMSE: ', round(np.sqrt(metrics.mean_squared_error(y_unseen, y_pred))/(max(y_unseen)-min(y_unseen)),2))\n",
    "print('Max Value: ', max(y_unseen), '\\nMin Value: ', min(y_unseen))"
   ]
  },
  {
   "cell_type": "code",
   "execution_count": 0,
   "metadata": {
    "application/vnd.databricks.v1+cell": {
     "cellMetadata": {
      "byteLimit": 2048000,
      "rowLimit": 10000
     },
     "inputWidgets": {},
     "nuid": "74879dbd-4e19-45c1-97f0-75e27a076948",
     "showTitle": false,
     "tableResultSettingsMap": {},
     "title": ""
    }
   },
   "outputs": [
    {
     "output_type": "display_data",
     "data": {
      "text/html": [
       "<div>\n",
       "<style scoped>\n",
       "    .dataframe tbody tr th:only-of-type {\n",
       "        vertical-align: middle;\n",
       "    }\n",
       "\n",
       "    .dataframe tbody tr th {\n",
       "        vertical-align: top;\n",
       "    }\n",
       "\n",
       "    .dataframe thead th {\n",
       "        text-align: right;\n",
       "    }\n",
       "</style>\n",
       "<table border=\"1\" class=\"dataframe\">\n",
       "  <thead>\n",
       "    <tr style=\"text-align: right;\">\n",
       "      <th></th>\n",
       "      <th>Airline</th>\n",
       "      <th>Date_of_Journey</th>\n",
       "      <th>Source</th>\n",
       "      <th>Destination</th>\n",
       "      <th>Route</th>\n",
       "      <th>Dep_Time</th>\n",
       "      <th>Arrival_Time</th>\n",
       "      <th>Duration</th>\n",
       "      <th>Total_Stops</th>\n",
       "      <th>Additional_Info</th>\n",
       "      <th>Price</th>\n",
       "      <th>Predicted Price</th>\n",
       "    </tr>\n",
       "  </thead>\n",
       "  <tbody>\n",
       "    <tr>\n",
       "      <th>0</th>\n",
       "      <td>Jet Airways</td>\n",
       "      <td>27/05/2019</td>\n",
       "      <td>Delhi</td>\n",
       "      <td>Cochin</td>\n",
       "      <td>DEL → BOM → COK</td>\n",
       "      <td>07:05</td>\n",
       "      <td>19:00</td>\n",
       "      <td>11h 55m</td>\n",
       "      <td>1 stop</td>\n",
       "      <td>In-flight meal not included</td>\n",
       "      <td>12898.0</td>\n",
       "      <td>15305.78150</td>\n",
       "    </tr>\n",
       "    <tr>\n",
       "      <th>1</th>\n",
       "      <td>IndiGo</td>\n",
       "      <td>6/03/2019</td>\n",
       "      <td>Delhi</td>\n",
       "      <td>Cochin</td>\n",
       "      <td>DEL → MAA → COK</td>\n",
       "      <td>02:05</td>\n",
       "      <td>07:25</td>\n",
       "      <td>5h 20m</td>\n",
       "      <td>1 stop</td>\n",
       "      <td>No info</td>\n",
       "      <td>10851.0</td>\n",
       "      <td>11282.89000</td>\n",
       "    </tr>\n",
       "    <tr>\n",
       "      <th>2</th>\n",
       "      <td>Air India</td>\n",
       "      <td>21/03/2019</td>\n",
       "      <td>Delhi</td>\n",
       "      <td>Cochin</td>\n",
       "      <td>DEL → BLR → COK</td>\n",
       "      <td>09:45</td>\n",
       "      <td>23:00</td>\n",
       "      <td>13h 15m</td>\n",
       "      <td>1 stop</td>\n",
       "      <td>No info</td>\n",
       "      <td>5704.0</td>\n",
       "      <td>6348.34000</td>\n",
       "    </tr>\n",
       "    <tr>\n",
       "      <th>3</th>\n",
       "      <td>Vistara</td>\n",
       "      <td>18/03/2019</td>\n",
       "      <td>Banglore</td>\n",
       "      <td>New Delhi</td>\n",
       "      <td>BLR → DEL</td>\n",
       "      <td>21:10</td>\n",
       "      <td>00:05 16 Mar</td>\n",
       "      <td>2h 55m</td>\n",
       "      <td>non-stop</td>\n",
       "      <td>No info</td>\n",
       "      <td>11598.0</td>\n",
       "      <td>5814.53750</td>\n",
       "    </tr>\n",
       "    <tr>\n",
       "      <th>4</th>\n",
       "      <td>Multiple carriers</td>\n",
       "      <td>27/05/2019</td>\n",
       "      <td>Delhi</td>\n",
       "      <td>Cochin</td>\n",
       "      <td>DEL → BOM → COK</td>\n",
       "      <td>08:30</td>\n",
       "      <td>19:15</td>\n",
       "      <td>10h 45m</td>\n",
       "      <td>1 stop</td>\n",
       "      <td>No info</td>\n",
       "      <td>9149.0</td>\n",
       "      <td>9286.47669</td>\n",
       "    </tr>\n",
       "  </tbody>\n",
       "</table>\n",
       "</div>"
      ]
     },
     "metadata": {
      "application/vnd.databricks.v1+output": {
       "addedWidgets": {},
       "arguments": {},
       "data": "<div>\n<style scoped>\n    .dataframe tbody tr th:only-of-type {\n        vertical-align: middle;\n    }\n\n    .dataframe tbody tr th {\n        vertical-align: top;\n    }\n\n    .dataframe thead th {\n        text-align: right;\n    }\n</style>\n<table border=\"1\" class=\"dataframe\">\n  <thead>\n    <tr style=\"text-align: right;\">\n      <th></th>\n      <th>Airline</th>\n      <th>Date_of_Journey</th>\n      <th>Source</th>\n      <th>Destination</th>\n      <th>Route</th>\n      <th>Dep_Time</th>\n      <th>Arrival_Time</th>\n      <th>Duration</th>\n      <th>Total_Stops</th>\n      <th>Additional_Info</th>\n      <th>Price</th>\n      <th>Predicted Price</th>\n    </tr>\n  </thead>\n  <tbody>\n    <tr>\n      <th>0</th>\n      <td>Jet Airways</td>\n      <td>27/05/2019</td>\n      <td>Delhi</td>\n      <td>Cochin</td>\n      <td>DEL → BOM → COK</td>\n      <td>07:05</td>\n      <td>19:00</td>\n      <td>11h 55m</td>\n      <td>1 stop</td>\n      <td>In-flight meal not included</td>\n      <td>12898.0</td>\n      <td>15305.78150</td>\n    </tr>\n    <tr>\n      <th>1</th>\n      <td>IndiGo</td>\n      <td>6/03/2019</td>\n      <td>Delhi</td>\n      <td>Cochin</td>\n      <td>DEL → MAA → COK</td>\n      <td>02:05</td>\n      <td>07:25</td>\n      <td>5h 20m</td>\n      <td>1 stop</td>\n      <td>No info</td>\n      <td>10851.0</td>\n      <td>11282.89000</td>\n    </tr>\n    <tr>\n      <th>2</th>\n      <td>Air India</td>\n      <td>21/03/2019</td>\n      <td>Delhi</td>\n      <td>Cochin</td>\n      <td>DEL → BLR → COK</td>\n      <td>09:45</td>\n      <td>23:00</td>\n      <td>13h 15m</td>\n      <td>1 stop</td>\n      <td>No info</td>\n      <td>5704.0</td>\n      <td>6348.34000</td>\n    </tr>\n    <tr>\n      <th>3</th>\n      <td>Vistara</td>\n      <td>18/03/2019</td>\n      <td>Banglore</td>\n      <td>New Delhi</td>\n      <td>BLR → DEL</td>\n      <td>21:10</td>\n      <td>00:05 16 Mar</td>\n      <td>2h 55m</td>\n      <td>non-stop</td>\n      <td>No info</td>\n      <td>11598.0</td>\n      <td>5814.53750</td>\n    </tr>\n    <tr>\n      <th>4</th>\n      <td>Multiple carriers</td>\n      <td>27/05/2019</td>\n      <td>Delhi</td>\n      <td>Cochin</td>\n      <td>DEL → BOM → COK</td>\n      <td>08:30</td>\n      <td>19:15</td>\n      <td>10h 45m</td>\n      <td>1 stop</td>\n      <td>No info</td>\n      <td>9149.0</td>\n      <td>9286.47669</td>\n    </tr>\n  </tbody>\n</table>\n</div>",
       "datasetInfos": [],
       "metadata": {},
       "removedWidgets": [],
       "textData": null,
       "type": "htmlSandbox"
      }
     },
     "output_type": "display_data"
    }
   ],
   "source": [
    "df_y_pred = pd.DataFrame(y_pred,columns= ['Predicted Price'])\n",
    "original_dataset = pd.read_excel(local_path_new)\n",
    "dfx = pd.concat([original_dataset, df_y_pred], axis=1)\n",
    "dfx.to_excel(\"c2_ModelOutput.xlsx\")\n",
    "dfx.head()"
   ]
  },
  {
   "cell_type": "code",
   "execution_count": 0,
   "metadata": {
    "application/vnd.databricks.v1+cell": {
     "cellMetadata": {
      "byteLimit": 2048000,
      "rowLimit": 10000
     },
     "inputWidgets": {},
     "nuid": "d21e69b3-49f8-485e-97c5-d8e719f750e3",
     "showTitle": false,
     "tableResultSettingsMap": {},
     "title": ""
    }
   },
   "outputs": [],
   "source": [
    "#Hyper Parameter Tunning\n",
    "from sklearn.model_selection import RandomizedSearchCV\n",
    "#Randomized Search CV\n",
    "# Number of trees in random forest\n",
    "n_estimators = [int(x) for x in np.linspace(start = 100, stop = 1200, num = 12)]\n",
    "# Number of features to consider at every split\n",
    "max_features = ['auto', 'sqrt']\n",
    "# Maximum number of levels in tree\n",
    "max_depth = [int(x) for x in np.linspace(5, 30, num = 6)]\n",
    "# Minimum number of samples required to split a node\n",
    "min_samples_split = [2, 5, 10, 15, 100]\n",
    "# Minimum number of samples required at each leaf node\n",
    "min_samples_leaf = [1, 2, 5, 10]"
   ]
  },
  {
   "cell_type": "code",
   "execution_count": 0,
   "metadata": {
    "application/vnd.databricks.v1+cell": {
     "cellMetadata": {
      "byteLimit": 2048000,
      "rowLimit": 10000
     },
     "inputWidgets": {},
     "nuid": "aeee99a3-1b67-4f2e-94d3-d24f231cbd23",
     "showTitle": false,
     "tableResultSettingsMap": {},
     "title": ""
    }
   },
   "outputs": [],
   "source": [
    "# Create the random grid\n",
    "random_grid = {'n_estimators': n_estimators,\n",
    "               'max_features': max_features,\n",
    "               'max_depth': max_depth,\n",
    "               'min_samples_split': min_samples_split,\n",
    "               'min_samples_leaf': min_samples_leaf}"
   ]
  },
  {
   "cell_type": "code",
   "execution_count": 0,
   "metadata": {
    "application/vnd.databricks.v1+cell": {
     "cellMetadata": {
      "byteLimit": 2048000,
      "rowLimit": 10000
     },
     "inputWidgets": {},
     "nuid": "d251ad05-a4e5-488c-9a45-d2cf3b645516",
     "showTitle": false,
     "tableResultSettingsMap": {},
     "title": ""
    }
   },
   "outputs": [],
   "source": [
    "# Random search of parameters, using 5 fold cross validation, \n",
    "# search across 100 different combinations\n",
    "rf_random = RandomizedSearchCV(estimator = randomForest_regressor, param_distributions = random_grid,\n",
    "                               scoring='neg_mean_squared_error', n_iter = 10, cv = 5, \n",
    "                               verbose=2, random_state=42, n_jobs = 1)"
   ]
  },
  {
   "cell_type": "code",
   "execution_count": 0,
   "metadata": {
    "application/vnd.databricks.v1+cell": {
     "cellMetadata": {
      "byteLimit": 2048000,
      "rowLimit": 10000
     },
     "inputWidgets": {},
     "nuid": "269f66a5-eb19-4167-9f4f-5f796acf30cc",
     "showTitle": false,
     "tableResultSettingsMap": {},
     "title": ""
    }
   },
   "outputs": [
    {
     "output_type": "stream",
     "name": "stdout",
     "output_type": "stream",
     "text": [
      "Fitting 5 folds for each of 10 candidates, totalling 50 fits\n[CV] END max_depth=10, max_features=sqrt, min_samples_leaf=5, min_samples_split=5, n_estimators=900; total time=   3.1s\n[CV] END max_depth=10, max_features=sqrt, min_samples_leaf=5, min_samples_split=5, n_estimators=900; total time=   3.1s\n[CV] END max_depth=10, max_features=sqrt, min_samples_leaf=5, min_samples_split=5, n_estimators=900; total time=   3.0s\n[CV] END max_depth=10, max_features=sqrt, min_samples_leaf=5, min_samples_split=5, n_estimators=900; total time=   3.0s\n[CV] END max_depth=10, max_features=sqrt, min_samples_leaf=5, min_samples_split=5, n_estimators=900; total time=   3.0s\n[CV] END max_depth=15, max_features=sqrt, min_samples_leaf=2, min_samples_split=10, n_estimators=1100; total time=   4.7s\n[CV] END max_depth=15, max_features=sqrt, min_samples_leaf=2, min_samples_split=10, n_estimators=1100; total time=   4.8s\n[CV] END max_depth=15, max_features=sqrt, min_samples_leaf=2, min_samples_split=10, n_estimators=1100; total time=   4.7s\n[CV] END max_depth=15, max_features=sqrt, min_samples_leaf=2, min_samples_split=10, n_estimators=1100; total time=   4.6s\n[CV] END max_depth=15, max_features=sqrt, min_samples_leaf=2, min_samples_split=10, n_estimators=1100; total time=   4.7s\n[CV] END max_depth=15, max_features=auto, min_samples_leaf=5, min_samples_split=100, n_estimators=300; total time=   3.0s\n[CV] END max_depth=15, max_features=auto, min_samples_leaf=5, min_samples_split=100, n_estimators=300; total time=   2.9s\n[CV] END max_depth=15, max_features=auto, min_samples_leaf=5, min_samples_split=100, n_estimators=300; total time=   3.0s\n[CV] END max_depth=15, max_features=auto, min_samples_leaf=5, min_samples_split=100, n_estimators=300; total time=   3.0s\n[CV] END max_depth=15, max_features=auto, min_samples_leaf=5, min_samples_split=100, n_estimators=300; total time=   2.9s\n[CV] END max_depth=15, max_features=auto, min_samples_leaf=5, min_samples_split=5, n_estimators=400; total time=   5.6s\n[CV] END max_depth=15, max_features=auto, min_samples_leaf=5, min_samples_split=5, n_estimators=400; total time=   5.6s\n[CV] END max_depth=15, max_features=auto, min_samples_leaf=5, min_samples_split=5, n_estimators=400; total time=   5.6s\n[CV] END max_depth=15, max_features=auto, min_samples_leaf=5, min_samples_split=5, n_estimators=400; total time=   5.4s\n[CV] END max_depth=15, max_features=auto, min_samples_leaf=5, min_samples_split=5, n_estimators=400; total time=   5.5s\n[CV] END max_depth=20, max_features=auto, min_samples_leaf=10, min_samples_split=5, n_estimators=700; total time=   8.4s\n[CV] END max_depth=20, max_features=auto, min_samples_leaf=10, min_samples_split=5, n_estimators=700; total time=   8.5s\n[CV] END max_depth=20, max_features=auto, min_samples_leaf=10, min_samples_split=5, n_estimators=700; total time=   8.4s\n[CV] END max_depth=20, max_features=auto, min_samples_leaf=10, min_samples_split=5, n_estimators=700; total time=   8.4s\n[CV] END max_depth=20, max_features=auto, min_samples_leaf=10, min_samples_split=5, n_estimators=700; total time=   8.4s\n[CV] END max_depth=25, max_features=sqrt, min_samples_leaf=1, min_samples_split=2, n_estimators=1000; total time=   6.6s\n[CV] END max_depth=25, max_features=sqrt, min_samples_leaf=1, min_samples_split=2, n_estimators=1000; total time=   6.7s\n[CV] END max_depth=25, max_features=sqrt, min_samples_leaf=1, min_samples_split=2, n_estimators=1000; total time=   6.7s\n[CV] END max_depth=25, max_features=sqrt, min_samples_leaf=1, min_samples_split=2, n_estimators=1000; total time=   6.6s\n[CV] END max_depth=25, max_features=sqrt, min_samples_leaf=1, min_samples_split=2, n_estimators=1000; total time=   6.7s\n[CV] END max_depth=5, max_features=sqrt, min_samples_leaf=10, min_samples_split=15, n_estimators=1100; total time=   2.6s\n[CV] END max_depth=5, max_features=sqrt, min_samples_leaf=10, min_samples_split=15, n_estimators=1100; total time=   2.5s\n[CV] END max_depth=5, max_features=sqrt, min_samples_leaf=10, min_samples_split=15, n_estimators=1100; total time=   2.5s\n[CV] END max_depth=5, max_features=sqrt, min_samples_leaf=10, min_samples_split=15, n_estimators=1100; total time=   2.6s\n[CV] END max_depth=5, max_features=sqrt, min_samples_leaf=10, min_samples_split=15, n_estimators=1100; total time=   2.6s\n[CV] END max_depth=15, max_features=sqrt, min_samples_leaf=1, min_samples_split=15, n_estimators=300; total time=   1.2s\n[CV] END max_depth=15, max_features=sqrt, min_samples_leaf=1, min_samples_split=15, n_estimators=300; total time=   1.2s\n[CV] END max_depth=15, max_features=sqrt, min_samples_leaf=1, min_samples_split=15, n_estimators=300; total time=   1.2s\n[CV] END max_depth=15, max_features=sqrt, min_samples_leaf=1, min_samples_split=15, n_estimators=300; total time=   1.3s\n[CV] END max_depth=15, max_features=sqrt, min_samples_leaf=1, min_samples_split=15, n_estimators=300; total time=   1.3s\n[CV] END max_depth=5, max_features=sqrt, min_samples_leaf=2, min_samples_split=10, n_estimators=700; total time=   1.6s\n[CV] END max_depth=5, max_features=sqrt, min_samples_leaf=2, min_samples_split=10, n_estimators=700; total time=   1.6s\n[CV] END max_depth=5, max_features=sqrt, min_samples_leaf=2, min_samples_split=10, n_estimators=700; total time=   1.6s\n[CV] END max_depth=5, max_features=sqrt, min_samples_leaf=2, min_samples_split=10, n_estimators=700; total time=   1.6s\n[CV] END max_depth=5, max_features=sqrt, min_samples_leaf=2, min_samples_split=10, n_estimators=700; total time=   1.6s\n[CV] END max_depth=20, max_features=auto, min_samples_leaf=1, min_samples_split=15, n_estimators=700; total time=  10.5s\n[CV] END max_depth=20, max_features=auto, min_samples_leaf=1, min_samples_split=15, n_estimators=700; total time=  10.3s\n[CV] END max_depth=20, max_features=auto, min_samples_leaf=1, min_samples_split=15, n_estimators=700; total time=  10.3s\n[CV] END max_depth=20, max_features=auto, min_samples_leaf=1, min_samples_split=15, n_estimators=700; total time=   9.8s\n[CV] END max_depth=20, max_features=auto, min_samples_leaf=1, min_samples_split=15, n_estimators=700; total time=  10.3s\nOut[49]: RandomizedSearchCV(cv=5, estimator=RandomForestRegressor(), n_jobs=1,\n                   param_distributions={'max_depth': [5, 10, 15, 20, 25, 30],\n                                        'max_features': ['auto', 'sqrt'],\n                                        'min_samples_leaf': [1, 2, 5, 10],\n                                        'min_samples_split': [2, 5, 10, 15,\n                                                              100],\n                                        'n_estimators': [100, 200, 300, 400,\n                                                         500, 600, 700, 800,\n                                                         900, 1000, 1100,\n                                                         1200]},\n                   random_state=42, scoring='neg_mean_squared_error',\n                   verbose=2)"
     ]
    }
   ],
   "source": [
    "# Model Training with Hyperparameter Tuning\n",
    "rf_random.fit(X_train,y_train)"
   ]
  },
  {
   "cell_type": "code",
   "execution_count": 0,
   "metadata": {
    "application/vnd.databricks.v1+cell": {
     "cellMetadata": {
      "byteLimit": 2048000,
      "rowLimit": 10000
     },
     "inputWidgets": {},
     "nuid": "af0964e0-dc54-41b7-981a-227cdb199bbd",
     "showTitle": false,
     "tableResultSettingsMap": {},
     "title": ""
    }
   },
   "outputs": [
    {
     "output_type": "stream",
     "name": "stdout",
     "output_type": "stream",
     "text": [
      "Out[50]: {'n_estimators': 700,\n 'min_samples_split': 15,\n 'min_samples_leaf': 1,\n 'max_features': 'auto',\n 'max_depth': 20}"
     ]
    }
   ],
   "source": [
    "rf_random.best_params_"
   ]
  },
  {
   "cell_type": "code",
   "execution_count": 0,
   "metadata": {
    "application/vnd.databricks.v1+cell": {
     "cellMetadata": {
      "byteLimit": 2048000,
      "rowLimit": 10000
     },
     "inputWidgets": {},
     "nuid": "af47254e-a77b-4b31-9506-50d4acf1be96",
     "showTitle": false,
     "tableResultSettingsMap": {},
     "title": ""
    }
   },
   "outputs": [
    {
     "output_type": "display_data",
     "data": {
      "image/png": "[encoded data removed]"
     },
     "metadata": {
      "application/vnd.databricks.v1+output": {
       "addedWidgets": {},
       "arguments": {},
       "data": "data:image/png;base64,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\n",
       "datasetInfos": [],
       "metadata": {},
       "removedWidgets": [],
       "type": "image"
      }
     },
     "output_type": "display_data"
    }
   ],
   "source": [
    "# Plot Performance Chart\n",
    "prediction = rf_random.predict(X_test)\n",
    "plt.figure(figsize = (8,8))\n",
    "plt.scatter(y_test, prediction, alpha = 0.5)\n",
    "plt.xlabel(\"y_test\")\n",
    "plt.ylabel(\"y_pred\")\n",
    "plt.show()"
   ]
  },
  {
   "cell_type": "code",
   "execution_count": 0,
   "metadata": {
    "application/vnd.databricks.v1+cell": {
     "cellMetadata": {
      "byteLimit": 2048000,
      "rowLimit": 10000
     },
     "inputWidgets": {},
     "nuid": "231f2943-dc1b-4b00-9513-e50e16ac7ddd",
     "showTitle": false,
     "tableResultSettingsMap": {},
     "title": ""
    }
   },
   "outputs": [],
   "source": [
    "prediction = rf_random.predict(X_test)"
   ]
  },
  {
   "cell_type": "code",
   "execution_count": 0,
   "metadata": {
    "application/vnd.databricks.v1+cell": {
     "cellMetadata": {
      "byteLimit": 2048000,
      "rowLimit": 10000
     },
     "inputWidgets": {},
     "nuid": "621735aa-9296-457e-8668-995bdad82e21",
     "showTitle": false,
     "tableResultSettingsMap": {},
     "title": ""
    }
   },
   "outputs": [
    {
     "output_type": "stream",
     "name": "stdout",
     "output_type": "stream",
     "text": [
      "R2 value:  0.84\nRMSE:  1776.05\nNormalized RMSE:  0.05\nMax Value:  34608.0 \nMin Value:  1840.0\n"
     ]
    }
   ],
   "source": [
    "# RMSE/(max(DV)-min(DV))\n",
    "print('R2 value: ', round(metrics.r2_score(y_test, prediction),2))\n",
    "print('RMSE: ', round(np.sqrt(metrics.mean_squared_error(y_test, prediction)),2))\n",
    "print('Normalized RMSE: ', round(np.sqrt(metrics.mean_squared_error(y_test, prediction))/(max(y_test)-min(y_test)),2))\n",
    "print('Max Value: ', max(y_test), '\\nMin Value: ', min(y_test))"
   ]
  },
  {
   "cell_type": "code",
   "execution_count": 0,
   "metadata": {
    "application/vnd.databricks.v1+cell": {
     "cellMetadata": {
      "byteLimit": 2048000,
      "rowLimit": 10000
     },
     "inputWidgets": {},
     "nuid": "22f7d1cd-7d74-4056-a509-779bbff1acd2",
     "showTitle": false,
     "tableResultSettingsMap": {},
     "title": ""
    }
   },
   "outputs": [
    {
     "output_type": "stream",
     "name": "stdout",
     "output_type": "stream",
     "text": [
      "Model Performance on Training Set: 95.43\nModel Performance on Test Set: 82.49\n"
     ]
    }
   ],
   "source": [
    "print('Model Performance on Training Set:', round(randomForest_regressor.score(X_train, y_train)*100,2))\n",
    "print('Model Performance on Test Set:', round(randomForest_regressor.score(X_test, y_test)*100,2))"
   ]
  }
 ],
 "metadata": {
  "application/vnd.databricks.v1+notebook": {
   "computePreferences": null,
   "dashboards": [],
   "environmentMetadata": null,
   "language": "python",
   "notebookMetadata": {
    "pythonIndentUnit": 4
   },
   "notebookName": "FairFare",
   "widgets": {}
  }
 },
 "nbformat": 4,
 "nbformat_minor": 0
}
